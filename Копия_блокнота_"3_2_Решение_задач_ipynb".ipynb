{
  "nbformat": 4,
  "nbformat_minor": 0,
  "metadata": {
    "colab": {
      "provenance": [],
      "include_colab_link": true
    },
    "kernelspec": {
      "name": "python3",
      "display_name": "Python 3"
    },
    "language_info": {
      "name": "python"
    }
  },
  "cells": [
    {
      "cell_type": "markdown",
      "metadata": {
        "id": "view-in-github",
        "colab_type": "text"
      },
      "source": [
        "<a href=\"https://colab.research.google.com/github/05-515/Stepik_ChatGPT/blob/main/%D0%9A%D0%BE%D0%BF%D0%B8%D1%8F_%D0%B1%D0%BB%D0%BE%D0%BA%D0%BD%D0%BE%D1%82%D0%B0_%223_2_%D0%A0%D0%B5%D1%88%D0%B5%D0%BD%D0%B8%D0%B5_%D0%B7%D0%B0%D0%B4%D0%B0%D1%87_ipynb%22.ipynb\" target=\"_parent\"><img src=\"https://colab.research.google.com/assets/colab-badge.svg\" alt=\"Open In Colab\"/></a>"
      ]
    },
    {
      "cell_type": "code",
      "execution_count": 1,
      "metadata": {
        "id": "gEG2cGnXfVBM",
        "colab": {
          "base_uri": "https://localhost:8080/"
        },
        "outputId": "c7fe9297-7de1-402a-e000-24ec9934b2a0"
      },
      "outputs": [
        {
          "output_type": "stream",
          "name": "stdout",
          "text": [
            "\u001b[2K     \u001b[90m━━━━━━━━━━━━━━━━━━━━━━━━━━━━━━━━━━━━━━━━\u001b[0m \u001b[32m50.4/50.4 kB\u001b[0m \u001b[31m1.9 MB/s\u001b[0m eta \u001b[36m0:00:00\u001b[0m\n",
            "\u001b[2K   \u001b[90m━━━━━━━━━━━━━━━━━━━━━━━━━━━━━━━━━━━━━━━━\u001b[0m \u001b[32m1.0/1.0 MB\u001b[0m \u001b[31m8.4 MB/s\u001b[0m eta \u001b[36m0:00:00\u001b[0m\n",
            "\u001b[2K   \u001b[90m━━━━━━━━━━━━━━━━━━━━━━━━━━━━━━━━━━━━━━━━\u001b[0m \u001b[32m374.2/374.2 kB\u001b[0m \u001b[31m23.6 MB/s\u001b[0m eta \u001b[36m0:00:00\u001b[0m\n",
            "\u001b[2K   \u001b[90m━━━━━━━━━━━━━━━━━━━━━━━━━━━━━━━━━━━━━━━━\u001b[0m \u001b[32m51.5/51.5 kB\u001b[0m \u001b[31m3.4 MB/s\u001b[0m eta \u001b[36m0:00:00\u001b[0m\n",
            "\u001b[2K   \u001b[90m━━━━━━━━━━━━━━━━━━━━━━━━━━━━━━━━━━━━━━━━\u001b[0m \u001b[32m2.3/2.3 MB\u001b[0m \u001b[31m37.5 MB/s\u001b[0m eta \u001b[36m0:00:00\u001b[0m\n",
            "\u001b[2K   \u001b[90m━━━━━━━━━━━━━━━━━━━━━━━━━━━━━━━━━━━━━━━━\u001b[0m \u001b[32m76.4/76.4 kB\u001b[0m \u001b[31m4.9 MB/s\u001b[0m eta \u001b[36m0:00:00\u001b[0m\n",
            "\u001b[2K   \u001b[90m━━━━━━━━━━━━━━━━━━━━━━━━━━━━━━━━━━━━━━━━\u001b[0m \u001b[32m77.9/77.9 kB\u001b[0m \u001b[31m5.2 MB/s\u001b[0m eta \u001b[36m0:00:00\u001b[0m\n",
            "\u001b[2K   \u001b[90m━━━━━━━━━━━━━━━━━━━━━━━━━━━━━━━━━━━━━━━━\u001b[0m \u001b[32m318.9/318.9 kB\u001b[0m \u001b[31m9.0 MB/s\u001b[0m eta \u001b[36m0:00:00\u001b[0m\n",
            "\u001b[2K   \u001b[90m━━━━━━━━━━━━━━━━━━━━━━━━━━━━━━━━━━━━━━━━\u001b[0m \u001b[32m405.1/405.1 kB\u001b[0m \u001b[31m19.4 MB/s\u001b[0m eta \u001b[36m0:00:00\u001b[0m\n",
            "\u001b[2K   \u001b[90m━━━━━━━━━━━━━━━━━━━━━━━━━━━━━━━━━━━━━━━━\u001b[0m \u001b[32m289.9/289.9 kB\u001b[0m \u001b[31m18.1 MB/s\u001b[0m eta \u001b[36m0:00:00\u001b[0m\n",
            "\u001b[2K   \u001b[90m━━━━━━━━━━━━━━━━━━━━━━━━━━━━━━━━━━━━━━━━\u001b[0m \u001b[32m1.1/1.1 MB\u001b[0m \u001b[31m47.1 MB/s\u001b[0m eta \u001b[36m0:00:00\u001b[0m\n",
            "\u001b[2K   \u001b[90m━━━━━━━━━━━━━━━━━━━━━━━━━━━━━━━━━━━━━━━━\u001b[0m \u001b[32m49.3/49.3 kB\u001b[0m \u001b[31m3.1 MB/s\u001b[0m eta \u001b[36m0:00:00\u001b[0m\n",
            "\u001b[2K   \u001b[90m━━━━━━━━━━━━━━━━━━━━━━━━━━━━━━━━━━━━━━━━\u001b[0m \u001b[32m141.9/141.9 kB\u001b[0m \u001b[31m9.2 MB/s\u001b[0m eta \u001b[36m0:00:00\u001b[0m\n",
            "\u001b[2K   \u001b[90m━━━━━━━━━━━━━━━━━━━━━━━━━━━━━━━━━━━━━━━━\u001b[0m \u001b[32m58.3/58.3 kB\u001b[0m \u001b[31m3.7 MB/s\u001b[0m eta \u001b[36m0:00:00\u001b[0m\n",
            "\u001b[?25h"
          ]
        }
      ],
      "source": [
        "!pip install langchain openai langchain-openai langchain-community -q"
      ]
    },
    {
      "cell_type": "code",
      "source": [
        "import re\n",
        "import pandas as pd\n",
        "from tqdm import tqdm\n",
        "from getpass import getpass\n",
        "\n",
        "from langchain.prompts import PromptTemplate\n",
        "from langchain.chains import LLMChain, TransformChain\n",
        "from langchain.output_parsers import ResponseSchema, StructuredOutputParser"
      ],
      "metadata": {
        "id": "ix68Au3nfW94"
      },
      "execution_count": 2,
      "outputs": []
    },
    {
      "cell_type": "markdown",
      "source": [
        "## Если используете ключ от OpenAI, запустите эту ячейку 👇"
      ],
      "metadata": {
        "id": "C0K7awRZfciu"
      }
    },
    {
      "cell_type": "code",
      "source": [
        "import os\n",
        "from langchain_openai import ChatOpenAI\n",
        "\n",
        "\n",
        "# os.environ['OPENAI_API_KEY'] = \"Введите ваш OpenAI API ключ\"\n",
        "os.environ['OPENAI_API_KEY'] = getpass(prompt='Введите ваш OpenAI API ключ')\n",
        "\n",
        "# Инициализируем языковую модель\n",
        "llm = ChatOpenAI(temperature=0.0)"
      ],
      "metadata": {
        "id": "oSaeU0STfbxu"
      },
      "execution_count": null,
      "outputs": []
    },
    {
      "cell_type": "markdown",
      "source": [
        "## Если используете ключ из курса, запустите эти ячейки 👇\n"
      ],
      "metadata": {
        "id": "KfBKAJ0vfiCh"
      }
    },
    {
      "cell_type": "code",
      "source": [
        "!wget https://raw.githubusercontent.com/a-milenkin/LLM_practical_course/main/notebooks/utils.py"
      ],
      "metadata": {
        "id": "mOvzGTXyfgAw",
        "colab": {
          "base_uri": "https://localhost:8080/"
        },
        "outputId": "90edd8e9-ee3c-4829-f7ec-62967ab9e005"
      },
      "execution_count": 3,
      "outputs": [
        {
          "output_type": "stream",
          "name": "stdout",
          "text": [
            "--2024-09-17 12:02:53--  https://raw.githubusercontent.com/a-milenkin/LLM_practical_course/main/notebooks/utils.py\n",
            "Resolving raw.githubusercontent.com (raw.githubusercontent.com)... 185.199.108.133, 185.199.109.133, 185.199.110.133, ...\n",
            "Connecting to raw.githubusercontent.com (raw.githubusercontent.com)|185.199.108.133|:443... connected.\n",
            "HTTP request sent, awaiting response... 200 OK\n",
            "Length: 11316 (11K) [text/plain]\n",
            "Saving to: ‘utils.py’\n",
            "\n",
            "\rutils.py              0%[                    ]       0  --.-KB/s               \rutils.py            100%[===================>]  11.05K  --.-KB/s    in 0s      \n",
            "\n",
            "2024-09-17 12:02:53 (70.4 MB/s) - ‘utils.py’ saved [11316/11316]\n",
            "\n"
          ]
        }
      ]
    },
    {
      "cell_type": "code",
      "source": [
        "from utils import ChatOpenAI\n",
        "from getpass import getpass\n",
        "\n",
        "#course_api_key= \"Введите ваш API ключ, полученный в боте курса\"\n",
        "course_api_key = getpass(prompt='Введите ваш API ключ, полученный в боте курса')\n",
        "\n",
        "# инициализируем языковую модель\n",
        "llm = ChatOpenAI(temperature=0.0, course_api_key=course_api_key)"
      ],
      "metadata": {
        "id": "_baYTEnSfex7",
        "colab": {
          "base_uri": "https://localhost:8080/"
        },
        "outputId": "9bcb2671-3074-4006-90cb-efde7620e56c"
      },
      "execution_count": 4,
      "outputs": [
        {
          "name": "stdout",
          "output_type": "stream",
          "text": [
            "Введите ваш API ключ, полученный в боте курса··········\n"
          ]
        }
      ]
    },
    {
      "cell_type": "markdown",
      "source": [
        "## Задание 3.2.9 🤔 Кажется, это что-то на LLM-ском? 🧐"
      ],
      "metadata": {
        "id": "z2JH453Ufm4L"
      }
    },
    {
      "cell_type": "code",
      "source": [
        "df = pd.read_csv(\"https://stepik.org/media/attachments/lesson/1110883/raw_texts.csv\")\n",
        "df.head()"
      ],
      "metadata": {
        "id": "HExe1XOeflIq",
        "colab": {
          "base_uri": "https://localhost:8080/",
          "height": 206
        },
        "outputId": "96a6bbfb-a4a9-41e9-fd5e-c95539719f62"
      },
      "execution_count": 5,
      "outputs": [
        {
          "output_type": "execute_result",
          "data": {
            "text/plain": [
              "                                            raw_text\n",
              "0  The sun was setting, casting long shadows over...\n",
              "1  Le soleil se couchait, jetant de longues ombre...\n",
              "2  El sol se estaba poniendo, proyectando largas ...\n",
              "3  La ciudad estaba llena de vida, sus calles lle...\n",
              "4  La ville était pleine de vie, ses rues remplie..."
            ],
            "text/html": [
              "\n",
              "  <div id=\"df-9b6d96f2-fd77-4a91-bf0b-d95495fdde67\" class=\"colab-df-container\">\n",
              "    <div>\n",
              "<style scoped>\n",
              "    .dataframe tbody tr th:only-of-type {\n",
              "        vertical-align: middle;\n",
              "    }\n",
              "\n",
              "    .dataframe tbody tr th {\n",
              "        vertical-align: top;\n",
              "    }\n",
              "\n",
              "    .dataframe thead th {\n",
              "        text-align: right;\n",
              "    }\n",
              "</style>\n",
              "<table border=\"1\" class=\"dataframe\">\n",
              "  <thead>\n",
              "    <tr style=\"text-align: right;\">\n",
              "      <th></th>\n",
              "      <th>raw_text</th>\n",
              "    </tr>\n",
              "  </thead>\n",
              "  <tbody>\n",
              "    <tr>\n",
              "      <th>0</th>\n",
              "      <td>The sun was setting, casting long shadows over...</td>\n",
              "    </tr>\n",
              "    <tr>\n",
              "      <th>1</th>\n",
              "      <td>Le soleil se couchait, jetant de longues ombre...</td>\n",
              "    </tr>\n",
              "    <tr>\n",
              "      <th>2</th>\n",
              "      <td>El sol se estaba poniendo, proyectando largas ...</td>\n",
              "    </tr>\n",
              "    <tr>\n",
              "      <th>3</th>\n",
              "      <td>La ciudad estaba llena de vida, sus calles lle...</td>\n",
              "    </tr>\n",
              "    <tr>\n",
              "      <th>4</th>\n",
              "      <td>La ville était pleine de vie, ses rues remplie...</td>\n",
              "    </tr>\n",
              "  </tbody>\n",
              "</table>\n",
              "</div>\n",
              "    <div class=\"colab-df-buttons\">\n",
              "\n",
              "  <div class=\"colab-df-container\">\n",
              "    <button class=\"colab-df-convert\" onclick=\"convertToInteractive('df-9b6d96f2-fd77-4a91-bf0b-d95495fdde67')\"\n",
              "            title=\"Convert this dataframe to an interactive table.\"\n",
              "            style=\"display:none;\">\n",
              "\n",
              "  <svg xmlns=\"http://www.w3.org/2000/svg\" height=\"24px\" viewBox=\"0 -960 960 960\">\n",
              "    <path d=\"M120-120v-720h720v720H120Zm60-500h600v-160H180v160Zm220 220h160v-160H400v160Zm0 220h160v-160H400v160ZM180-400h160v-160H180v160Zm440 0h160v-160H620v160ZM180-180h160v-160H180v160Zm440 0h160v-160H620v160Z\"/>\n",
              "  </svg>\n",
              "    </button>\n",
              "\n",
              "  <style>\n",
              "    .colab-df-container {\n",
              "      display:flex;\n",
              "      gap: 12px;\n",
              "    }\n",
              "\n",
              "    .colab-df-convert {\n",
              "      background-color: #E8F0FE;\n",
              "      border: none;\n",
              "      border-radius: 50%;\n",
              "      cursor: pointer;\n",
              "      display: none;\n",
              "      fill: #1967D2;\n",
              "      height: 32px;\n",
              "      padding: 0 0 0 0;\n",
              "      width: 32px;\n",
              "    }\n",
              "\n",
              "    .colab-df-convert:hover {\n",
              "      background-color: #E2EBFA;\n",
              "      box-shadow: 0px 1px 2px rgba(60, 64, 67, 0.3), 0px 1px 3px 1px rgba(60, 64, 67, 0.15);\n",
              "      fill: #174EA6;\n",
              "    }\n",
              "\n",
              "    .colab-df-buttons div {\n",
              "      margin-bottom: 4px;\n",
              "    }\n",
              "\n",
              "    [theme=dark] .colab-df-convert {\n",
              "      background-color: #3B4455;\n",
              "      fill: #D2E3FC;\n",
              "    }\n",
              "\n",
              "    [theme=dark] .colab-df-convert:hover {\n",
              "      background-color: #434B5C;\n",
              "      box-shadow: 0px 1px 3px 1px rgba(0, 0, 0, 0.15);\n",
              "      filter: drop-shadow(0px 1px 2px rgba(0, 0, 0, 0.3));\n",
              "      fill: #FFFFFF;\n",
              "    }\n",
              "  </style>\n",
              "\n",
              "    <script>\n",
              "      const buttonEl =\n",
              "        document.querySelector('#df-9b6d96f2-fd77-4a91-bf0b-d95495fdde67 button.colab-df-convert');\n",
              "      buttonEl.style.display =\n",
              "        google.colab.kernel.accessAllowed ? 'block' : 'none';\n",
              "\n",
              "      async function convertToInteractive(key) {\n",
              "        const element = document.querySelector('#df-9b6d96f2-fd77-4a91-bf0b-d95495fdde67');\n",
              "        const dataTable =\n",
              "          await google.colab.kernel.invokeFunction('convertToInteractive',\n",
              "                                                    [key], {});\n",
              "        if (!dataTable) return;\n",
              "\n",
              "        const docLinkHtml = 'Like what you see? Visit the ' +\n",
              "          '<a target=\"_blank\" href=https://colab.research.google.com/notebooks/data_table.ipynb>data table notebook</a>'\n",
              "          + ' to learn more about interactive tables.';\n",
              "        element.innerHTML = '';\n",
              "        dataTable['output_type'] = 'display_data';\n",
              "        await google.colab.output.renderOutput(dataTable, element);\n",
              "        const docLink = document.createElement('div');\n",
              "        docLink.innerHTML = docLinkHtml;\n",
              "        element.appendChild(docLink);\n",
              "      }\n",
              "    </script>\n",
              "  </div>\n",
              "\n",
              "\n",
              "<div id=\"df-97e0eadf-820c-4cf1-a350-ece5f6f34a99\">\n",
              "  <button class=\"colab-df-quickchart\" onclick=\"quickchart('df-97e0eadf-820c-4cf1-a350-ece5f6f34a99')\"\n",
              "            title=\"Suggest charts\"\n",
              "            style=\"display:none;\">\n",
              "\n",
              "<svg xmlns=\"http://www.w3.org/2000/svg\" height=\"24px\"viewBox=\"0 0 24 24\"\n",
              "     width=\"24px\">\n",
              "    <g>\n",
              "        <path d=\"M19 3H5c-1.1 0-2 .9-2 2v14c0 1.1.9 2 2 2h14c1.1 0 2-.9 2-2V5c0-1.1-.9-2-2-2zM9 17H7v-7h2v7zm4 0h-2V7h2v10zm4 0h-2v-4h2v4z\"/>\n",
              "    </g>\n",
              "</svg>\n",
              "  </button>\n",
              "\n",
              "<style>\n",
              "  .colab-df-quickchart {\n",
              "      --bg-color: #E8F0FE;\n",
              "      --fill-color: #1967D2;\n",
              "      --hover-bg-color: #E2EBFA;\n",
              "      --hover-fill-color: #174EA6;\n",
              "      --disabled-fill-color: #AAA;\n",
              "      --disabled-bg-color: #DDD;\n",
              "  }\n",
              "\n",
              "  [theme=dark] .colab-df-quickchart {\n",
              "      --bg-color: #3B4455;\n",
              "      --fill-color: #D2E3FC;\n",
              "      --hover-bg-color: #434B5C;\n",
              "      --hover-fill-color: #FFFFFF;\n",
              "      --disabled-bg-color: #3B4455;\n",
              "      --disabled-fill-color: #666;\n",
              "  }\n",
              "\n",
              "  .colab-df-quickchart {\n",
              "    background-color: var(--bg-color);\n",
              "    border: none;\n",
              "    border-radius: 50%;\n",
              "    cursor: pointer;\n",
              "    display: none;\n",
              "    fill: var(--fill-color);\n",
              "    height: 32px;\n",
              "    padding: 0;\n",
              "    width: 32px;\n",
              "  }\n",
              "\n",
              "  .colab-df-quickchart:hover {\n",
              "    background-color: var(--hover-bg-color);\n",
              "    box-shadow: 0 1px 2px rgba(60, 64, 67, 0.3), 0 1px 3px 1px rgba(60, 64, 67, 0.15);\n",
              "    fill: var(--button-hover-fill-color);\n",
              "  }\n",
              "\n",
              "  .colab-df-quickchart-complete:disabled,\n",
              "  .colab-df-quickchart-complete:disabled:hover {\n",
              "    background-color: var(--disabled-bg-color);\n",
              "    fill: var(--disabled-fill-color);\n",
              "    box-shadow: none;\n",
              "  }\n",
              "\n",
              "  .colab-df-spinner {\n",
              "    border: 2px solid var(--fill-color);\n",
              "    border-color: transparent;\n",
              "    border-bottom-color: var(--fill-color);\n",
              "    animation:\n",
              "      spin 1s steps(1) infinite;\n",
              "  }\n",
              "\n",
              "  @keyframes spin {\n",
              "    0% {\n",
              "      border-color: transparent;\n",
              "      border-bottom-color: var(--fill-color);\n",
              "      border-left-color: var(--fill-color);\n",
              "    }\n",
              "    20% {\n",
              "      border-color: transparent;\n",
              "      border-left-color: var(--fill-color);\n",
              "      border-top-color: var(--fill-color);\n",
              "    }\n",
              "    30% {\n",
              "      border-color: transparent;\n",
              "      border-left-color: var(--fill-color);\n",
              "      border-top-color: var(--fill-color);\n",
              "      border-right-color: var(--fill-color);\n",
              "    }\n",
              "    40% {\n",
              "      border-color: transparent;\n",
              "      border-right-color: var(--fill-color);\n",
              "      border-top-color: var(--fill-color);\n",
              "    }\n",
              "    60% {\n",
              "      border-color: transparent;\n",
              "      border-right-color: var(--fill-color);\n",
              "    }\n",
              "    80% {\n",
              "      border-color: transparent;\n",
              "      border-right-color: var(--fill-color);\n",
              "      border-bottom-color: var(--fill-color);\n",
              "    }\n",
              "    90% {\n",
              "      border-color: transparent;\n",
              "      border-bottom-color: var(--fill-color);\n",
              "    }\n",
              "  }\n",
              "</style>\n",
              "\n",
              "  <script>\n",
              "    async function quickchart(key) {\n",
              "      const quickchartButtonEl =\n",
              "        document.querySelector('#' + key + ' button');\n",
              "      quickchartButtonEl.disabled = true;  // To prevent multiple clicks.\n",
              "      quickchartButtonEl.classList.add('colab-df-spinner');\n",
              "      try {\n",
              "        const charts = await google.colab.kernel.invokeFunction(\n",
              "            'suggestCharts', [key], {});\n",
              "      } catch (error) {\n",
              "        console.error('Error during call to suggestCharts:', error);\n",
              "      }\n",
              "      quickchartButtonEl.classList.remove('colab-df-spinner');\n",
              "      quickchartButtonEl.classList.add('colab-df-quickchart-complete');\n",
              "    }\n",
              "    (() => {\n",
              "      let quickchartButtonEl =\n",
              "        document.querySelector('#df-97e0eadf-820c-4cf1-a350-ece5f6f34a99 button');\n",
              "      quickchartButtonEl.style.display =\n",
              "        google.colab.kernel.accessAllowed ? 'block' : 'none';\n",
              "    })();\n",
              "  </script>\n",
              "</div>\n",
              "    </div>\n",
              "  </div>\n"
            ],
            "application/vnd.google.colaboratory.intrinsic+json": {
              "type": "dataframe",
              "variable_name": "df",
              "summary": "{\n  \"name\": \"df\",\n  \"rows\": 13,\n  \"fields\": [\n    {\n      \"column\": \"raw_text\",\n      \"properties\": {\n        \"dtype\": \"string\",\n        \"num_unique_values\": 13,\n        \"samples\": [\n          \"\\u0412 \\u0433\\u043e\\u0440\\u043e\\u0434\\u0435 \\u0431\\u044b\\u043b\\u043e \\u043c\\u043d\\u043e\\u0436\\u0435\\u0441\\u0442\\u0432\\u043e \\u043b\\u044e\\u00a3\\u0434\\u0435\\u0439, \\u043a\\u0430\\u0436\\u0434\\u044b\\u0439 \\u0438\\u0437 \\u043a\\u043e\\u00bf\\u0442\\u043e\\u0440\\u044b\\u0445 \\u0431\\u044b\\u043b \\u0437\\u0430\\u043d\\u044f\\u0442 \\u0441\\u0432\\u043e\\u0438\\u043c\\u0438 \\u0434\\u0435\\u043b\\u0430\\u043c\\u0438. \\u0421\\u0440\\u00bf\\u0435\\u0434\\u0438 \\u044d\\u0442\\u043e\\u0439 \\u0441\\u0443\\u0435\\u0442\\u044b, \\u0418\\u0432\\u0430\\u00a3\\u043d, \\u043c\\u043e\\u043b\\u043e\\u0434\\u043e\\u0439 \\u0447\\u0435\\u043b\\u043e\\u0432\\u0435\\u043a \\u0441 \\u0431\\u043e\\u043b\\u044c\\u0448\\u0438\\u043c\\u0438 \\u043c\\u0435\\u0447\\u0442\\u0430\\u043c\\u0438, \\u043f\\u044b\\u0442\\u0430\\u043b\\u0441\\u044f \\u043d\\u0430\\u0439\\u0442\\u0438 \\u0441\\u0432\\u043e\\u0435 \\u043c\\u0435\\u0441\\u0442\\u043e. \\u0415\\u0433\\u043e \\u0434\\u0440\\u0443\\u0437\\u044c\\u044f, \\u0421\\u0435\\u0440\\u0433\\u0435\\u0439 \\u0438 \\u041c\\u0430\\u0440\\u00a1\\u0438\\u044f, \\u0432\\u0441\\u0435\\u0433\\u0434\\u0430 \\u0431\\u044b\\u043b\\u0438 \\u0440\\u044f\\u0434\\u043e\\u043c, \\u043f\\u043e\\u0434\\u0434\\u0435\\u0440\\u0436\\u0438\\u0432\\u0430\\u044f \\u0435\\u0433\\u043e \\u0432\\u043e \\u0432\\u0441\\u0435\\u0445 \\u043d\\u0430\\u0447\\u0438\\u043d\\u0430\\u043d\\u0438\\u044f\\u0445. \\u041e\\u043d\\u0438 \\u0432\\u0435\\u0440\\u0438\\u043b\\u0438 \\u0432 \\u043d\\u0435\\u0433\\u043e, \\u043a\\u043e\\u0433\\u0434\\u0430 \\u043d\\u0438\\u043a\\u0442\\u043e \\u0434\\u0440\\u0443\\u0433\\u043e\\u0439 \\u043d\\u0435 \\u0432\\u0435\\u0440\\u0438\\u043b. \\u041d\\u043e \\u0436\\u0438\\u0437\\u043d\\u044c \\u0432 \\u0433\\u043e\\u0440\\u043e\\u0434\\u0435 \\u0431\\u044b\\u043b\\u0430 \\u043d\\u0435\\u043f\\u0440\\u043e\\u0441\\u0442\\u043e\\u0439. \\u041a\\u043e\\u043d\\u043a\\u0443\\u0440\\u0435\\u043d\\u0446\\u0438\\u044f \\u0431\\u044b\\u043b\\u0430 \\u043e\\u0436\\u0435\\u0441\\u0442\\u043e\\u0447\\u0435\\u043d\\u043d\\u043e\\u0439, \\u0430 \\u0431\\u043e\\u0440\\u044c\\u0431\\u0430 - \\u0440\\u0435\\u0430\\u043b\\u044c\\u043d\\u043e\\u0439. \\u041d\\u0435\\u0441\\u043c\\u043e\\u0442\\u0440\\u044f \\u043d\\u0430 \\u0432\\u0441\\u0435 \\u0442\\u0440\\u0443\\u0434\\u043d\\u043e\\u0441\\u0442\\u0438, \\u0418\\u0432\\u0430\\u043d \\u0431\\u044b\\u043b \\u0440\\u0435\\u0448\\u0435\\u043d \\u0441\\u0434\\u0435\\u043b\\u0430\\u0442\\u044c \\u0432\\u0441\\u0435 \\u0432\\u043e\\u0437\\u043c\\u043e\\u0436\\u043d\\u043e\\u0435, \\u0447\\u0442\\u043e\\u0431\\u00a3\\u044b \\u0434\\u043e\\u0441\\u0442\\u0438\\u0447\\u044c \\u0441\\u0432\\u043e\\u0438\\u0445 \\u0446\\u0435\\u043b\\u0435\\u0439. \\u041e\\u043d \\u0437\\u043d\\u0430\\u043b, \\u0447\\u0442\\u043e \\u0435\\u043c\\u0443 \\u043f\\u0440\\u0438\\u0434\\u0435\\u0442\\u0441\\u044f \\u043c\\u043d\\u043e\\u0433\\u043e \\u0440\\u0430\\u0431\\u043e\\u0442\\u0430\\u0442\\u044c \\u0438 \\u043d\\u0438\\u043a\\u043e\\u0433\\u0434\\u0430 \\u043d\\u0435 \\u0441\\u0434\\u0430\\u0432\\u0430\\u0442\\u044c\\u0441\\u044f. \\u0415\\u0433\\u043e \\u043f\\u0443\\u0442\\u044c \\u0431\\u044b\\u043b \\u043d\\u0435\\u043f\\u0440\\u043e\\u0441\\u0442, \\u043d\\u043e \\u0431\\u043b\\u0430\\u0433\\u043e\\u0434\\u0430\\u0440\\u044f \\u043f\\u043e\\u0434\\u0434\\u0435\\u0440\\u0436\\u043a\\u0435 \\u0434\\u0440\\u0443\\u0437\\u0435\\u0439 \\u0438 \\u043d\\u0435\\u043f\\u043e\\u043a\\u043e\\u043b\\u0435\\u0431\\u0438\\u043c\\u043e\\u0439 \\u0440\\u0435\\u0448\\u0438\\u043c\\u043e\\u0441\\u0442\\u0438, \\u043e\\u043d \\u0441\\u043c\\u043e\\u0433 \\u043f\\u0440\\u0435\\u043e\\u0434\\u043e\\u043b\\u0435\\u0442\\u044c \\u0432\\u0441\\u0435 \\u043f\\u0440\\u0435\\u043f\\u044f\\u0442\\u0441\\u0442\\u0432\\u0438\\u044f \\u0438 \\u0434\\u00a1\\u043e\\u0441\\u0442\\u0438\\u0447\\u044c \\u0441\\u0432\\u043e\\u0438\\u0445 \\u043c\\u0435\\u0447\\u0442.\",\n          \"En un peque\\u00f1o pueblo situado entre la\\u00a3s m\\u00bfonta\\u00f1as y el mar, viv\\u00eda una chica llamada Maria. Era conocida por su bondad y su amor por la naturaleza. Su vida estaba llena de personajes interesantes: el viejo pescador Juan, que le contaba historias del mar, el joven Tom\\u00e1s, que se un\\u00eda a ella en sus aventuras, y su mejor amiga Emilia, que siempre estaba all\\u00ed\\u00a1 para ella. Juntos, vivieron muchas aventuras, y cada d\\u00eda era un nuevo descubrimiento para ellos\\u00a3.\",\n          \"The sun was setting, casting long shadows over the small town. Jo\\u00bfhn, a middle-aged man with a heart full of dreams, was sitting on the porch of his old house. His friends, Peter and Mary, were there with him, sharing stories of their youth. They were all from the same tow\\u00a1n, and their lives were intertwined in ways they could never have imagined. Peter, a burly man with a booming voice, was the town's blacksmith. He was a man of few words, but his actions spoke volumes. Mary, on the other hand, was the town's schoolteacher. She was a woman of great wisdom and kindness, always ready to lend a helping hand. As they s\\u00a1at there, reminiscing about the past, a sense of nostalgia washed over them. They remembered the days when they were young and full of hope, when the world seemed full of possibilities. But now, as they looked at the setting sun, they realized that those days were long gone. John, however, was not ready to give up. He still had dreams, dreams that he was determined to fulfill. He knew that it would not be easy, but he was ready to face whatever challenges came his way. With Peter and Mary by his side, he knew that he could achieve anything.\"\n        ],\n        \"semantic_type\": \"\",\n        \"description\": \"\"\n      }\n    }\n  ]\n}"
            }
          },
          "metadata": {},
          "execution_count": 5
        }
      ]
    },
    {
      "cell_type": "markdown",
      "source": [
        "Напишем функцию, которая очистит текст от ненужных символов: `¿, ¡, £`"
      ],
      "metadata": {
        "id": "lECMhfEigA2x"
      }
    },
    {
      "cell_type": "code",
      "source": [
        "df.raw_text[0]"
      ],
      "metadata": {
        "colab": {
          "base_uri": "https://localhost:8080/",
          "height": 87
        },
        "id": "E7MHIwHGEsEf",
        "outputId": "b0392eba-746f-4ef2-a893-cb9ffa25487b"
      },
      "execution_count": 12,
      "outputs": [
        {
          "output_type": "execute_result",
          "data": {
            "text/plain": [
              "\"The sun was setting, casting long shadows over the small town. Jo¿hn, a middle-aged man with a heart full of dreams, was sitting on the porch of his old house. His friends, Peter and Mary, were there with him, sharing stories of their youth. They were all from the same tow¡n, and their lives were intertwined in ways they could never have imagined. Peter, a burly man with a booming voice, was the town's blacksmith. He was a man of few words, but his actions spoke volumes. Mary, on the other hand, was the town's schoolteacher. She was a woman of great wisdom and kindness, always ready to lend a helping hand. As they s¡at there, reminiscing about the past, a sense of nostalgia washed over them. They remembered the days when they were young and full of hope, when the world seemed full of possibilities. But now, as they looked at the setting sun, they realized that those days were long gone. John, however, was not ready to give up. He still had dreams, dreams that he was determined to fulfill. He knew that it would not be easy, but he was ready to face whatever challenges came his way. With Peter and Mary by his side, he knew that he could achieve anything.\""
            ],
            "application/vnd.google.colaboratory.intrinsic+json": {
              "type": "string"
            }
          },
          "metadata": {},
          "execution_count": 12
        }
      ]
    },
    {
      "cell_type": "code",
      "source": [
        "def clean_text(inputs):\n",
        "    #text = inputs[\"raw_text\"]\n",
        "\n",
        "    # Удаляем странные символы\n",
        "    cleaned_text = re.sub(r'[¿¡£]', '', inputs)\n",
        "\n",
        "    return cleaned_text\n",
        "\n",
        "\n",
        "#print(clean_text(result.raw_text[0]))"
      ],
      "metadata": {
        "id": "kcQcCsnqgDo-"
      },
      "execution_count": 62,
      "outputs": []
    },
    {
      "cell_type": "markdown",
      "source": [
        "Будем просить у модели определять язык и имя главного персонажа и выдавать ответ в виде словаря. Для этого создадим `Output parser`, с которым вы уже познакомились в прошлых уроках."
      ],
      "metadata": {
        "id": "I5fppZD7gISy"
      }
    },
    {
      "cell_type": "code",
      "source": [
        "from langchain.output_parsers import ResponseSchema\n",
        "from langchain.output_parsers import StructuredOutputParser\n",
        "# Определим схемы ответа\n",
        "language_schema = ResponseSchema(name=\"language\",\n",
        "                             description=\"Определи язык, на котором написан текст? название языка напиши на английском языке\")\n",
        "\n",
        "person_schema = ResponseSchema(name=\"main_character\",\n",
        "                             description=\"Определи имя главного персонажа в тексте. Напиши на том языке, на котором и написан сам текст\")\n",
        "\n",
        "response_schemas = [language_schema, person_schema]\n",
        "output_parser = StructuredOutputParser.from_response_schemas(response_schemas) # Создаём парсер и подаём в него список со схемами\n",
        "format_instructions = output_parser.get_format_instructions() # Получаем инструкции по форматированию ответа"
      ],
      "metadata": {
        "id": "sMwNyCdigKr3"
      },
      "execution_count": 22,
      "outputs": []
    },
    {
      "cell_type": "code",
      "source": [
        "print(format_instructions)"
      ],
      "metadata": {
        "colab": {
          "base_uri": "https://localhost:8080/"
        },
        "id": "kUkneS6sEPpH",
        "outputId": "857e33b9-9d10-4ab0-ff94-5568090a5b81"
      },
      "execution_count": 23,
      "outputs": [
        {
          "output_type": "stream",
          "name": "stdout",
          "text": [
            "The output should be a markdown code snippet formatted in the following schema, including the leading and trailing \"```json\" and \"```\":\n",
            "\n",
            "```json\n",
            "{\n",
            "\t\"language\": string  // Определи язык, на котором написан текст? название языка напиши на английском языке\n",
            "\t\"main_character\": string  // Определи имя главного персонажа в тексте. Напиши на том языке, на котором и написан сам текст\n",
            "}\n",
            "```\n"
          ]
        }
      ]
    },
    {
      "cell_type": "markdown",
      "source": [
        "Напишем шаблон промпта со своим вопросом и инструкциями по форматированию ответа. Будем передавать в этот промпт сырой текст"
      ],
      "metadata": {
        "id": "X4sjobt8gaeC"
      }
    },
    {
      "cell_type": "code",
      "source": [
        "from langchain.prompts import ChatPromptTemplate\n",
        "\n",
        "prompt_template = \"\"\" Из следующего текста извлеки информацию:\n",
        "\n",
        "language: Определи язык, на котором написан текст. название языка напиши на английском языке\n",
        "\n",
        "main_character: Определи имя главного персонажа в тексте. Напиши на том языке, на котором и написан сам текст\n",
        "\n",
        "выведите их в виде списка Python, разделенного запятыми.\n",
        "\n",
        "text: {text}\n",
        "\n",
        "{format_instructions}\n",
        "\n",
        "\"\"\"\n",
        "prompt = PromptTemplate(input_variables=['text', 'format_instructions'], template=prompt_template)"
      ],
      "metadata": {
        "id": "YO0jk4_rgaCH"
      },
      "execution_count": 13,
      "outputs": []
    },
    {
      "cell_type": "code",
      "source": [],
      "metadata": {
        "id": "rAFJba6rGtix"
      },
      "execution_count": null,
      "outputs": []
    },
    {
      "cell_type": "code",
      "source": [
        "print(messages[0].content)"
      ],
      "metadata": {
        "colab": {
          "base_uri": "https://localhost:8080/"
        },
        "id": "PiTBDCurFD53",
        "outputId": "599d1c27-64d7-443b-822f-728026a1f702"
      },
      "execution_count": 14,
      "outputs": [
        {
          "output_type": "stream",
          "name": "stdout",
          "text": [
            " Из следующего текста извлеки информацию:\n",
            "\n",
            "language: БОпредели язык, на котором написан текст? название языка напиши на английском языке\n",
            "\n",
            "person: Определи имя главного персонажа в тексте. Напиши на том языке, на котором и написан сам текст\n",
            "\n",
            "выведите их в виде списка Python, разделенного запятыми.\n",
            "\n",
            "text: The sun was setting, casting long shadows over the small town. Jo¿hn, a middle-aged man with a heart full of dreams, was sitting on the porch of his old house. His friends, Peter and Mary, were there with him, sharing stories of their youth. They were all from the same tow¡n, and their lives were intertwined in ways they could never have imagined. Peter, a burly man with a booming voice, was the town's blacksmith. He was a man of few words, but his actions spoke volumes. Mary, on the other hand, was the town's schoolteacher. She was a woman of great wisdom and kindness, always ready to lend a helping hand. As they s¡at there, reminiscing about the past, a sense of nostalgia washed over them. They remembered the days when they were young and full of hope, when the world seemed full of possibilities. But now, as they looked at the setting sun, they realized that those days were long gone. John, however, was not ready to give up. He still had dreams, dreams that he was determined to fulfill. He knew that it would not be easy, but he was ready to face whatever challenges came his way. With Peter and Mary by his side, he knew that he could achieve anything.\n",
            "\n",
            "The output should be a markdown code snippet formatted in the following schema, including the leading and trailing \"```json\" and \"```\":\n",
            "\n",
            "```json\n",
            "{\n",
            "\t\"language\": string  // Определи язык, на котором написан текст? название языка напиши на английском языке\n",
            "\t\"person\": string  // Определи имя главного персонажа в тексте. Напиши на том языке, на котором и написан сам текст\n",
            "}\n",
            "```\n",
            "\n",
            "\n"
          ]
        }
      ]
    },
    {
      "cell_type": "code",
      "source": [
        "chat = ChatOpenAI(temperature=0.0, course_api_key=course_api_key)\n",
        "response = chat.invoke(messages)"
      ],
      "metadata": {
        "id": "vYNzxN2yFMO2"
      },
      "execution_count": 16,
      "outputs": []
    },
    {
      "cell_type": "code",
      "source": [
        "print(response.content)"
      ],
      "metadata": {
        "colab": {
          "base_uri": "https://localhost:8080/"
        },
        "id": "5hBpXapBFcMs",
        "outputId": "313705c2-7807-4755-f20c-ae383ec79980"
      },
      "execution_count": 17,
      "outputs": [
        {
          "output_type": "stream",
          "name": "stdout",
          "text": [
            "```json\n",
            "{\n",
            "\t\"language\": \"English\",\n",
            "\t\"person\": \"John\"\n",
            "}\n",
            "```\n"
          ]
        }
      ]
    },
    {
      "cell_type": "code",
      "source": [
        "output_dict = output_parser.parse(response.content)\n",
        "type(output_dict)\n",
        "output_dict.get('language')"
      ],
      "metadata": {
        "colab": {
          "base_uri": "https://localhost:8080/",
          "height": 35
        },
        "id": "jRphNPbeFt2C",
        "outputId": "754d8ca1-fe71-4b02-951d-329674a904f9"
      },
      "execution_count": 20,
      "outputs": [
        {
          "output_type": "execute_result",
          "data": {
            "text/plain": [
              "'English'"
            ],
            "application/vnd.google.colaboratory.intrinsic+json": {
              "type": "string"
            }
          },
          "metadata": {},
          "execution_count": 20
        }
      ]
    },
    {
      "cell_type": "markdown",
      "source": [
        "Создадим цепочку с помощью `LCEL`"
      ],
      "metadata": {
        "id": "Uf9zTeF4gi4H"
      }
    },
    {
      "cell_type": "code",
      "source": [
        "chain = prompt | llm # И ВСЁ!"
      ],
      "metadata": {
        "id": "u3DdWjgQggEF"
      },
      "execution_count": null,
      "outputs": []
    },
    {
      "cell_type": "code",
      "source": [
        "result = pd.read_csv(\"https://stepik.org/media/attachments/lesson/1110883/raw_texts.csv\")\n",
        "result.head()"
      ],
      "metadata": {
        "colab": {
          "base_uri": "https://localhost:8080/",
          "height": 206
        },
        "id": "M4DFgH-NMG1b",
        "outputId": "7ca05ead-de70-443b-d564-bb61248f34ba"
      },
      "execution_count": 70,
      "outputs": [
        {
          "output_type": "execute_result",
          "data": {
            "text/plain": [
              "                                            raw_text\n",
              "0  The sun was setting, casting long shadows over...\n",
              "1  Le soleil se couchait, jetant de longues ombre...\n",
              "2  El sol se estaba poniendo, proyectando largas ...\n",
              "3  La ciudad estaba llena de vida, sus calles lle...\n",
              "4  La ville était pleine de vie, ses rues remplie..."
            ],
            "text/html": [
              "\n",
              "  <div id=\"df-6ccf2a25-b21b-4c37-a846-f70461958ed1\" class=\"colab-df-container\">\n",
              "    <div>\n",
              "<style scoped>\n",
              "    .dataframe tbody tr th:only-of-type {\n",
              "        vertical-align: middle;\n",
              "    }\n",
              "\n",
              "    .dataframe tbody tr th {\n",
              "        vertical-align: top;\n",
              "    }\n",
              "\n",
              "    .dataframe thead th {\n",
              "        text-align: right;\n",
              "    }\n",
              "</style>\n",
              "<table border=\"1\" class=\"dataframe\">\n",
              "  <thead>\n",
              "    <tr style=\"text-align: right;\">\n",
              "      <th></th>\n",
              "      <th>raw_text</th>\n",
              "    </tr>\n",
              "  </thead>\n",
              "  <tbody>\n",
              "    <tr>\n",
              "      <th>0</th>\n",
              "      <td>The sun was setting, casting long shadows over...</td>\n",
              "    </tr>\n",
              "    <tr>\n",
              "      <th>1</th>\n",
              "      <td>Le soleil se couchait, jetant de longues ombre...</td>\n",
              "    </tr>\n",
              "    <tr>\n",
              "      <th>2</th>\n",
              "      <td>El sol se estaba poniendo, proyectando largas ...</td>\n",
              "    </tr>\n",
              "    <tr>\n",
              "      <th>3</th>\n",
              "      <td>La ciudad estaba llena de vida, sus calles lle...</td>\n",
              "    </tr>\n",
              "    <tr>\n",
              "      <th>4</th>\n",
              "      <td>La ville était pleine de vie, ses rues remplie...</td>\n",
              "    </tr>\n",
              "  </tbody>\n",
              "</table>\n",
              "</div>\n",
              "    <div class=\"colab-df-buttons\">\n",
              "\n",
              "  <div class=\"colab-df-container\">\n",
              "    <button class=\"colab-df-convert\" onclick=\"convertToInteractive('df-6ccf2a25-b21b-4c37-a846-f70461958ed1')\"\n",
              "            title=\"Convert this dataframe to an interactive table.\"\n",
              "            style=\"display:none;\">\n",
              "\n",
              "  <svg xmlns=\"http://www.w3.org/2000/svg\" height=\"24px\" viewBox=\"0 -960 960 960\">\n",
              "    <path d=\"M120-120v-720h720v720H120Zm60-500h600v-160H180v160Zm220 220h160v-160H400v160Zm0 220h160v-160H400v160ZM180-400h160v-160H180v160Zm440 0h160v-160H620v160ZM180-180h160v-160H180v160Zm440 0h160v-160H620v160Z\"/>\n",
              "  </svg>\n",
              "    </button>\n",
              "\n",
              "  <style>\n",
              "    .colab-df-container {\n",
              "      display:flex;\n",
              "      gap: 12px;\n",
              "    }\n",
              "\n",
              "    .colab-df-convert {\n",
              "      background-color: #E8F0FE;\n",
              "      border: none;\n",
              "      border-radius: 50%;\n",
              "      cursor: pointer;\n",
              "      display: none;\n",
              "      fill: #1967D2;\n",
              "      height: 32px;\n",
              "      padding: 0 0 0 0;\n",
              "      width: 32px;\n",
              "    }\n",
              "\n",
              "    .colab-df-convert:hover {\n",
              "      background-color: #E2EBFA;\n",
              "      box-shadow: 0px 1px 2px rgba(60, 64, 67, 0.3), 0px 1px 3px 1px rgba(60, 64, 67, 0.15);\n",
              "      fill: #174EA6;\n",
              "    }\n",
              "\n",
              "    .colab-df-buttons div {\n",
              "      margin-bottom: 4px;\n",
              "    }\n",
              "\n",
              "    [theme=dark] .colab-df-convert {\n",
              "      background-color: #3B4455;\n",
              "      fill: #D2E3FC;\n",
              "    }\n",
              "\n",
              "    [theme=dark] .colab-df-convert:hover {\n",
              "      background-color: #434B5C;\n",
              "      box-shadow: 0px 1px 3px 1px rgba(0, 0, 0, 0.15);\n",
              "      filter: drop-shadow(0px 1px 2px rgba(0, 0, 0, 0.3));\n",
              "      fill: #FFFFFF;\n",
              "    }\n",
              "  </style>\n",
              "\n",
              "    <script>\n",
              "      const buttonEl =\n",
              "        document.querySelector('#df-6ccf2a25-b21b-4c37-a846-f70461958ed1 button.colab-df-convert');\n",
              "      buttonEl.style.display =\n",
              "        google.colab.kernel.accessAllowed ? 'block' : 'none';\n",
              "\n",
              "      async function convertToInteractive(key) {\n",
              "        const element = document.querySelector('#df-6ccf2a25-b21b-4c37-a846-f70461958ed1');\n",
              "        const dataTable =\n",
              "          await google.colab.kernel.invokeFunction('convertToInteractive',\n",
              "                                                    [key], {});\n",
              "        if (!dataTable) return;\n",
              "\n",
              "        const docLinkHtml = 'Like what you see? Visit the ' +\n",
              "          '<a target=\"_blank\" href=https://colab.research.google.com/notebooks/data_table.ipynb>data table notebook</a>'\n",
              "          + ' to learn more about interactive tables.';\n",
              "        element.innerHTML = '';\n",
              "        dataTable['output_type'] = 'display_data';\n",
              "        await google.colab.output.renderOutput(dataTable, element);\n",
              "        const docLink = document.createElement('div');\n",
              "        docLink.innerHTML = docLinkHtml;\n",
              "        element.appendChild(docLink);\n",
              "      }\n",
              "    </script>\n",
              "  </div>\n",
              "\n",
              "\n",
              "<div id=\"df-7bf6d0d4-d854-4a05-abbc-7bf17e0a677a\">\n",
              "  <button class=\"colab-df-quickchart\" onclick=\"quickchart('df-7bf6d0d4-d854-4a05-abbc-7bf17e0a677a')\"\n",
              "            title=\"Suggest charts\"\n",
              "            style=\"display:none;\">\n",
              "\n",
              "<svg xmlns=\"http://www.w3.org/2000/svg\" height=\"24px\"viewBox=\"0 0 24 24\"\n",
              "     width=\"24px\">\n",
              "    <g>\n",
              "        <path d=\"M19 3H5c-1.1 0-2 .9-2 2v14c0 1.1.9 2 2 2h14c1.1 0 2-.9 2-2V5c0-1.1-.9-2-2-2zM9 17H7v-7h2v7zm4 0h-2V7h2v10zm4 0h-2v-4h2v4z\"/>\n",
              "    </g>\n",
              "</svg>\n",
              "  </button>\n",
              "\n",
              "<style>\n",
              "  .colab-df-quickchart {\n",
              "      --bg-color: #E8F0FE;\n",
              "      --fill-color: #1967D2;\n",
              "      --hover-bg-color: #E2EBFA;\n",
              "      --hover-fill-color: #174EA6;\n",
              "      --disabled-fill-color: #AAA;\n",
              "      --disabled-bg-color: #DDD;\n",
              "  }\n",
              "\n",
              "  [theme=dark] .colab-df-quickchart {\n",
              "      --bg-color: #3B4455;\n",
              "      --fill-color: #D2E3FC;\n",
              "      --hover-bg-color: #434B5C;\n",
              "      --hover-fill-color: #FFFFFF;\n",
              "      --disabled-bg-color: #3B4455;\n",
              "      --disabled-fill-color: #666;\n",
              "  }\n",
              "\n",
              "  .colab-df-quickchart {\n",
              "    background-color: var(--bg-color);\n",
              "    border: none;\n",
              "    border-radius: 50%;\n",
              "    cursor: pointer;\n",
              "    display: none;\n",
              "    fill: var(--fill-color);\n",
              "    height: 32px;\n",
              "    padding: 0;\n",
              "    width: 32px;\n",
              "  }\n",
              "\n",
              "  .colab-df-quickchart:hover {\n",
              "    background-color: var(--hover-bg-color);\n",
              "    box-shadow: 0 1px 2px rgba(60, 64, 67, 0.3), 0 1px 3px 1px rgba(60, 64, 67, 0.15);\n",
              "    fill: var(--button-hover-fill-color);\n",
              "  }\n",
              "\n",
              "  .colab-df-quickchart-complete:disabled,\n",
              "  .colab-df-quickchart-complete:disabled:hover {\n",
              "    background-color: var(--disabled-bg-color);\n",
              "    fill: var(--disabled-fill-color);\n",
              "    box-shadow: none;\n",
              "  }\n",
              "\n",
              "  .colab-df-spinner {\n",
              "    border: 2px solid var(--fill-color);\n",
              "    border-color: transparent;\n",
              "    border-bottom-color: var(--fill-color);\n",
              "    animation:\n",
              "      spin 1s steps(1) infinite;\n",
              "  }\n",
              "\n",
              "  @keyframes spin {\n",
              "    0% {\n",
              "      border-color: transparent;\n",
              "      border-bottom-color: var(--fill-color);\n",
              "      border-left-color: var(--fill-color);\n",
              "    }\n",
              "    20% {\n",
              "      border-color: transparent;\n",
              "      border-left-color: var(--fill-color);\n",
              "      border-top-color: var(--fill-color);\n",
              "    }\n",
              "    30% {\n",
              "      border-color: transparent;\n",
              "      border-left-color: var(--fill-color);\n",
              "      border-top-color: var(--fill-color);\n",
              "      border-right-color: var(--fill-color);\n",
              "    }\n",
              "    40% {\n",
              "      border-color: transparent;\n",
              "      border-right-color: var(--fill-color);\n",
              "      border-top-color: var(--fill-color);\n",
              "    }\n",
              "    60% {\n",
              "      border-color: transparent;\n",
              "      border-right-color: var(--fill-color);\n",
              "    }\n",
              "    80% {\n",
              "      border-color: transparent;\n",
              "      border-right-color: var(--fill-color);\n",
              "      border-bottom-color: var(--fill-color);\n",
              "    }\n",
              "    90% {\n",
              "      border-color: transparent;\n",
              "      border-bottom-color: var(--fill-color);\n",
              "    }\n",
              "  }\n",
              "</style>\n",
              "\n",
              "  <script>\n",
              "    async function quickchart(key) {\n",
              "      const quickchartButtonEl =\n",
              "        document.querySelector('#' + key + ' button');\n",
              "      quickchartButtonEl.disabled = true;  // To prevent multiple clicks.\n",
              "      quickchartButtonEl.classList.add('colab-df-spinner');\n",
              "      try {\n",
              "        const charts = await google.colab.kernel.invokeFunction(\n",
              "            'suggestCharts', [key], {});\n",
              "      } catch (error) {\n",
              "        console.error('Error during call to suggestCharts:', error);\n",
              "      }\n",
              "      quickchartButtonEl.classList.remove('colab-df-spinner');\n",
              "      quickchartButtonEl.classList.add('colab-df-quickchart-complete');\n",
              "    }\n",
              "    (() => {\n",
              "      let quickchartButtonEl =\n",
              "        document.querySelector('#df-7bf6d0d4-d854-4a05-abbc-7bf17e0a677a button');\n",
              "      quickchartButtonEl.style.display =\n",
              "        google.colab.kernel.accessAllowed ? 'block' : 'none';\n",
              "    })();\n",
              "  </script>\n",
              "</div>\n",
              "    </div>\n",
              "  </div>\n"
            ],
            "application/vnd.google.colaboratory.intrinsic+json": {
              "type": "dataframe",
              "variable_name": "result",
              "summary": "{\n  \"name\": \"result\",\n  \"rows\": 13,\n  \"fields\": [\n    {\n      \"column\": \"raw_text\",\n      \"properties\": {\n        \"dtype\": \"string\",\n        \"num_unique_values\": 13,\n        \"samples\": [\n          \"\\u0412 \\u0433\\u043e\\u0440\\u043e\\u0434\\u0435 \\u0431\\u044b\\u043b\\u043e \\u043c\\u043d\\u043e\\u0436\\u0435\\u0441\\u0442\\u0432\\u043e \\u043b\\u044e\\u00a3\\u0434\\u0435\\u0439, \\u043a\\u0430\\u0436\\u0434\\u044b\\u0439 \\u0438\\u0437 \\u043a\\u043e\\u00bf\\u0442\\u043e\\u0440\\u044b\\u0445 \\u0431\\u044b\\u043b \\u0437\\u0430\\u043d\\u044f\\u0442 \\u0441\\u0432\\u043e\\u0438\\u043c\\u0438 \\u0434\\u0435\\u043b\\u0430\\u043c\\u0438. \\u0421\\u0440\\u00bf\\u0435\\u0434\\u0438 \\u044d\\u0442\\u043e\\u0439 \\u0441\\u0443\\u0435\\u0442\\u044b, \\u0418\\u0432\\u0430\\u00a3\\u043d, \\u043c\\u043e\\u043b\\u043e\\u0434\\u043e\\u0439 \\u0447\\u0435\\u043b\\u043e\\u0432\\u0435\\u043a \\u0441 \\u0431\\u043e\\u043b\\u044c\\u0448\\u0438\\u043c\\u0438 \\u043c\\u0435\\u0447\\u0442\\u0430\\u043c\\u0438, \\u043f\\u044b\\u0442\\u0430\\u043b\\u0441\\u044f \\u043d\\u0430\\u0439\\u0442\\u0438 \\u0441\\u0432\\u043e\\u0435 \\u043c\\u0435\\u0441\\u0442\\u043e. \\u0415\\u0433\\u043e \\u0434\\u0440\\u0443\\u0437\\u044c\\u044f, \\u0421\\u0435\\u0440\\u0433\\u0435\\u0439 \\u0438 \\u041c\\u0430\\u0440\\u00a1\\u0438\\u044f, \\u0432\\u0441\\u0435\\u0433\\u0434\\u0430 \\u0431\\u044b\\u043b\\u0438 \\u0440\\u044f\\u0434\\u043e\\u043c, \\u043f\\u043e\\u0434\\u0434\\u0435\\u0440\\u0436\\u0438\\u0432\\u0430\\u044f \\u0435\\u0433\\u043e \\u0432\\u043e \\u0432\\u0441\\u0435\\u0445 \\u043d\\u0430\\u0447\\u0438\\u043d\\u0430\\u043d\\u0438\\u044f\\u0445. \\u041e\\u043d\\u0438 \\u0432\\u0435\\u0440\\u0438\\u043b\\u0438 \\u0432 \\u043d\\u0435\\u0433\\u043e, \\u043a\\u043e\\u0433\\u0434\\u0430 \\u043d\\u0438\\u043a\\u0442\\u043e \\u0434\\u0440\\u0443\\u0433\\u043e\\u0439 \\u043d\\u0435 \\u0432\\u0435\\u0440\\u0438\\u043b. \\u041d\\u043e \\u0436\\u0438\\u0437\\u043d\\u044c \\u0432 \\u0433\\u043e\\u0440\\u043e\\u0434\\u0435 \\u0431\\u044b\\u043b\\u0430 \\u043d\\u0435\\u043f\\u0440\\u043e\\u0441\\u0442\\u043e\\u0439. \\u041a\\u043e\\u043d\\u043a\\u0443\\u0440\\u0435\\u043d\\u0446\\u0438\\u044f \\u0431\\u044b\\u043b\\u0430 \\u043e\\u0436\\u0435\\u0441\\u0442\\u043e\\u0447\\u0435\\u043d\\u043d\\u043e\\u0439, \\u0430 \\u0431\\u043e\\u0440\\u044c\\u0431\\u0430 - \\u0440\\u0435\\u0430\\u043b\\u044c\\u043d\\u043e\\u0439. \\u041d\\u0435\\u0441\\u043c\\u043e\\u0442\\u0440\\u044f \\u043d\\u0430 \\u0432\\u0441\\u0435 \\u0442\\u0440\\u0443\\u0434\\u043d\\u043e\\u0441\\u0442\\u0438, \\u0418\\u0432\\u0430\\u043d \\u0431\\u044b\\u043b \\u0440\\u0435\\u0448\\u0435\\u043d \\u0441\\u0434\\u0435\\u043b\\u0430\\u0442\\u044c \\u0432\\u0441\\u0435 \\u0432\\u043e\\u0437\\u043c\\u043e\\u0436\\u043d\\u043e\\u0435, \\u0447\\u0442\\u043e\\u0431\\u00a3\\u044b \\u0434\\u043e\\u0441\\u0442\\u0438\\u0447\\u044c \\u0441\\u0432\\u043e\\u0438\\u0445 \\u0446\\u0435\\u043b\\u0435\\u0439. \\u041e\\u043d \\u0437\\u043d\\u0430\\u043b, \\u0447\\u0442\\u043e \\u0435\\u043c\\u0443 \\u043f\\u0440\\u0438\\u0434\\u0435\\u0442\\u0441\\u044f \\u043c\\u043d\\u043e\\u0433\\u043e \\u0440\\u0430\\u0431\\u043e\\u0442\\u0430\\u0442\\u044c \\u0438 \\u043d\\u0438\\u043a\\u043e\\u0433\\u0434\\u0430 \\u043d\\u0435 \\u0441\\u0434\\u0430\\u0432\\u0430\\u0442\\u044c\\u0441\\u044f. \\u0415\\u0433\\u043e \\u043f\\u0443\\u0442\\u044c \\u0431\\u044b\\u043b \\u043d\\u0435\\u043f\\u0440\\u043e\\u0441\\u0442, \\u043d\\u043e \\u0431\\u043b\\u0430\\u0433\\u043e\\u0434\\u0430\\u0440\\u044f \\u043f\\u043e\\u0434\\u0434\\u0435\\u0440\\u0436\\u043a\\u0435 \\u0434\\u0440\\u0443\\u0437\\u0435\\u0439 \\u0438 \\u043d\\u0435\\u043f\\u043e\\u043a\\u043e\\u043b\\u0435\\u0431\\u0438\\u043c\\u043e\\u0439 \\u0440\\u0435\\u0448\\u0438\\u043c\\u043e\\u0441\\u0442\\u0438, \\u043e\\u043d \\u0441\\u043c\\u043e\\u0433 \\u043f\\u0440\\u0435\\u043e\\u0434\\u043e\\u043b\\u0435\\u0442\\u044c \\u0432\\u0441\\u0435 \\u043f\\u0440\\u0435\\u043f\\u044f\\u0442\\u0441\\u0442\\u0432\\u0438\\u044f \\u0438 \\u0434\\u00a1\\u043e\\u0441\\u0442\\u0438\\u0447\\u044c \\u0441\\u0432\\u043e\\u0438\\u0445 \\u043c\\u0435\\u0447\\u0442.\",\n          \"En un peque\\u00f1o pueblo situado entre la\\u00a3s m\\u00bfonta\\u00f1as y el mar, viv\\u00eda una chica llamada Maria. Era conocida por su bondad y su amor por la naturaleza. Su vida estaba llena de personajes interesantes: el viejo pescador Juan, que le contaba historias del mar, el joven Tom\\u00e1s, que se un\\u00eda a ella en sus aventuras, y su mejor amiga Emilia, que siempre estaba all\\u00ed\\u00a1 para ella. Juntos, vivieron muchas aventuras, y cada d\\u00eda era un nuevo descubrimiento para ellos\\u00a3.\",\n          \"The sun was setting, casting long shadows over the small town. Jo\\u00bfhn, a middle-aged man with a heart full of dreams, was sitting on the porch of his old house. His friends, Peter and Mary, were there with him, sharing stories of their youth. They were all from the same tow\\u00a1n, and their lives were intertwined in ways they could never have imagined. Peter, a burly man with a booming voice, was the town's blacksmith. He was a man of few words, but his actions spoke volumes. Mary, on the other hand, was the town's schoolteacher. She was a woman of great wisdom and kindness, always ready to lend a helping hand. As they s\\u00a1at there, reminiscing about the past, a sense of nostalgia washed over them. They remembered the days when they were young and full of hope, when the world seemed full of possibilities. But now, as they looked at the setting sun, they realized that those days were long gone. John, however, was not ready to give up. He still had dreams, dreams that he was determined to fulfill. He knew that it would not be easy, but he was ready to face whatever challenges came his way. With Peter and Mary by his side, he knew that he could achieve anything.\"\n        ],\n        \"semantic_type\": \"\",\n        \"description\": \"\"\n      }\n    }\n  ]\n}"
            }
          },
          "metadata": {},
          "execution_count": 70
        }
      ]
    },
    {
      "cell_type": "code",
      "source": [
        "results = []\n",
        "for text in tqdm(result['raw_text']):\n",
        "    answer = chain.invoke({'text': text, 'format_instructions': format_instructions})\n",
        "    output_dict = output_parser.parse(answer.content)\n",
        "    results.append({\n",
        "            'text': clean_text(text),\n",
        "            'language': output_dict.get('language'),\n",
        "            'main_character': output_dict.get('main_character')\n",
        "    })\n",
        "    #result.at[index, 'text'] = clean_text(result['raw_text'])\n",
        "    #result.at[index, 'language'] = answer.content('language')\n",
        "    #result.at[index, 'main_character'] = answer.content('main_character')\n",
        "    #break # Для отладки. Уберите, когда убедитесь, что на одном примере работает\n",
        "result = pd.DataFrame(results)\n",
        "print(result)"
      ],
      "metadata": {
        "id": "ZrDjre54gpVs",
        "colab": {
          "base_uri": "https://localhost:8080/"
        },
        "outputId": "c4bbb576-19df-491c-f992-2c9003785a74"
      },
      "execution_count": 71,
      "outputs": [
        {
          "output_type": "stream",
          "name": "stderr",
          "text": [
            "100%|██████████| 13/13 [00:12<00:00,  1.03it/s]"
          ]
        },
        {
          "output_type": "stream",
          "name": "stdout",
          "text": [
            "                                                 text language main_character\n",
            "0   The sun was setting, casting long shadows over...  English           John\n",
            "1   Le soleil se couchait, jetant de longues ombre...   French         Pierre\n",
            "2   El sol se estaba poniendo, proyectando largas ...  Spanish         Carlos\n",
            "3   La ciudad estaba llena de vida, sus calles lle...  Spanish           Juan\n",
            "4   La ville était pleine de vie, ses rues remplie...   French           Jean\n",
            "5   Die Stadt war voller Leben, ihre Straßen gefül...   German         Johann\n",
            "6   Die Sonne ging unter und warf lange Schatten ü...   German           Hans\n",
            "7   В тихом уголке старого города, где узкие улочк...  Russian           Анна\n",
            "8   In a small town nestled between the mountains ...  English          Laura\n",
            "9   En un pequeño pueblo situado entre las montaña...  Spanish          Maria\n",
            "10  Dans un petit village niché entre les montagne...   French         Sophie\n",
            "11  В городе было множество людей, каждый из котор...  Russian           Иван\n",
            "12  La città era piena di vita, le strade piene de...  Italian       Giovanni\n"
          ]
        },
        {
          "output_type": "stream",
          "name": "stderr",
          "text": [
            "\n"
          ]
        }
      ]
    },
    {
      "cell_type": "code",
      "source": [
        "print(answer.content)"
      ],
      "metadata": {
        "colab": {
          "base_uri": "https://localhost:8080/"
        },
        "id": "YEQv7z2kJdrJ",
        "outputId": "07142421-f241-48a1-fee7-d4060ab31eec"
      },
      "execution_count": 25,
      "outputs": [
        {
          "output_type": "stream",
          "name": "stdout",
          "text": [
            "```json\n",
            "{\n",
            "\t\"language\": \"English\",\n",
            "\t\"main_character\": \"John\"\n",
            "}\n",
            "```\n"
          ]
        }
      ]
    },
    {
      "cell_type": "markdown",
      "source": [
        "Сохраним всё в итоговый файл. Убедитесь, что на этом этапе у вас в столбцах\n",
        "\n",
        "- `text` - очищенный текст (без символов ¿, ¡, £)\n",
        "- `language` - язык, на котором написан текст (название языка указать на английском языке)\n",
        "- `main_character` - имя главного персонажа в тексте (указать на том языке, на котором и написан сам текст)"
      ],
      "metadata": {
        "id": "HsW9_cn6gy7-"
      }
    },
    {
      "cell_type": "code",
      "source": [],
      "metadata": {
        "id": "uk2u0E2PKWlD"
      },
      "execution_count": null,
      "outputs": []
    },
    {
      "cell_type": "code",
      "source": [],
      "metadata": {
        "id": "p9CUjXZsgveh"
      },
      "execution_count": null,
      "outputs": []
    },
    {
      "cell_type": "code",
      "source": [
        "from google.colab import drive\n",
        "drive.mount('/content/drive')"
      ],
      "metadata": {
        "colab": {
          "base_uri": "https://localhost:8080/"
        },
        "id": "FnAv9Z09Ciwh",
        "outputId": "5b96f5c9-1266-4a75-92e0-5efd3e316a13"
      },
      "execution_count": 64,
      "outputs": [
        {
          "output_type": "stream",
          "name": "stdout",
          "text": [
            "Mounted at /content/drive\n"
          ]
        }
      ]
    },
    {
      "cell_type": "code",
      "source": [
        "result.to_csv('/content/drive/My Drive/3.2.9_solution.csv', index=False)"
      ],
      "metadata": {
        "id": "_uF1IGilCmKK"
      },
      "execution_count": 72,
      "outputs": []
    }
  ]
}