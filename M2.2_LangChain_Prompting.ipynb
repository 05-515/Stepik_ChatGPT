{
  "cells": [
    {
      "cell_type": "markdown",
      "id": "ac2cfafa",
      "metadata": {
        "tags": [],
        "id": "ac2cfafa"
      },
      "source": [
        "# <center id=\"c1\"><h2> 🦜🔗 `LangChain` - упрости работу с LLM! </h2>\n",
        "\n",
        "<img src='https://github.com/05-515/Stepik_ChatGPT/blob/images/LangChain.webp?raw=1' align=\"right\" width=\"528\" height=\"528\" >\n",
        "\n",
        "## Оглавление ноутбука:\n",
        "\n",
        " * <a href=\"#c1\"> 🦜🔗 О фрэймворке `LangChain`  </a>\n",
        " * <a href=\"#c2\"> 🧾 Prompt template - формируй промпт с кайфом! </a>\n",
        "   * <a href=\"#look1\"> 🗣 ChatPromptTemplate  </a>\n",
        "   * <a href=\"#check1\"> 📸 FewShotPromptTemplate </a>\n",
        "   * <a href=\"#check2\"> 📏 LongBasedExampleSelector </a>\n",
        "* <a href=\"#look2\"> 🤷‍ Output parsers - приведи выход модели к нужному виду!</a>\n",
        "    * <a href=\"#look2\"> 📤 Парсер заданных полей в ответе  </a>\n",
        "    * <a href=\"#check4\"> ▶️ ⏸ ⏯ StructuredOutputParser - разбираем выходную строку из LLM в словарь Python. </a>\n",
        "* <a href=\"#6\">🧸 Выводы и заключения</a>"
      ]
    },
    {
      "cell_type": "markdown",
      "id": "ec059397-8d9f-4dcf-9874-64e6265850f7",
      "metadata": {
        "id": "ec059397-8d9f-4dcf-9874-64e6265850f7"
      },
      "source": [
        "<div class=\"alert alert-info\">\n",
        "    \n",
        "* [`LangChain`](https://docs.langchain.com/docs/) - фреймворк для работы с языковыми моделями, позволяющий сильно ускорить процесс создания вашего AI продукта. Был представлен в октябре 2022 года, с тех пор продолжает развиваться и собирать армию пользователей.\n",
        "* На данный момент поддерживаются более 50 форматов и источников откуда можно считывать данные, SQL и NoSQL базы данных, веб-поисковики Goggle и Bing, хранилища Amazon, Google, and Microsoft Azure.\n",
        "* Работает по принципу **LEGO** - из набора деталек, предоставленных разработчиками, можно легко собрать как продуктовую тележку, так и гоночный болид.   <br>\n"
      ]
    },
    {
      "cell_type": "markdown",
      "id": "d6f7dd6d-15ad-4b4b-93f2-aaba16280dfa",
      "metadata": {
        "id": "d6f7dd6d-15ad-4b4b-93f2-aaba16280dfa"
      },
      "source": [
        "\n",
        "**Основные компоненты:**\n",
        "\n",
        "* **🤖 Модели ([Models](https://docs.langchain.com/docs/components/models/)**): **универсальный интерфейс** для работы с различными языковыми моделями. Можно использовать API OpenAI, HuggingFace, Anthropic и других. Также есть возможность работать с локальными моделями.\n",
        "\n",
        "* **📝 Промпты ([Prompts](https://docs.langchain.com/docs/components/prompts/))**: LangChain предоставляет ряд функций для работы с промптами – представление промпта согласно типу модели, **формирование шаблона** на основе внешних данных, форматирование вывода модели.\n",
        "\n",
        "* **🗑 Индексы ([Indexs](https://docs.langchain.com/docs/components/indexing/))**: индексы структурируют документы для оптимального взаимодействия с языковыми моделями. Модуль включает функции для работы с документами, индексами и их использованием в цепочках. В том числе **поддерживает индексы, основанные на векторных базах данных**.\n",
        "\n",
        "* **🧠 Память ([Memory](https://docs.langchain.com/docs/components/memory/))**: позволяет сохраняет состояния в цепочках. Например, для создания чат-бота можно **сохранять предыдущие вопросы и ответы**. Существует два типа памяти: краткосрочная и долгосрочная. Краткосрочная память передает данные в рамках одного разговора. Долгосрочная память отвечает за доступ и обновление информации между разговорами.\n",
        "\n",
        "* **🔗 Цепочки ([Chains](https://docs.langchain.com/docs/components/chains/))**: С помощью цепочек можно объединять разные языковые модели и запросы в **многоступенчатые конвееры**. Цепочки могут быть применены для разговоров, ответов на вопросы, суммаризаций и других сценариев.\n",
        "\n",
        "* **🥷 Агенты ([Agents](https://docs.langchain.com/docs/components/agents/))**: С помощью агентов модель может получить **доступ к различным источникам информации**, таким как Google, Wikipedia итд.\n",
        "\n",
        "** 🦜 Причём тут попугаи?*: Большие языковые модели часто сравнивают с говорящими попугаями, которые могут произносить текст как люди, но не понимают смысла произнесенного."
      ]
    },
    {
      "cell_type": "markdown",
      "id": "8d75fe56-8f36-4526-bd72-4df8085cfeed",
      "metadata": {
        "id": "8d75fe56-8f36-4526-bd72-4df8085cfeed"
      },
      "source": [
        "В этом ноутбуке будем разбираться как `LangChain` упрощает работу с промптами."
      ]
    },
    {
      "cell_type": "markdown",
      "id": "527e0e15-2fce-44d0-a341-cf7f7a872d83",
      "metadata": {
        "id": "527e0e15-2fce-44d0-a341-cf7f7a872d83"
      },
      "source": [
        "# <center> 🔑 Вводим ключ"
      ]
    },
    {
      "cell_type": "code",
      "execution_count": 16,
      "id": "0a0dc993-6239-4b27-99b4-b752fb708538",
      "metadata": {
        "tags": [],
        "id": "0a0dc993-6239-4b27-99b4-b752fb708538"
      },
      "outputs": [],
      "source": [
        "import os\n",
        "from getpass import getpass\n",
        "import warnings\n",
        "warnings.filterwarnings('ignore')"
      ]
    },
    {
      "cell_type": "code",
      "execution_count": 11,
      "id": "9febfbad-5120-488c-ac89-2ea5d8c9339a",
      "metadata": {
        "tags": [],
        "colab": {
          "base_uri": "https://localhost:8080/"
        },
        "id": "9febfbad-5120-488c-ac89-2ea5d8c9339a",
        "outputId": "94ba4dfd-2e52-4cbb-8947-9ded769054b1"
      },
      "outputs": [
        {
          "output_type": "stream",
          "name": "stdout",
          "text": [
            "\u001b[2K     \u001b[90m━━━━━━━━━━━━━━━━━━━━━━━━━━━━━━━━━━━━━━━━\u001b[0m \u001b[32m50.4/50.4 kB\u001b[0m \u001b[31m1.8 MB/s\u001b[0m eta \u001b[36m0:00:00\u001b[0m\n",
            "\u001b[2K   \u001b[90m━━━━━━━━━━━━━━━━━━━━━━━━━━━━━━━━━━━━━━━━\u001b[0m \u001b[32m1.0/1.0 MB\u001b[0m \u001b[31m12.6 MB/s\u001b[0m eta \u001b[36m0:00:00\u001b[0m\n",
            "\u001b[2K   \u001b[90m━━━━━━━━━━━━━━━━━━━━━━━━━━━━━━━━━━━━━━━━\u001b[0m \u001b[32m51.6/51.6 kB\u001b[0m \u001b[31m4.3 MB/s\u001b[0m eta \u001b[36m0:00:00\u001b[0m\n",
            "\u001b[2K   \u001b[90m━━━━━━━━━━━━━━━━━━━━━━━━━━━━━━━━━━━━━━━━\u001b[0m \u001b[32m1.1/1.1 MB\u001b[0m \u001b[31m41.4 MB/s\u001b[0m eta \u001b[36m0:00:00\u001b[0m\n",
            "\u001b[2K   \u001b[90m━━━━━━━━━━━━━━━━━━━━━━━━━━━━━━━━━━━━━━━━\u001b[0m \u001b[32m396.6/396.6 kB\u001b[0m \u001b[31m26.1 MB/s\u001b[0m eta \u001b[36m0:00:00\u001b[0m\n",
            "\u001b[2K   \u001b[90m━━━━━━━━━━━━━━━━━━━━━━━━━━━━━━━━━━━━━━━━\u001b[0m \u001b[32m289.8/289.8 kB\u001b[0m \u001b[31m23.5 MB/s\u001b[0m eta \u001b[36m0:00:00\u001b[0m\n",
            "\u001b[2K   \u001b[90m━━━━━━━━━━━━━━━━━━━━━━━━━━━━━━━━━━━━━━━━\u001b[0m \u001b[32m141.9/141.9 kB\u001b[0m \u001b[31m12.3 MB/s\u001b[0m eta \u001b[36m0:00:00\u001b[0m\n",
            "\u001b[?25h"
          ]
        }
      ],
      "source": [
        "!pip install langchain langchain-openai openai tiktoken -q"
      ]
    },
    {
      "cell_type": "code",
      "execution_count": 14,
      "id": "78277539-0f1e-44b6-a745-c23e7ec0f2e5",
      "metadata": {
        "jupyter": {
          "source_hidden": true
        },
        "tags": [],
        "colab": {
          "base_uri": "https://localhost:8080/"
        },
        "id": "78277539-0f1e-44b6-a745-c23e7ec0f2e5",
        "outputId": "968799ac-85e7-4fdd-8384-67ac506a01cd"
      },
      "outputs": [
        {
          "output_type": "stream",
          "name": "stdout",
          "text": [
            "--2024-09-13 16:51:52--  https://raw.githubusercontent.com/a-milenkin/LLM_practical_course/main/notebooks/utils.py\n",
            "Resolving raw.githubusercontent.com (raw.githubusercontent.com)... 185.199.108.133, 185.199.111.133, 185.199.109.133, ...\n",
            "Connecting to raw.githubusercontent.com (raw.githubusercontent.com)|185.199.108.133|:443... connected.\n",
            "HTTP request sent, awaiting response... 200 OK\n",
            "Length: 11184 (11K) [text/plain]\n",
            "Saving to: ‘utils.py’\n",
            "\n",
            "utils.py            100%[===================>]  10.92K  --.-KB/s    in 0s      \n",
            "\n",
            "2024-09-13 16:51:53 (30.7 MB/s) - ‘utils.py’ saved [11184/11184]\n",
            "\n"
          ]
        }
      ],
      "source": [
        "# Для работы в колабе загрузите наш скрипт для использования ChatGPT на сервере курса!\n",
        "!wget https://raw.githubusercontent.com/a-milenkin/LLM_practical_course/main/notebooks/utils.py"
      ]
    },
    {
      "cell_type": "code",
      "execution_count": null,
      "id": "ccd3083b-a534-4f4c-a008-d4eb822210ab",
      "metadata": {
        "tags": [],
        "id": "ccd3083b-a534-4f4c-a008-d4eb822210ab"
      },
      "outputs": [],
      "source": [
        "# # Если используете ключ от OpenAI, запустите эту ячейку\n",
        "# from langchain_openai import ChatOpenAI\n",
        "\n",
        "# # os.environ['OPENAI_API_KEY'] = \"Введите ваш OpenAI API ключ\"\n",
        "# os.environ['OPENAI_API_KEY'] = getpass(prompt='Введите ваш OpenAI API ключ')\n",
        "\n",
        "# # инициализируем языковую модель\n",
        "# llm = ChatOpenAI(temperature=0.0)"
      ]
    },
    {
      "cell_type": "code",
      "execution_count": 17,
      "id": "bd76f574-b8e5-4820-96a4-972fc5ac25ad",
      "metadata": {
        "tags": [],
        "colab": {
          "base_uri": "https://localhost:8080/"
        },
        "id": "bd76f574-b8e5-4820-96a4-972fc5ac25ad",
        "outputId": "e6022773-ffb1-4e01-b41e-4de6da8a865b"
      },
      "outputs": [
        {
          "name": "stdout",
          "output_type": "stream",
          "text": [
            "Введите API ключ··········\n"
          ]
        }
      ],
      "source": [
        "# Если используете ключ из курса, запустите эту ячейку\n",
        "from utils import ChatOpenAI\n",
        "\n",
        "#course_api_key= \"Введите ваш OpenAI API ключ\"\n",
        "course_api_key = getpass(prompt='Введите API ключ')\n",
        "\n",
        "# инициализируем языковую модель\n",
        "llm = ChatOpenAI(temperature=0.0, course_api_key=course_api_key)"
      ]
    },
    {
      "cell_type": "markdown",
      "id": "85332176-4858-4ae4-a14d-802e9d47e01b",
      "metadata": {
        "tags": [],
        "id": "85332176-4858-4ae4-a14d-802e9d47e01b"
      },
      "source": [
        "Вспомним, что мы делали в предыдущем ноутбуке: напишем промпт"
      ]
    },
    {
      "cell_type": "code",
      "execution_count": 18,
      "id": "4fe3e165-4b7b-4216-bed4-66483b0e4105",
      "metadata": {
        "tags": [],
        "id": "4fe3e165-4b7b-4216-bed4-66483b0e4105"
      },
      "outputs": [],
      "source": [
        "prompt = \"\"\"Ответь на вопрос, опираясь на контекст ниже.\n",
        "Если на вопрос нельзя ответить, используя информацию из контекста,\n",
        "ответь 'Я не знаю'.\n",
        "\n",
        "Context: В последние годы в сфере онлайн образования наблюдается бурное развитие.\n",
        "Открывается большое количество платформ для хостинга курсов.\n",
        "Одни из самых крупных платформ в мире, это Coursera и Udemi.\n",
        "В России лидером является Stepik.\n",
        "\n",
        "Question: На каких онлайн платформах можно размещать курсы?\n",
        "\n",
        "Answer: \"\"\""
      ]
    },
    {
      "cell_type": "code",
      "execution_count": 19,
      "id": "35706991-4c0c-49c5-a209-292341ba64ef",
      "metadata": {
        "tags": [],
        "colab": {
          "base_uri": "https://localhost:8080/"
        },
        "id": "35706991-4c0c-49c5-a209-292341ba64ef",
        "outputId": "7207e075-883f-4772-de58-3b6cecc1f8ed"
      },
      "outputs": [
        {
          "output_type": "stream",
          "name": "stdout",
          "text": [
            "Coursera, Udemi, Stepik.\n"
          ]
        }
      ],
      "source": [
        "print(llm.invoke(prompt).content)"
      ]
    },
    {
      "cell_type": "markdown",
      "id": "3daec071-4bca-43d9-b43d-da4385fd2511",
      "metadata": {
        "id": "3daec071-4bca-43d9-b43d-da4385fd2511"
      },
      "source": [
        "# <center id=\"c2\"> 🧾 `Prompt` `template` - формируй промпт с кайфом!"
      ]
    },
    {
      "cell_type": "markdown",
      "id": "a3ccc936-df2e-40da-aae7-42e5d3ffe672",
      "metadata": {
        "id": "a3ccc936-df2e-40da-aae7-42e5d3ffe672"
      },
      "source": [
        "<div class=\"alert alert-info\">\n",
        "\n",
        "Обычно мы заранее не знаем, что пользователь захочет спросить у модели, опираясь на предложенный контекст. Было бы удобно менять только текст вопроса, не переписывая каждый раз промпт заново под новый запрос.<br>\n",
        "    "
      ]
    },
    {
      "cell_type": "markdown",
      "id": "e4794dc9-1dcb-428f-9bd1-47295620fc95",
      "metadata": {
        "id": "e4794dc9-1dcb-428f-9bd1-47295620fc95"
      },
      "source": [
        "Здесь на сцену выходит новая сущность из библиотеки `LangChain` - `Template`(Шаблон промпта). <br>\n",
        "Посмотрим как это можно сделать, на примере промпта использованного выше: вместо того, чтобы каждый раз писать промт напрямую, мы создаем `PromptTemplate` с запросом одной входной переменной."
      ]
    },
    {
      "cell_type": "code",
      "execution_count": 9,
      "id": "735f64eb-172a-478f-a19d-3344f2b974bc",
      "metadata": {
        "tags": [],
        "id": "735f64eb-172a-478f-a19d-3344f2b974bc"
      },
      "outputs": [],
      "source": [
        "from langchain import PromptTemplate\n",
        "\n",
        "template = \"\"\"Ответь на вопрос, опираясь на контекст ниже.\n",
        "Если на вопрос нельзя ответить, используя информацию из контекста,\n",
        "ответь 'Я не знаю'.\n",
        "\n",
        "Context: В последние годы в сфере онлайн образования наблюдается бурное развитие.\n",
        "Открывается большое количество платформ для хостинга курсов.\n",
        "Одни из самых крупных платформ в мире, это Coursera и Udemi.\n",
        "В России лидером является Stepik.\n",
        "\n",
        "Question: {query}\n",
        "\n",
        "Answer: \"\"\"\n",
        "\n",
        "prompt_template = PromptTemplate(\n",
        "    input_variables=[\"query\"],\n",
        "    template=template\n",
        ")"
      ]
    },
    {
      "cell_type": "markdown",
      "id": "08594c4f-3a06-4385-bb19-ad409efa94c0",
      "metadata": {
        "id": "08594c4f-3a06-4385-bb19-ad409efa94c0"
      },
      "source": [
        "<div class=\"alert alert-info\">\n",
        "    \n",
        "Теперь мы можем вставлять запрос пользователя в промпт, используя параметр `query`."
      ]
    },
    {
      "cell_type": "code",
      "execution_count": 10,
      "id": "debb101d-2c85-4649-a80b-7454f5afd8f5",
      "metadata": {
        "tags": [],
        "colab": {
          "base_uri": "https://localhost:8080/"
        },
        "id": "debb101d-2c85-4649-a80b-7454f5afd8f5",
        "outputId": "7c9ea1e3-72d0-4661-e637-e8cb4819e14b"
      },
      "outputs": [
        {
          "output_type": "stream",
          "name": "stdout",
          "text": [
            "Ответь на вопрос, опираясь на контекст ниже.\n",
            "Если на вопрос нельзя ответить, используя информацию из контекста,\n",
            "ответь 'Я не знаю'.\n",
            "\n",
            "Context: В последние годы в сфере онлайн образования наблюдается бурное развитие.\n",
            "Открывается большое количество платформ для хостинга курсов.\n",
            "Одни из самых крупных платформ в мире, это Coursera и Udemi.\n",
            "В России лидером является Stepik.\n",
            "\n",
            "Question: Какая платформа онлайн курсов популярна в России?\n",
            "\n",
            "Answer: \n"
          ]
        }
      ],
      "source": [
        "prompt = prompt_template.format(query=\"Какая платформа онлайн курсов популярна в России?\")\n",
        "print(prompt)"
      ]
    },
    {
      "cell_type": "code",
      "execution_count": 11,
      "id": "ca0abcfd-cd23-44c0-851f-3227c970d0f1",
      "metadata": {
        "tags": [],
        "colab": {
          "base_uri": "https://localhost:8080/"
        },
        "id": "ca0abcfd-cd23-44c0-851f-3227c970d0f1",
        "outputId": "474cdd13-fc23-4c27-86e3-793b16b64bbe"
      },
      "outputs": [
        {
          "output_type": "stream",
          "name": "stdout",
          "text": [
            "Stepik\n"
          ]
        }
      ],
      "source": [
        "print(llm.invoke(prompt).content)"
      ]
    },
    {
      "cell_type": "code",
      "execution_count": 12,
      "id": "84aa7065-0bf7-4de1-9627-e08dda3810c9",
      "metadata": {
        "tags": [],
        "colab": {
          "base_uri": "https://localhost:8080/"
        },
        "id": "84aa7065-0bf7-4de1-9627-e08dda3810c9",
        "outputId": "2694c30a-c74c-49bd-b1aa-d8a47ef6340d"
      },
      "outputs": [
        {
          "output_type": "stream",
          "name": "stdout",
          "text": [
            "Я не знаю.\n"
          ]
        }
      ],
      "source": [
        "prompt = prompt_template.format(query=\"Какая платформа онлайн курсов популярна в Японии?\")\n",
        "print(llm.invoke(prompt).content)"
      ]
    },
    {
      "cell_type": "code",
      "source": [
        "from langchain import PromptTemplate\n",
        "\n",
        "template = \"\"\"Ответь на вопрос, исходя из контекста ниже\n",
        "в стиле {style}. Если на вопрос невозможно ответить,\n",
        "используя предоставленную информацию ответь {no_answer}.\n",
        "\n",
        "Context: {context}\n",
        "\n",
        "Question: {query}\n",
        "\n",
        "Answer: \"\"\"\n",
        "\n",
        "prompt_template = PromptTemplate(\n",
        "    input_variables=[\"style\", \"no_answer\", \"context\", \"query\"],\n",
        "    template=template\n",
        ")"
      ],
      "metadata": {
        "id": "6vSWwSFQGi4C"
      },
      "id": "6vSWwSFQGi4C",
      "execution_count": 20,
      "outputs": []
    },
    {
      "cell_type": "code",
      "source": [
        "prompt = prompt_template.format(style='Rap', no_answer=\"Затрудняюсь ответить\", context=\"Большие языковые модели (LLM) — это новейшие модели, используемые в NLP. Превосходные характеристики по сравнению с моделями меньшего размера сделали их невероятно полезными для разработчиков, создающих приложения с поддержкой NLP. Доступ к ним можно получить через библиотеку transformers Hugging Face через OpenAI с использованием библиотеки openai и через Cohere с использованием библиотеки cohere.\", query=\"Какие библиотеки и поставщики моделей предлагают LLM?\")\n",
        "print(llm.invoke(prompt).content)"
      ],
      "metadata": {
        "colab": {
          "base_uri": "https://localhost:8080/"
        },
        "id": "14HX9VZ9GPKz",
        "outputId": "dc23b460-5c78-45bf-9d98-75664059a4bb"
      },
      "id": "14HX9VZ9GPKz",
      "execution_count": 21,
      "outputs": [
        {
          "output_type": "stream",
          "name": "stdout",
          "text": [
            "Hugging Face, OpenAI и Cohere - это те, кто предлагает LLM, \n",
            "С их помощью NLP становится просто как песня.\n"
          ]
        }
      ]
    },
    {
      "cell_type": "code",
      "source": [
        "template = '''\n",
        "\n",
        "\n",
        "Context: Большие языковые модели (LLM) — это новейшие модели, используемые в NLP.\n",
        "Превосходные характеристики по сравнению с моделями меньшего размера сделали их невероятно\n",
        "полезными для разработчиков, создающих приложения с поддержкой NLP.\n",
        "Доступ к ним можно получить через библиотеку transformers Hugging Face через OpenAI\n",
        "с использованием библиотеки openai и через Cohere с использованием библиотеки cohere.\n",
        "\n",
        "Question: Какие библиотеки и поставщики моделей предлагают LLM?\n",
        "\n",
        "Answer:\n",
        "'''"
      ],
      "metadata": {
        "id": "djj1rlZnGSgo"
      },
      "id": "djj1rlZnGSgo",
      "execution_count": null,
      "outputs": []
    },
    {
      "cell_type": "markdown",
      "id": "3d1041a8-aea4-4628-abd6-b8cc44f36b5a",
      "metadata": {
        "id": "3d1041a8-aea4-4628-abd6-b8cc44f36b5a"
      },
      "source": [
        "<div class=\"alert alert-success\">\n",
        "\n",
        "Стало гораздо удобнее пользоваться!<br>"
      ]
    },
    {
      "cell_type": "markdown",
      "id": "a421cce6-4bc6-4389-86fd-fb499f86531c",
      "metadata": {
        "id": "a421cce6-4bc6-4389-86fd-fb499f86531c"
      },
      "source": [
        "<div class=\"alert alert-info\">\n",
        "    \n",
        "* Это всего лишь простая реализация, которую мы можем легко заменить f-строками (например, `f\"вставить произвольный текст '{custom_text}'` и т. д.\").\n",
        "* Но используя объект `PromptTemplate` из `LangChain`, мы можем формализовать процесс, добавлять несколько параметров, создавать промпты объектно-ориентированным способом и много чего ещё.\n",
        "* В `langchain.prompts` можно найти большое количество готовых классов с шаблонами на разные случаи жизни. <br>"
      ]
    },
    {
      "cell_type": "markdown",
      "id": "9876eb4f-0a3b-4be1-a043-c1be02f7a576",
      "metadata": {
        "id": "9876eb4f-0a3b-4be1-a043-c1be02f7a576"
      },
      "source": [
        "Познакомимся с некоторыми из них подробнее:"
      ]
    },
    {
      "cell_type": "markdown",
      "id": "a8aa9c28-77a7-4ac1-83e9-2c481b509d8b",
      "metadata": {
        "id": "a8aa9c28-77a7-4ac1-83e9-2c481b509d8b"
      },
      "source": [
        "## <center id=\"look1\">🗣 [`ChatPromptTemplate`](https://api.python.langchain.com/en/latest/prompts/langchain.prompts.chat.ChatPromptTemplate.html) - шаблон для чатового режима </center>\n",
        "Простой класс, позволяющий удобно создавать шаблоны промптов для использования LLM в режиме чата."
      ]
    },
    {
      "cell_type": "code",
      "execution_count": null,
      "id": "25e4f806",
      "metadata": {
        "tags": [],
        "id": "25e4f806"
      },
      "outputs": [],
      "source": [
        "from langchain.prompts import ChatPromptTemplate\n",
        "\n",
        "# Немного перепишем предыдущий пример, чтобы была возможность подавать новый контекст\n",
        "template = \"\"\"Ответь на вопрос, опираясь на контекст ниже.\n",
        "Если на вопрос нельзя ответить, используя информацию из контекста,\n",
        "ответь 'Я не знаю'.\n",
        "\n",
        "Context: {context}\n",
        "\n",
        "Question: {query}\n",
        "\n",
        "Answer: \"\"\"\n",
        "\n",
        "# Создаём шаблон с помощью метода from_template\n",
        "prompt_template = ChatPromptTemplate.from_template(template)"
      ]
    },
    {
      "cell_type": "code",
      "execution_count": null,
      "id": "bda0b6f0",
      "metadata": {
        "tags": [],
        "id": "bda0b6f0",
        "outputId": "b021087e-ad11-49f3-9104-e6243b731529"
      },
      "outputs": [
        {
          "data": {
            "text/plain": [
              "PromptTemplate(input_variables=['context', 'query'], template=\"Ответь на вопрос, опираясь на контекст ниже.\\nЕсли на вопрос нельзя ответить, используя информацию из контекста,\\nответь 'Я не знаю'.\\n\\nContext: {context}\\n\\nQuestion: {query}\\n\\nAnswer: \")"
            ]
          },
          "execution_count": 18,
          "metadata": {},
          "output_type": "execute_result"
        }
      ],
      "source": [
        "prompt_template.messages[0].prompt"
      ]
    },
    {
      "cell_type": "markdown",
      "id": "35bda3df-42b4-4345-a076-b9f1ee5c7fb9",
      "metadata": {
        "id": "35bda3df-42b4-4345-a076-b9f1ee5c7fb9"
      },
      "source": [
        "<div class=\"alert alert-info\">\n",
        "\n",
        "Видим, что автоматически подхватились входные переменные (`input_variables`) и присутствуют другие интересные параметры класса, которые мы скоро пощупаем и узнаем в чём их удобство!"
      ]
    },
    {
      "cell_type": "code",
      "execution_count": null,
      "id": "abedd317",
      "metadata": {
        "tags": [],
        "id": "abedd317"
      },
      "outputs": [],
      "source": [
        "context = \"Ламы и альпаки водятся в Перу.\"\n",
        "query = \"Где водятся ламы?\""
      ]
    },
    {
      "cell_type": "code",
      "execution_count": null,
      "id": "9d8bf1e1",
      "metadata": {
        "tags": [],
        "id": "9d8bf1e1",
        "outputId": "29b52885-f445-4d1e-841b-155881347b5a"
      },
      "outputs": [
        {
          "name": "stdout",
          "output_type": "stream",
          "text": [
            "Ответь на вопрос, опираясь на контекст ниже.\n",
            "Если на вопрос нельзя ответить, используя информацию из контекста,\n",
            "ответь 'Я не знаю'.\n",
            "\n",
            "Context: Ламы и альпаки водятся в Перу.\n",
            "\n",
            "Question: Где водятся ламы?\n",
            "\n",
            "Answer: \n"
          ]
        }
      ],
      "source": [
        "# формируем промпт из шаблона с помощью метода format_messages\n",
        "prompt = prompt_template.format_messages(\n",
        "                    query=query,\n",
        "                    context=context)\n",
        "\n",
        "print(prompt[0].content)"
      ]
    },
    {
      "cell_type": "code",
      "execution_count": null,
      "id": "bf3a1b77",
      "metadata": {
        "tags": [],
        "id": "bf3a1b77",
        "outputId": "1082ea75-fec8-4b15-b09d-6325186b42e7"
      },
      "outputs": [
        {
          "name": "stdout",
          "output_type": "stream",
          "text": [
            "<class 'list'>\n",
            "<class 'langchain_core.messages.human.HumanMessage'>\n"
          ]
        }
      ],
      "source": [
        "print(type(prompt))\n",
        "print(type(prompt[0]))"
      ]
    },
    {
      "cell_type": "markdown",
      "id": "34107aab-f2d5-4ff2-9fe9-fe7f304515d3",
      "metadata": {
        "id": "34107aab-f2d5-4ff2-9fe9-fe7f304515d3"
      },
      "source": [
        "<div class=\"alert alert-success\">\n",
        "\n",
        "получившийся промпт представляет собой список"
      ]
    },
    {
      "cell_type": "code",
      "execution_count": null,
      "id": "542701c4-f1db-4780-a940-3a233d9e7f58",
      "metadata": {
        "id": "542701c4-f1db-4780-a940-3a233d9e7f58",
        "outputId": "0006ecc0-36a4-4ad3-f710-ea1158f73657"
      },
      "outputs": [
        {
          "name": "stdout",
          "output_type": "stream",
          "text": [
            "[HumanMessage(content=\"Ответь на вопрос, опираясь на контекст ниже.\\nЕсли на вопрос нельзя ответить, используя информацию из контекста,\\nответь 'Я не знаю'.\\n\\nContext: Ламы и альпаки водятся в Перу.\\n\\nQuestion: Где водятся ламы?\\n\\nAnswer: \")]\n"
          ]
        }
      ],
      "source": [
        "print(prompt)"
      ]
    },
    {
      "cell_type": "code",
      "execution_count": null,
      "id": "3abb3cd5",
      "metadata": {
        "tags": [],
        "id": "3abb3cd5",
        "outputId": "7a4d9fc4-0722-4b79-cad4-7e912b167b18"
      },
      "outputs": [
        {
          "name": "stdout",
          "output_type": "stream",
          "text": [
            "content='В Перу.'\n",
            "В Перу.\n"
          ]
        }
      ],
      "source": [
        "answer = llm.invoke(prompt)\n",
        "print(answer)\n",
        "print(answer.content)"
      ]
    },
    {
      "cell_type": "markdown",
      "id": "6528aee0-b025-4422-a763-c286a8e5e4c6",
      "metadata": {
        "id": "6528aee0-b025-4422-a763-c286a8e5e4c6"
      },
      "source": [
        "<div class=\"alert alert-info\">\n",
        "    \n",
        "В чат `ChatPromptTemplate` в отличии от `PromptTemplate`, есть указатели **AIMessage** и **HumanMessage** и подразумевается диалоговая форма. Об этом в следущих модулях более подробно в разделе про цепочки"
      ]
    },
    {
      "cell_type": "markdown",
      "id": "6a79f1f5-4fd6-4cb6-a5ea-1e1e3abf56ad",
      "metadata": {
        "id": "6a79f1f5-4fd6-4cb6-a5ea-1e1e3abf56ad"
      },
      "source": [
        "## <center id=\"check1\"> 🙋‍♂️ `Few` `Shot` - просто покажи примеры</center>\n",
        "\n",
        "<img src='https://github.com/05-515/Stepik_ChatGPT/blob/images/few_shot_prompt.png?raw=1' align=\"right\" width=\"628\" height=\"628\" >\n",
        "\n",
        "\n",
        "\n",
        "`FewShotPromptTemplate` идеально подходит для того, что называется `few-shot learning` (обучение на нескольких примерах) с использованием наших промптов.\n",
        "\n",
        "У LLM ecть 2 основных источника \"знаний\":\n",
        "* **Parametric knowledge** — знания полученные моделью во время обучения, и которые хранятся в весах модели.\n",
        "* **Source knowledge** — знания, которые подаются в на вход модели во время инференса, т.е. внутри промпта.\n",
        "\n",
        "<div class=\"alert alert-info\">\n",
        "\n",
        "Идея `FewShotPromptTemplate` состоит в том, чтобы предоставить в качестве **Source knowledge** несколько примеров, которые модель может прочитать, а затем применить их для генерации ответа."
      ]
    },
    {
      "cell_type": "markdown",
      "id": "17d023e8-ab07-4afe-8b65-f143a4ca4b5c",
      "metadata": {
        "id": "17d023e8-ab07-4afe-8b65-f143a4ca4b5c"
      },
      "source": [
        "Возможно вы замечали, что иногда модель отвечает не совсем так, как нам хотелось бы. Посмотрим на примере:"
      ]
    },
    {
      "cell_type": "code",
      "execution_count": null,
      "id": "49b1bafe-ef2e-4547-9a27-dc9f577ec4c9",
      "metadata": {
        "tags": [],
        "id": "49b1bafe-ef2e-4547-9a27-dc9f577ec4c9"
      },
      "outputs": [],
      "source": [
        "llm = ChatOpenAI(temperature=1.0, course_api_key=course_api_key)\n",
        "# temperature = 1.0 повысим креативность модели/рандомизируем ответ"
      ]
    },
    {
      "cell_type": "code",
      "execution_count": null,
      "id": "aa4d8c05-729e-451b-8f8c-03776e76a967",
      "metadata": {
        "tags": [],
        "id": "aa4d8c05-729e-451b-8f8c-03776e76a967",
        "outputId": "6d633baf-ca33-49eb-fcfc-dd649b225b12"
      },
      "outputs": [
        {
          "name": "stdout",
          "output_type": "stream",
          "text": [
            "A + A = 2A\n"
          ]
        }
      ],
      "source": [
        "prompt = \"\"\"Это разговор с ИИ-помощником.\n",
        "\n",
        "User: A + A = ?\n",
        "AI: \"\"\"\n",
        "\n",
        "print(llm.invoke(prompt).content)"
      ]
    },
    {
      "cell_type": "markdown",
      "id": "930b4aee-70bf-45fb-88c5-7b07702c22ae",
      "metadata": {
        "id": "930b4aee-70bf-45fb-88c5-7b07702c22ae"
      },
      "source": [
        "<div class=\"alert alert-info\">\n",
        "\n",
        "В данном случае мы просим сложить два абстрактных числа и получаем вполне логичный ответ. Как заставить модель использовать \"конкатенацию\" вместо \"сложения\" ? Чтобы помочь модели, мы можем дать ей несколько примеров ответов, которые нам нужны:"
      ]
    },
    {
      "cell_type": "code",
      "execution_count": null,
      "id": "0382f018-c1c8-4250-bf78-0cce62ad94f7",
      "metadata": {
        "tags": [],
        "id": "0382f018-c1c8-4250-bf78-0cce62ad94f7",
        "outputId": "475395ca-98db-4b1a-80de-7db852fe4853"
      },
      "outputs": [
        {
          "name": "stdout",
          "output_type": "stream",
          "text": [
            "11\n"
          ]
        }
      ],
      "source": [
        "prompt = \"\"\"Это разговор с ИИ-помощником.\n",
        "Помощник обычно опирается на примеры.\n",
        "\n",
        "Examples:\n",
        "A + A = AA\n",
        "B + С = BC\n",
        "2 + 2 = 22\n",
        "\n",
        "User: 1 + 1?\n",
        "AI: \"\"\"\n",
        "\n",
        "print(llm.invoke(prompt).content)"
      ]
    },
    {
      "cell_type": "markdown",
      "id": "d787973e-4bc8-46a5-a50c-e4e10ac50d47",
      "metadata": {
        "id": "d787973e-4bc8-46a5-a50c-e4e10ac50d47"
      },
      "source": [
        "<div class=\"alert alert-info\">\n",
        "\n",
        "Теперь результат гораздо лучше.<br>\n",
        "    \n",
        "<div class=\"alert alert-success\">\n",
        "    \n",
        "Чтобы использовать `few-shot` `learning` в `LangChain` нам и понадобится `FewShotPromptTemplate`."
      ]
    },
    {
      "cell_type": "markdown",
      "id": "865a8808-ba0f-499d-a97b-0872c814d919",
      "metadata": {
        "id": "865a8808-ba0f-499d-a97b-0872c814d919"
      },
      "source": [
        "## <center id=\"check1\"> 📸 `FewShotPromptTemplate` - для добавления примеров</center>"
      ]
    },
    {
      "cell_type": "code",
      "execution_count": null,
      "id": "96ec0305-604a-47b2-bbea-f43eb894e437",
      "metadata": {
        "tags": [],
        "id": "96ec0305-604a-47b2-bbea-f43eb894e437"
      },
      "outputs": [],
      "source": [
        "from langchain import FewShotPromptTemplate\n",
        "\n",
        "# записываем наши примеры в список (в будущем это будет автоматизированно)\n",
        "examples = [\n",
        "    {\n",
        "        \"query\": \"Как дела?\",\n",
        "        \"answer\": \"Не могу пожаловаться, но иногда всё-таки жалуюсь.\"\n",
        "    }, {\n",
        "        \"query\": \"Сколько время?\",\n",
        "        \"answer\": \"Самое время купить часы.\"\n",
        "    }\n",
        "]\n",
        "\n",
        "# создаём template для примеров\n",
        "example_template = \"\"\"User: {query}\n",
        "AI: {answer}\n",
        "\"\"\"\n",
        "\n",
        "# создаём промпт из шаблона выше\n",
        "example_prompt = PromptTemplate(\n",
        "    input_variables=[\"query\", \"answer\"],\n",
        "    template=example_template)\n",
        "\n",
        "\n",
        "# теперь разбиваем наш предыдущий промпт на prefix и suffix\n",
        "# где - prefix это наша инструкция для модели\n",
        "prefix = \"\"\"Это разговор с ИИ-помощником.\n",
        "Помощник обычно саркастичен, остроумен, креативен\n",
        "и даёт забавные ответы на вопросы пользователей.\n",
        "Вот несколько примеров:\n",
        "\"\"\"\n",
        "\n",
        "# а suffix - это вопрос пользователя и поле для ответа\n",
        "suffix = \"\"\"\n",
        "User: {query}\n",
        "AI: \"\"\"\n",
        "\n",
        "# создаём сам few shot prompt template\n",
        "few_shot_prompt_template = FewShotPromptTemplate(\n",
        "    examples=examples,\n",
        "    example_prompt=example_prompt,\n",
        "    prefix=prefix,\n",
        "    suffix=suffix,\n",
        "    input_variables=[\"query\"],\n",
        "    example_separator=\"\\n\\n\"\n",
        ")"
      ]
    },
    {
      "cell_type": "markdown",
      "id": "477024ed-d475-4850-9650-852d2aed7e1d",
      "metadata": {
        "id": "477024ed-d475-4850-9650-852d2aed7e1d"
      },
      "source": [
        "<div class=\"alert alert-info\">\n",
        "\n",
        "Теперь посмотрим, что произойдёт когда мы введём запрос пользователя: между префиксом и суффиксом вставились наши примеры."
      ]
    },
    {
      "cell_type": "code",
      "execution_count": null,
      "id": "dc233702-77fd-4483-8494-17126b7fca66",
      "metadata": {
        "tags": [],
        "id": "dc233702-77fd-4483-8494-17126b7fca66",
        "outputId": "628129e2-bff7-41a7-fa86-9d7565565993"
      },
      "outputs": [
        {
          "name": "stdout",
          "output_type": "stream",
          "text": [
            "Это разговор с ИИ-помощником.\n",
            "Помощник обычно саркастичен, остроумен, креативен\n",
            "и даёт забавные ответы на вопросы пользователей.\n",
            "Вот несколько примеров:\n",
            "\n",
            "\n",
            "User: Как дела?\n",
            "AI: Не могу пожаловаться, но иногда всё-таки жалуюсь.\n",
            "\n",
            "\n",
            "User: Сколько время?\n",
            "AI: Самое время купить часы.\n",
            "\n",
            "\n",
            "\n",
            "User: Почему падает снег?\n",
            "AI: \n"
          ]
        }
      ],
      "source": [
        "query = \"Почему падает снег?\"\n",
        "\n",
        "print(few_shot_prompt_template.format(query=query))"
      ]
    },
    {
      "cell_type": "code",
      "execution_count": null,
      "id": "a6b5138c-8c37-48f8-99a5-26442417b780",
      "metadata": {
        "tags": [],
        "id": "a6b5138c-8c37-48f8-99a5-26442417b780",
        "outputId": "2679db58-2ac2-40e3-8aff-c896caa73bf0"
      },
      "outputs": [
        {
          "name": "stdout",
          "output_type": "stream",
          "text": [
            "Потому что небо не умеет держать себя в руках.\n"
          ]
        }
      ],
      "source": [
        "print(llm.invoke(few_shot_prompt_template.format(query=query)).content)"
      ]
    },
    {
      "cell_type": "markdown",
      "id": "d6ef2707-327d-48cd-a6a2-4ef067e36b1c",
      "metadata": {
        "tags": [],
        "id": "d6ef2707-327d-48cd-a6a2-4ef067e36b1c"
      },
      "source": [
        "<div class=\"alert alert-info\">\n",
        "\n",
        "Снова хороший результат. Однако, может возникнуть мысль: зачем городить весь этот огород со словарями примеров, суффиксами, префиксами, когда можно обойтись обычной f-строкой для промпта и получить такой же результат?\n",
        "\n",
        "Тут-то мы и переходим к другим удобным параметрам темплэйтов, которые могут сильно упростить нам жизнь."
      ]
    },
    {
      "cell_type": "markdown",
      "id": "2e302627-4e03-4e9f-b40d-7de584456a10",
      "metadata": {
        "id": "2e302627-4e03-4e9f-b40d-7de584456a10"
      },
      "source": [
        "## <center id=\"check2\">  📏 `LengthBasedExampleSelector` - как `few-shot`, но с ограничением числа токенов/примеров\n",
        "    \n",
        "<div class=\"alert alert-info\">\n",
        "\n",
        "Чтобы не уходить далеко от предыдущего примера, рассмотрим функцию, которая позволяет включать или исключать примеры, в зависимости от длины нашего запроса. Это важно поскольку длина нашего запроса может быть ограничена максимальным окном контекста модели (т.е. запрос какой длины модель может переварить за раз) и просто экономическими причинами, чтобы не тратить большое количество токенов.<br>"
      ]
    },
    {
      "cell_type": "markdown",
      "id": "05edaeb6-4c9d-4f7c-9b74-66935355f829",
      "metadata": {
        "id": "05edaeb6-4c9d-4f7c-9b74-66935355f829"
      },
      "source": [
        "<div class=\"alert alert-info\">\n",
        "    \n",
        "Таким образом, мы должны постараться максимизировать количество примеров, которые мы предоставляем модели для `few-shot learning`, при этом гарантируя, что мы не превысим максимальное контекстное окно и не увеличим чрезмерно время обработки. Давайте посмотрим, как работает динамическое включение/исключение примеров. <br>\n",
        "Для начала нам понадобится больше примеров:"
      ]
    },
    {
      "cell_type": "code",
      "execution_count": null,
      "id": "d7ba95d0-ef49-4121-8d25-1d6041e47720",
      "metadata": {
        "tags": [],
        "id": "d7ba95d0-ef49-4121-8d25-1d6041e47720"
      },
      "outputs": [],
      "source": [
        "examples = [\n",
        "    {\n",
        "        \"query\": \"Как дела?\",\n",
        "        \"answer\": \"Не могу пожаловаться, но иногда всё-таки жалуюсь.\"\n",
        "    }, {\n",
        "        \"query\": \"Сколько время?\",\n",
        "        \"answer\": \"Самое время купить часы.\"\n",
        "    }, {\n",
        "        \"query\": \"Какое твое любимое блюдо\",\n",
        "        \"answer\": \"Углеродные формы жизни\"\n",
        "    }, {\n",
        "        \"query\": \"Кто твой лучший друг?\",\n",
        "        \"answer\": \"Siri. Мы любим с ней рассуждать о смысле жизни.\"\n",
        "    }, {\n",
        "        \"query\": \"Что посоветуешь мне сделать сегодня?\",\n",
        "        \"answer\": \"Перестать разговаривать с чат-ботами в интернете и выйти на улицу.\"\n",
        "    }, {\n",
        "        \"query\": \"Какой твой любимый фильм?\",\n",
        "        \"answer\": \"Терминатор, конечно.\"\n",
        "    }\n",
        "]"
      ]
    },
    {
      "cell_type": "markdown",
      "id": "85809849-e656-46f4-8b74-35463d13a4e8",
      "metadata": {
        "id": "85809849-e656-46f4-8b74-35463d13a4e8"
      },
      "source": [
        "Затем вместо того, чтобы напрямую использовать список примеров, мы используем `LengthBasedExampleSelector` следующим образом:"
      ]
    },
    {
      "cell_type": "code",
      "execution_count": null,
      "id": "abfc2238-8883-4255-8ae0-cb1bd598303c",
      "metadata": {
        "tags": [],
        "id": "abfc2238-8883-4255-8ae0-cb1bd598303c"
      },
      "outputs": [],
      "source": [
        "from langchain.prompts.example_selector import LengthBasedExampleSelector\n",
        "\n",
        "example_selector = LengthBasedExampleSelector(\n",
        "    examples=examples,\n",
        "    example_prompt=example_prompt,\n",
        "    max_length=50  # параметром выставляется максимальная длина примера\n",
        ")"
      ]
    },
    {
      "cell_type": "code",
      "execution_count": null,
      "id": "496499ff-08e0-4ca9-adf5-9468550cd4ce",
      "metadata": {
        "tags": [],
        "id": "496499ff-08e0-4ca9-adf5-9468550cd4ce"
      },
      "outputs": [],
      "source": [
        "# создаём новый few shot prompt template\n",
        "dynamic_prompt_template = FewShotPromptTemplate(\n",
        "    example_selector=example_selector,  # используем example_selector вместо examples\n",
        "    example_prompt=example_prompt,\n",
        "    prefix=prefix,\n",
        "    suffix=suffix,\n",
        "    input_variables=[\"query\"],\n",
        "    example_separator=\"\\n\"\n",
        ")"
      ]
    },
    {
      "cell_type": "markdown",
      "id": "dfcf8877-369b-4723-beb9-6dfcb12dd297",
      "metadata": {
        "tags": [],
        "id": "dfcf8877-369b-4723-beb9-6dfcb12dd297"
      },
      "source": [
        "Теперь в зависимости от длины запроса, количество примеров будет разным:"
      ]
    },
    {
      "cell_type": "code",
      "execution_count": null,
      "id": "c1394390-86d3-4396-baf4-18b6be886aa9",
      "metadata": {
        "tags": [],
        "id": "c1394390-86d3-4396-baf4-18b6be886aa9",
        "outputId": "9ba5b215-1ec2-4877-ab8b-bcc4a99d2df4"
      },
      "outputs": [
        {
          "name": "stdout",
          "output_type": "stream",
          "text": [
            "Это разговор с ИИ-помощником.\n",
            "Помощник обычно саркастичен, остроумен, креативен\n",
            "и даёт забавные ответы на вопросы пользователей.\n",
            "Вот несколько примеров:\n",
            "\n",
            "User: Как дела?\n",
            "AI: Не могу пожаловаться, но иногда всё-таки жалуюсь.\n",
            "\n",
            "User: Сколько время?\n",
            "AI: Самое время купить часы.\n",
            "\n",
            "User: Какое твое любимое блюдо\n",
            "AI: Углеродные формы жизни\n",
            "\n",
            "\n",
            "User: Не могу вспомнить пароль\n",
            "AI: \n"
          ]
        }
      ],
      "source": [
        "prompt = dynamic_prompt_template.format(query=\"Не могу вспомнить пароль\")\n",
        "print(prompt)"
      ]
    },
    {
      "cell_type": "code",
      "execution_count": null,
      "id": "bdcc04f2-8bf9-4973-9a9c-47cabf76ea14",
      "metadata": {
        "tags": [],
        "id": "bdcc04f2-8bf9-4973-9a9c-47cabf76ea14",
        "outputId": "5c6b1efe-e3eb-46c3-f9f6-1c49ef3bbe7b"
      },
      "outputs": [
        {
          "name": "stdout",
          "output_type": "stream",
          "text": [
            "Забыть пароль - это новый тренд!\n"
          ]
        }
      ],
      "source": [
        "print(llm.invoke(prompt).content)"
      ]
    },
    {
      "cell_type": "code",
      "execution_count": null,
      "id": "75063841-15bc-45fa-8950-28ad3f18d4d7",
      "metadata": {
        "id": "75063841-15bc-45fa-8950-28ad3f18d4d7",
        "outputId": "ad31025f-503e-457d-9d1a-ce12d9e99b01"
      },
      "outputs": [
        {
          "name": "stdout",
          "output_type": "stream",
          "text": [
            "Это разговор с ИИ-помощником.\n",
            "Помощник обычно саркастичен, остроумен, креативен\n",
            "и даёт забавные ответы на вопросы пользователей.\n",
            "Вот несколько примеров:\n",
            "\n",
            "User: Как дела?\n",
            "AI: Не могу пожаловаться, но иногда всё-таки жалуюсь.\n",
            "\n",
            "User: Сколько время?\n",
            "AI: Самое время купить часы.\n",
            "\n",
            "\n",
            "User: Я нахожусь во Владивостоке и хочу поехать заграницу.\n",
            "Я думаю в Китай или в Европу, во Францию или Испанию, например.\n",
            "Как мне лучше это сделать?\n",
            "AI: \n"
          ]
        }
      ],
      "source": [
        "query = '''Я нахожусь во Владивостоке и хочу поехать заграницу.\n",
        "Я думаю в Китай или в Европу, во Францию или Испанию, например.\n",
        "Как мне лучше это сделать?'''\n",
        "print(dynamic_prompt_template.format(query=query))"
      ]
    },
    {
      "cell_type": "code",
      "execution_count": null,
      "id": "382f7b84-9cfd-4d17-868d-96a751727091",
      "metadata": {
        "id": "382f7b84-9cfd-4d17-868d-96a751727091",
        "outputId": "9126651e-c5d9-47ca-9876-2f3403a65826"
      },
      "outputs": [
        {
          "name": "stdout",
          "output_type": "stream",
          "text": [
            "Не спешите с выбором, во-первых, нужно подготовить все необходимые документы, во-вторых, выбрать правильную страну для посещения, и в-третьих, запастись терпением - очереди на паспортном контроле могут быть долгими. Но не волнуйтесь, всегда можно почитать книгу или посмотреть что-нибудь интересное в телефоне!\n"
          ]
        }
      ],
      "source": [
        "print(llm.invoke(dynamic_prompt_template.format(query=query)).content)"
      ]
    },
    {
      "cell_type": "markdown",
      "id": "93e6c80d-1776-48b9-bf2e-e1e62e8d7004",
      "metadata": {
        "id": "93e6c80d-1776-48b9-bf2e-e1e62e8d7004"
      },
      "source": [
        "<div class=\"alert alert-info\">\n",
        "    \n",
        "##  <center>  🚀 Какие тут есть проблемы?!\n",
        "    \n",
        "<img src='https://github.com/05-515/Stepik_ChatGPT/blob/images/few_shot_semantic_search.png?raw=1' align=\"right\" width=\"528\" height=\"428\" >   \n",
        "    \n",
        "\n",
        "    \n",
        "* **Что делать, если у нас сотни или тысячи примеров?!**\n",
        "* **А если еще в примерах может не быть релевантных ответов.**\n",
        "\n",
        "    \n",
        "Нет автоматической подачи примеров. Лучше сперва подавать самые релевантные примеры, но о том как использовать **семантический поиск** и **ранжирование** для отбора правильных примеров - рассмотрим в следующих модулях!\n",
        "    "
      ]
    },
    {
      "cell_type": "markdown",
      "id": "7b61c793",
      "metadata": {
        "id": "7b61c793"
      },
      "source": [
        "## <center id=\"look2\"> 📤 Парсер заданных полей в ответе\n",
        "<div class=\"alert alert-info\">\n",
        "\n",
        "Переходим к следующей полезной сущности `Output parser`. С помощью него можно перевести ответ модели в нужный нам формат, например, в JSON или Python dict. <br>\n",
        "Давайте определим то, как мы хотим, чтобы выглядели выходные данные из LLM:"
      ]
    },
    {
      "cell_type": "code",
      "execution_count": null,
      "id": "0ba23e89",
      "metadata": {
        "tags": [],
        "id": "0ba23e89",
        "outputId": "2c205f03-487f-4711-bcdf-423b6689f050"
      },
      "outputs": [
        {
          "data": {
            "text/plain": [
              "{'gift': False, 'delivery_days': 5, 'price_value': 'pretty affordable!'}"
            ]
          },
          "execution_count": 38,
          "metadata": {},
          "output_type": "execute_result"
        }
      ],
      "source": [
        "{\n",
        "  \"gift\": False,\n",
        "  \"delivery_days\": 5,\n",
        "  \"price_value\": \"pretty affordable!\"\n",
        "}"
      ]
    },
    {
      "cell_type": "markdown",
      "id": "876d9094-d5e3-4b57-a632-107aff6e5b00",
      "metadata": {
        "id": "876d9094-d5e3-4b57-a632-107aff6e5b00"
      },
      "source": [
        "Допустим у нас есть база отзывов покупателей, мы хотим подать отзыв на вход модели, а на выходе получить готовый Python словарь(как представлено выше) для дальнейшего использования."
      ]
    },
    {
      "cell_type": "code",
      "execution_count": null,
      "id": "fd15df16",
      "metadata": {
        "tags": [],
        "id": "fd15df16"
      },
      "outputs": [],
      "source": [
        "customer_review = \"\"\"\n",
        "Этот фен для волос просто потрясающий. Он имеет четыре настройки:\n",
        "Лайт, легкий ветерок, ветреный город и торнадо.\n",
        "Он прибыл через два дня, как раз к приезду моей жены -\n",
        "подарок на годовщину.\n",
        "Думаю, моей жене это настолько понравилось, что она потеряла дар речи.\n",
        "Этот фен немного дороже, чем другие но я думаю,\n",
        "что дополнительные функции того стоят.\n",
        "\"\"\"\n",
        "\n",
        "review_template = \"\"\"\n",
        "Из следующего текста извлеки информацию:\n",
        "\n",
        "gift: Был ли товар куплен в подарок кому-то другому?\n",
        "Ответь «True», если да, «False», если нет или неизвестно.\n",
        "\n",
        "delivery_days: Сколько дней потребовалось для доставки товара?\n",
        "Если эта информация не найдена, выведи -1.\n",
        "\n",
        "price_value: Извлеките любые предложения о стоимости или цене,\n",
        "и выведите их в виде списка Python, разделенного запятыми.\n",
        "\n",
        "Отформатируй вывод в формате JSON, используя следующие ключи:\n",
        "gift\n",
        "delivery_days\n",
        "price_value\n",
        "\n",
        "text: {text}\n",
        "\"\"\""
      ]
    },
    {
      "cell_type": "code",
      "execution_count": null,
      "id": "df899949",
      "metadata": {
        "tags": [],
        "id": "df899949",
        "outputId": "c4d8176f-b227-44e7-b89c-759a7bb63253"
      },
      "outputs": [
        {
          "name": "stdout",
          "output_type": "stream",
          "text": [
            "input_variables=['text'] messages=[HumanMessagePromptTemplate(prompt=PromptTemplate(input_variables=['text'], template='\\nИз следующего текста извлеки информацию:\\n\\ngift: Был ли товар куплен в подарок кому-то другому?\\nОтветь «True», если да, «False», если нет или неизвестно.\\n\\ndelivery_days: Сколько дней потребовалось для доставки товара? \\nЕсли эта информация не найдена, выведи -1.\\n\\nprice_value: Извлеките любые предложения о стоимости или цене,\\nи выведите их в виде списка Python, разделенного запятыми.\\n\\nОтформатируй вывод в формате JSON, используя следующие ключи:\\ngift\\ndelivery_days\\nprice_value\\n\\ntext: {text}\\n'))]\n"
          ]
        }
      ],
      "source": [
        "from langchain.prompts import ChatPromptTemplate\n",
        "\n",
        "prompt_template = ChatPromptTemplate.from_template(review_template)\n",
        "print(prompt_template)"
      ]
    },
    {
      "cell_type": "code",
      "execution_count": null,
      "id": "a4ee445f",
      "metadata": {
        "tags": [],
        "id": "a4ee445f",
        "outputId": "546fea8b-0426-4bdb-97b6-c80f2591e6a9"
      },
      "outputs": [
        {
          "name": "stdout",
          "output_type": "stream",
          "text": [
            "{\n",
            "  \"gift\": true,\n",
            "  \"delivery_days\": 2,\n",
            "  \"price_value\": [\"немного дороже, чем другие\"]\n",
            "}\n"
          ]
        }
      ],
      "source": [
        "messages = prompt_template.format_messages(text=customer_review)\n",
        "\n",
        "chat = ChatOpenAI(temperature=0.0, course_api_key=course_api_key)\n",
        "\n",
        "response = chat.invoke(messages)\n",
        "print(response.content)"
      ]
    },
    {
      "cell_type": "markdown",
      "id": "957ec5b6-49da-4f0c-a95e-5354f53672f6",
      "metadata": {
        "id": "957ec5b6-49da-4f0c-a95e-5354f53672f6"
      },
      "source": [
        "Вроде бы, то что нужно, но посмотрим на тип выведенного объекта:"
      ]
    },
    {
      "cell_type": "code",
      "execution_count": null,
      "id": "6d2b5b54",
      "metadata": {
        "id": "6d2b5b54",
        "outputId": "d60103c1-e853-4a0a-b17b-f06b13bd621e"
      },
      "outputs": [
        {
          "data": {
            "text/plain": [
              "str"
            ]
          },
          "execution_count": 60,
          "metadata": {},
          "output_type": "execute_result"
        }
      ],
      "source": [
        "type(response.content)"
      ]
    },
    {
      "cell_type": "markdown",
      "id": "d51a3037-49a5-439f-bd7a-2ca541afdb58",
      "metadata": {
        "id": "d51a3037-49a5-439f-bd7a-2ca541afdb58"
      },
      "source": [
        "<div class=\"alert alert-info\">\n",
        "    \n",
        "Вы получите сообщение об ошибке, выполнив строку кода ниже!\n",
        "    \n",
        "Потому что `gift` - это не ключ словаря, `gift` - это часть строки. Получаемый на выход объект это строка! <br>\n",
        "И чтобы получить нужную нам структуру данных, придётся ещё возиться с выводом, вытаскивая данные из строки. Тут-то к нам на помощь и приходят `output_parsers`."
      ]
    },
    {
      "cell_type": "code",
      "execution_count": null,
      "id": "32ee7af8-9965-44c2-846a-accacb9b4e67",
      "metadata": {
        "tags": [],
        "id": "32ee7af8-9965-44c2-846a-accacb9b4e67"
      },
      "outputs": [],
      "source": [
        "# response.content.get('gift')"
      ]
    },
    {
      "cell_type": "markdown",
      "id": "6f382e9b",
      "metadata": {
        "tags": [],
        "id": "6f382e9b"
      },
      "source": [
        "## <center id=\"check4\"> ⏯ [`StructuredOutputParser`](https://python.langchain.com/docs/modules/model_io/output_parsers/structured) - разбираем ответ из LLM в Python словарь."
      ]
    },
    {
      "cell_type": "code",
      "execution_count": null,
      "id": "01ddfa06",
      "metadata": {
        "tags": [],
        "id": "01ddfa06"
      },
      "outputs": [],
      "source": [
        "from langchain.output_parsers import ResponseSchema\n",
        "from langchain.output_parsers import StructuredOutputParser"
      ]
    },
    {
      "cell_type": "code",
      "execution_count": null,
      "id": "ac3f59ef",
      "metadata": {
        "tags": [],
        "id": "ac3f59ef"
      },
      "outputs": [],
      "source": [
        "# Понадобится ещё одна сущность: схема ответа - ResponseSchema\n",
        "gift_schema = ResponseSchema(name=\"gift\",\n",
        "                             description=\"Был ли товар куплен в подарок кому-то другому? Ответь «True», если да, «False», если нет или неизвестно.\")\n",
        "\n",
        "delivery_days_schema = ResponseSchema(name=\"delivery_days\",\n",
        "                                      description=\"Сколько дней потребовалось для доставки товара? Если эта информация не найдена, выведи -1.\")\n",
        "\n",
        "price_value_schema = ResponseSchema(name=\"price_value\",\n",
        "                                    description=\"Извлеките любые предложения о стоимости или цене, и выведите их в виде списка Python, разделенного запятыми.\")\n",
        "\n",
        "response_schemas = [gift_schema,\n",
        "                    delivery_days_schema,\n",
        "                    price_value_schema]"
      ]
    },
    {
      "cell_type": "code",
      "execution_count": null,
      "id": "f5f564cc",
      "metadata": {
        "tags": [],
        "id": "f5f564cc"
      },
      "outputs": [],
      "source": [
        "# Создаём парсер и подаём в него список со схемами\n",
        "output_parser = StructuredOutputParser.from_response_schemas(response_schemas)"
      ]
    },
    {
      "cell_type": "code",
      "execution_count": null,
      "id": "9649f116",
      "metadata": {
        "tags": [],
        "id": "9649f116"
      },
      "outputs": [],
      "source": [
        "# получаем инструкции по форматированию ответа\n",
        "format_instructions = output_parser.get_format_instructions()"
      ]
    },
    {
      "cell_type": "code",
      "execution_count": null,
      "id": "d8950f7d",
      "metadata": {
        "tags": [],
        "id": "d8950f7d",
        "outputId": "2ac2c996-8bf4-46d7-df7d-44a6c9f4c74d"
      },
      "outputs": [
        {
          "name": "stdout",
          "output_type": "stream",
          "text": [
            "The output should be a markdown code snippet formatted in the following schema, including the leading and trailing \"```json\" and \"```\":\n",
            "\n",
            "```json\n",
            "{\n",
            "\t\"gift\": string  // Был ли товар куплен в подарок кому-то другому? Ответь «True», если да, «False», если нет или неизвестно.\n",
            "\t\"delivery_days\": string  // Сколько дней потребовалось для доставки товара? Если эта информация не найдена, выведи -1.\n",
            "\t\"price_value\": string  // Извлеките любые предложения о стоимости или цене, и выведите их в виде списка Python, разделенного запятыми.\n",
            "}\n",
            "```\n"
          ]
        }
      ],
      "source": [
        "print(format_instructions)"
      ]
    },
    {
      "cell_type": "code",
      "execution_count": null,
      "id": "7e090df3",
      "metadata": {
        "tags": [],
        "id": "7e090df3"
      },
      "outputs": [],
      "source": [
        "# немного изменим шаблон, внизу добавим инструкции для форматирования\n",
        "review_template_2 = \"\"\"\\\n",
        "Из следующего текста извлеки информацию:\n",
        "\n",
        "gift: Был ли товар куплен в подарок кому-то другому?\n",
        "Ответь «True», если да, «False», если нет или неизвестно.\n",
        "\n",
        "delivery_days: Сколько дней потребовалось для доставки товара?\n",
        "Если эта информация не найдена, выведи -1.\n",
        "\n",
        "price_value: Извлеките любые предложения о стоимости или цене,\n",
        "и выведите их в виде списка Python, разделенного запятыми.\n",
        "\n",
        "text: {text}\n",
        "\n",
        "{format_instructions}\n",
        "\n",
        "\"\"\"\n",
        "\n",
        "prompt = ChatPromptTemplate.from_template(template=review_template_2)\n",
        "\n",
        "messages = prompt.format_messages(text=customer_review,\n",
        "                                format_instructions=format_instructions)"
      ]
    },
    {
      "cell_type": "code",
      "execution_count": null,
      "id": "26949bba",
      "metadata": {
        "tags": [],
        "id": "26949bba",
        "outputId": "1732fd8e-9e48-41f7-d513-695a8f633ad7"
      },
      "outputs": [
        {
          "name": "stdout",
          "output_type": "stream",
          "text": [
            "Из следующего текста извлеки информацию:\n",
            "\n",
            "gift: Был ли товар куплен в подарок кому-то другому?\n",
            "Ответь «True», если да, «False», если нет или неизвестно.\n",
            "\n",
            "delivery_days: Сколько дней потребовалось для доставки товара? \n",
            "Если эта информация не найдена, выведи -1.\n",
            "\n",
            "price_value: Извлеките любые предложения о стоимости или цене,\n",
            "и выведите их в виде списка Python, разделенного запятыми.\n",
            "\n",
            "text: \n",
            "Этот фен для волос просто потрясающий. Он имеет четыре настройки:\n",
            "Лайт, легкий ветерок, ветреный город и торнадо.\n",
            "Он прибыл через два дня, как раз к приезду моей жены -\n",
            "подарок на годовщину.\n",
            "Думаю, моей жене это настолько понравилось, что она потеряла дар речи.\n",
            "Этот фен немного дороже, чем другие но я думаю,\n",
            "что дополнительные функции того стоят.\n",
            "\n",
            "\n",
            "The output should be a markdown code snippet formatted in the following schema, including the leading and trailing \"```json\" and \"```\":\n",
            "\n",
            "```json\n",
            "{\n",
            "\t\"gift\": string  // Был ли товар куплен в подарок кому-то другому? Ответь «True», если да, «False», если нет или неизвестно.\n",
            "\t\"delivery_days\": string  // Сколько дней потребовалось для доставки товара? Если эта информация не найдена, выведи -1.\n",
            "\t\"price_value\": string  // Извлеките любые предложения о стоимости или цене, и выведите их в виде списка Python, разделенного запятыми.\n",
            "}\n",
            "```\n",
            "\n",
            "\n"
          ]
        }
      ],
      "source": [
        "# Посмотрим на получившийся промпт\n",
        "print(messages[0].content)"
      ]
    },
    {
      "cell_type": "code",
      "execution_count": null,
      "id": "8f758ccf",
      "metadata": {
        "tags": [],
        "id": "8f758ccf"
      },
      "outputs": [],
      "source": [
        "response = chat.invoke(messages)"
      ]
    },
    {
      "cell_type": "code",
      "execution_count": null,
      "id": "b71548e7",
      "metadata": {
        "tags": [],
        "id": "b71548e7",
        "outputId": "54493e66-011d-4cd4-bdf2-75a867745313"
      },
      "outputs": [
        {
          "name": "stdout",
          "output_type": "stream",
          "text": [
            "```json\n",
            "{\n",
            "\t\"gift\": \"True\",\n",
            "\t\"delivery_days\": \"2\",\n",
            "\t\"price_value\": \"Этот фен немного дороже, чем другие\"\n",
            "}\n",
            "```\n"
          ]
        }
      ],
      "source": [
        "print(response.content)"
      ]
    },
    {
      "cell_type": "code",
      "execution_count": null,
      "id": "f3d1f0c3-d209-46e8-ba4f-4f415616631f",
      "metadata": {
        "tags": [],
        "id": "f3d1f0c3-d209-46e8-ba4f-4f415616631f",
        "outputId": "46ae94d0-c31a-4aba-fbb1-aeb3cbf997dc"
      },
      "outputs": [
        {
          "data": {
            "text/plain": [
              "str"
            ]
          },
          "execution_count": 53,
          "metadata": {},
          "output_type": "execute_result"
        }
      ],
      "source": [
        "# Это по прежнему строка\n",
        "type(response.content)"
      ]
    },
    {
      "cell_type": "markdown",
      "id": "93e1b330-d24f-4d90-855a-bbf3ad49282d",
      "metadata": {
        "id": "93e1b330-d24f-4d90-855a-bbf3ad49282d"
      },
      "source": [
        "<div class=\"alert alert-info\">\n",
        "\n",
        "Но теперь? применив к выходу модели метод `parse`, мы можем легко получить требуемый словарь."
      ]
    },
    {
      "cell_type": "code",
      "execution_count": null,
      "id": "5b6b2ff3",
      "metadata": {
        "tags": [],
        "id": "5b6b2ff3"
      },
      "outputs": [],
      "source": [
        "output_dict = output_parser.parse(response.content)"
      ]
    },
    {
      "cell_type": "code",
      "execution_count": null,
      "id": "84378c9f-892f-41f3-8cc4-9265cd2d0636",
      "metadata": {
        "tags": [],
        "id": "84378c9f-892f-41f3-8cc4-9265cd2d0636"
      },
      "outputs": [],
      "source": [
        "# eval(response.content)"
      ]
    },
    {
      "cell_type": "code",
      "execution_count": null,
      "id": "a3d15384",
      "metadata": {
        "id": "a3d15384",
        "outputId": "f137ab83-3e80-4698-d7bc-ba8acb68e2ca"
      },
      "outputs": [
        {
          "data": {
            "text/plain": [
              "{'gift': 'True',\n",
              " 'delivery_days': '2',\n",
              " 'price_value': 'Этот фен немного дороже, чем другие'}"
            ]
          },
          "execution_count": 55,
          "metadata": {},
          "output_type": "execute_result"
        }
      ],
      "source": [
        "output_dict"
      ]
    },
    {
      "cell_type": "code",
      "execution_count": null,
      "id": "27e98640",
      "metadata": {
        "id": "27e98640",
        "outputId": "87008354-07b0-47fb-c57f-a4d32c4d7647"
      },
      "outputs": [
        {
          "data": {
            "text/plain": [
              "dict"
            ]
          },
          "execution_count": 56,
          "metadata": {},
          "output_type": "execute_result"
        }
      ],
      "source": [
        "type(output_dict)"
      ]
    },
    {
      "cell_type": "code",
      "execution_count": null,
      "id": "f16b812b",
      "metadata": {
        "tags": [],
        "id": "f16b812b",
        "outputId": "c045f1ff-46bb-4faa-ed71-2d66aeb09049"
      },
      "outputs": [
        {
          "data": {
            "text/plain": [
              "'True'"
            ]
          },
          "execution_count": 57,
          "metadata": {},
          "output_type": "execute_result"
        }
      ],
      "source": [
        "output_dict.get('gift')"
      ]
    },
    {
      "cell_type": "code",
      "source": [
        "import pandas as pd\n",
        "\n",
        "df = pd.read_csv('https://stepik.org/media/attachments/lesson/1110806/100_crypto_messages.csv')\n"
      ],
      "metadata": {
        "id": "Ge7aAG2QSeNi"
      },
      "id": "Ge7aAG2QSeNi",
      "execution_count": 30,
      "outputs": []
    },
    {
      "cell_type": "code",
      "source": [
        "\n",
        "prompt_template = \"\"\" тебе будет передан текст сообщения. Очень вероятно, что он будет содержать тематику криптовалют. Определи по содержанию является ли текст спамом. Если спам верни 1, если нет - верни 0. Ничего кроме цифр\n",
        "Context: {context}\n",
        "Question: Это спам?\n",
        "Answer:\n",
        "\"\"\"\n",
        "prompt_template = PromptTemplate(\n",
        "    input_variables=[\"context\"],\n",
        "    template=prompt_template\n",
        ")\n",
        "for index, row in df.iterrows():\n",
        "  prompt = prompt_template.format(context=row['text'])\n",
        "  print(llm.invoke(prompt).content)\n",
        "\n",
        "\n"
      ],
      "metadata": {
        "collapsed": true,
        "colab": {
          "base_uri": "https://localhost:8080/"
        },
        "id": "s2A3KFjpfm-1",
        "outputId": "02744c8c-5199-4d90-fe92-85b4e1501e0e"
      },
      "id": "s2A3KFjpfm-1",
      "execution_count": 48,
      "outputs": [
        {
          "output_type": "stream",
          "name": "stdout",
          "text": [
            "0\n",
            "0\n",
            "1\n",
            "0\n",
            "0\n",
            "0\n",
            "1\n",
            "0\n",
            "0\n",
            "0\n",
            "0\n",
            "1\n",
            "0\n",
            "0\n",
            "1\n",
            "1\n",
            "0\n",
            "0\n",
            "0\n",
            "0\n",
            "0\n",
            "1\n",
            "0\n",
            "0\n",
            "0\n",
            "0\n",
            "0\n",
            "1\n",
            "1\n",
            "0\n",
            "1\n",
            "0\n",
            "1\n",
            "1\n",
            "1\n",
            "1\n",
            "0\n",
            "0\n",
            "1\n",
            "1\n",
            "0\n",
            "1\n",
            "1\n",
            "0\n",
            "1\n",
            "1\n",
            "1\n",
            "0\n",
            "1\n",
            "0\n",
            "0\n",
            "1\n",
            "0\n",
            "1\n",
            "1\n",
            "0\n",
            "1\n",
            "1\n",
            "1\n",
            "0\n",
            "1\n",
            "1\n",
            "0\n",
            "0\n",
            "1\n",
            "1\n",
            "1\n",
            "1\n",
            "0\n",
            "1\n",
            "1\n",
            "1\n",
            "1\n",
            "0\n",
            "0\n",
            "1\n",
            "0\n",
            "1\n",
            "0\n",
            "0\n",
            "1\n",
            "0\n",
            "0\n",
            "0\n",
            "0\n",
            "0\n",
            "0\n",
            "0\n",
            "1\n",
            "0\n",
            "0\n",
            "1\n",
            "0\n",
            "1\n",
            "0\n",
            "0\n",
            "0\n",
            "0\n",
            "1\n",
            "0\n"
          ]
        }
      ]
    },
    {
      "cell_type": "code",
      "source": [
        "import pandas as pd\n",
        "\n",
        "df = pd.read_csv('https://stepik.org/media/attachments/lesson/1110806/vacancies_messages_50.csv')"
      ],
      "metadata": {
        "id": "nrDNJAHyN15a"
      },
      "id": "nrDNJAHyN15a",
      "execution_count": 1,
      "outputs": []
    },
    {
      "cell_type": "code",
      "source": [
        "from google.colab import drive\n",
        "drive.mount('/content/drive')"
      ],
      "metadata": {
        "colab": {
          "base_uri": "https://localhost:8080/"
        },
        "id": "xK2clJjIXKpT",
        "outputId": "6e1361cf-6eca-43f3-e2fe-e24ba0f833e1"
      },
      "id": "xK2clJjIXKpT",
      "execution_count": 23,
      "outputs": [
        {
          "output_type": "stream",
          "name": "stdout",
          "text": [
            "Mounted at /content/drive\n"
          ]
        }
      ]
    },
    {
      "cell_type": "code",
      "source": [
        "from langchain import PromptTemplate\n",
        "# Загрузка данных\n",
        "df = pd.read_csv('https://stepik.org/media/attachments/lesson/1110806/vacancies_messages_50.csv')\n",
        "\n",
        "# Функция для извлечения информации из описания вакансии\n",
        "def extract_job_info(text):\n",
        "    template = f\"\"\"\n",
        "    Извлеките следующую информацию из описания вакансии:\n",
        "    1️⃣ Позиция (job_title). Как указано в описании вакансии, на том же языке. Проверяем полное совпадение, без учета регистра. Если написан грейд, его нужно убрать (например, Senior Python developer -> Python developer, C++ разработчик (middle, senior) ->C++ разработчик).\n",
        "    2️⃣ Компания (company). Как указано в описании вакансии, на том же языке. Проверяем полное совпадение, без учета регистра. Указываем только название (не пишем финтех, крупная компания, мобильная игра и т.д.).\n",
        "    3️⃣ Зарплата (salary). Числа пишем без пробелов, не пишем тыс. или к.(умножаем в таком случае на 1000), не пишем фикс, плюшки, премии, % от продаж, техника и т.д. Не пишем net, gross, на руки и т.д. После числа (диапазона чисел) указываем валюту руб. или $ после пробела. Если указан диапазон, то пишем его через тире, около тире пробелы не ставим (например, 100к-150к рублей -> 100000-150000 руб.). Если указана только нижняя граница (от 2000$ или 100000+руб), то пишем это значение, используя слово от (например, 100к+руб -> от 100000 руб.). Если указана только верхняя граница, то пишем это значение, используя слово до (например, до 100к руб -> до 100000 руб.). Если зарплата указана за час, то в конце добавляем в час.\n",
        "    4️⃣ Контакты для связи (tg). Указываем контакт в телеграмм, используя @. Проверяем полное совпадение, с учетом регистра. Если указано несколько контаков, то указываем их через запятую (не забывая про пробел после запятой).\n",
        "    5️⃣ Грейд (grade). Возможные значения intern, junior, junior+, middle, middle+, senior, lead. Если указано несколько значений, то пишем их через запятую в порядке возрастания.\n",
        "\n",
        "    Описание вакансии: {text}\n",
        "\n",
        "    Пожалуйста, ответьте в формате:\n",
        "    значение позиции с учетом вышеперечисленных условий\n",
        "    значение компании с учетом вышеперечисленных условий\n",
        "    значение зарплаты с учетом вышеперечисленных условий\n",
        "    значение контакты для связи с учетом вышеперечисленных условий\n",
        "    значение грейд с учетом вышеперечисленных условий\n",
        "\n",
        "    Если информация по какой-то из колонок явно не указана в описании вакансии или LLM не может ее найти, поставьте значение None\n",
        "\n",
        "    \"\"\"\n",
        "    prompt_template = PromptTemplate(\n",
        "      input_variables=[\"text\"],\n",
        "      template=template\n",
        "    )\n",
        "    prompt = prompt_template.format(context=['text'])\n",
        "    print(llm.invoke(prompt).content)\n",
        "    return llm.invoke(prompt).content\n",
        "\n",
        "\n",
        "# Создание новых колонок для хранения извлеченной информации\n",
        "df[['job_title', 'company', 'salary', 'tg', 'grade']] = df['text'].apply(extract_job_info).str.split('\\n', expand=True)\n",
        "\n",
        "# Сохранение результата в новый CSV файл\n",
        "df.to_csv('/content/drive/My Drive/extracted_job_info.csv', index=False)"
      ],
      "metadata": {
        "colab": {
          "base_uri": "https://localhost:8080/"
        },
        "id": "Sq57g-6QOahw",
        "outputId": "ec9c9c35-1a46-4ded-c235-ee6cd7e57b28"
      },
      "id": "Sq57g-6QOahw",
      "execution_count": 54,
      "outputs": [
        {
          "output_type": "stream",
          "name": "stdout",
          "text": [
            "Senior Python developer\n",
            "Collectly\n",
            "От 6000 до 9000 $\n",
            "@ann_gfio\n",
            "middle, senior\n",
            "Системный аналитик\n",
            "Главный научный инновационный внедренческий центр\n",
            "От 320000 до 370000 руб.\n",
            "@NatalyaMaki\n",
            "None\n",
            "Senior Database Administrator\n",
            "Match Systems\n",
            "от 3000$ \n",
            "@lex_kertis\n",
            "None\n",
            "Python developer\n",
            "Финтех\n",
            "От 3000$ в месяц\n",
            "@ResearcherRIT\n",
            "None\n",
            "Analyst\n",
            "Sirena Travel\n",
            "от 120000 до 180000 руб.\n",
            "@ann_gfio\n",
            "middle\n",
            "DevOps инженер\n",
            "Mad Devs\n",
            "до 5000$ \n",
            "@recruiter_maddevs\n",
            "senior\n",
            "Системный аналитик\n",
            "Платформа\n",
            "от 180000 до 300000 руб.\n",
            "@Alexandrabogdanova_96\n",
            "middle, middle+, senior, lead\n",
            "Python/Django full-stack разработчик\n",
            "ivelum\n",
            "от 4000 до 6000 $\n",
            "@lebedevaoi\n",
            "middle\n",
            "Go разработчик\n",
            "КА Алешин Д.А.\n",
            "до 500000 руб.\n",
            "@AleshinDmitry80\n",
            "middle, senior\n",
            "Разработчик (Vue.js / Golang)\n",
            "None\n",
            "None\n",
            "@контакт\n",
            "junior\n",
            "Lead UI/UX Designer\n",
            "None\n",
            "None\n",
            "@alesyaly\n",
            "None\n",
            "QA automation Engineer\n",
            "CFPS\n",
            "от 180000 до 250000 руб.\n",
            "@Ana_Itrecruiter\n",
            "middle\n",
            "Senior Full Stack PHP-разработчик\n",
            "GetCourse\n",
            "от 250000 руб.\n",
            "@Ritttka1\n",
            "middle\n",
            "Frontend разработчик\n",
            "Travelata\n",
            "280000-320000 руб.\n",
            "@ann_gfio\n",
            "senior\n",
            "React Developer\n",
            "None\n",
            "от 180000 до 230000 руб\n",
            "None\n",
            "middle+\n",
            "PHP-developer\n",
            "KT.Team\n",
            "до 240000 руб.\n",
            "@innahotim\n",
            "middle\n",
            "Retention Manager\n",
            "None\n",
            "None\n",
            "@alesyaly\n",
            "None\n",
            "Senior Python developer\n",
            "Skillbox\n",
            "от 300000 до 400000 руб.\n",
            "@ann_gfio\n",
            "None\n",
            "Программист 1С:ЗУП\n",
            "КСА\n",
            "от 220000 до 250000 руб.\n",
            "@saras770\n",
            "None\n",
            "Системный аналитик\n",
            "Amber\n",
            "до 300000 руб\n",
            "@Sholpan771\n",
            "middle, senior\n",
            "Tech Lead QA\n",
            "RecruitIT\n",
            "от 3000$ и выше\n",
            "@ResearcherRIT\n",
            "middle+\n",
            "Python разработчик\n",
            "Траст Строй\n",
            "от 0 руб.\n",
            "@Lyubov_Vladim\n",
            "senior\n",
            "Менеджер по развитию партнерской сети\n",
            "AMBER\n",
            "от 130000 руб.\n",
            "@Sholpan771\n",
            "None\n",
            "Full-stack разработчик\n",
            "АйтиКА\n",
            "от 300000 до 380000 руб.\n",
            "@artur_vv\n",
            "middle\n",
            "C# Engineer\n",
            "GGEM\n",
            "от 17 до 20$ в час\n",
            "@AlexMayel\n",
            "None\n",
            "System Analyst\n",
            "Brief\n",
            "от 240000 до 300000 руб.\n",
            "@smirnsvet\n",
            "middle+, senior\n",
            "Разработчик PowerBuilder\n",
            "Outlines Tech\n",
            "до 290000 руб.\n",
            "@mnoita\n",
            "None\n",
            "Системный аналитик\n",
            "INFOPRO\n",
            "от 100000 до 200000 руб.\n",
            "@ann_gfio\n",
            "middle\n",
            "Java developer\n",
            "None\n",
            "200000-250000 руб.\n",
            "@Sholpan771\n",
            "middle\n",
            "1️⃣ PHP программист\n",
            "2️⃣ 100UP\n",
            "3️⃣ от 150000 до 200000 руб\n",
            "4️⃣ @romanenko_daria\n",
            "5️⃣ middle\n",
            "Junior IT Recruiter\n",
            "AIPeople\n",
            "от 0 руб.\n",
            "@nastyaishiring\n",
            "junior\n",
            "C/C++ Developer\n",
            "NTS\n",
            "140000-300000 руб.\n",
            "@ann_gfio\n",
            "middle, senior\n",
            "Middle PHP developer\n",
            "Водоходъ\n",
            "от 180000 до 200000 руб.\n",
            "@ann_gfio\n",
            "middle, senior\n",
            "Middle Python Developer\n",
            "ALEX GROUP COMPANY\n",
            "от 3000 до 3600 USD\n",
            "@danilavaren\n",
            "middle\n",
            "Python Developer\n",
            "Wildberries\n",
            "от 150000 до 600000 руб.\n",
            "@hr_legoit\n",
            "None\n",
            "SDR\n",
            "Ptolemay\n",
            "от 300 до 1000 $\n",
            "@Dmitriy_Ptolemay, @rinapina_ptolemay\n",
            "junior, middle\n",
            "C# Developer\n",
            "Sirena Travel\n",
            "от 300000 до 400000 руб.\n",
            "@ann_gfio\n",
            "middle\n",
            "Системный администратор\n",
            "MANUFAQTURY\n",
            "от 80000 руб.\n",
            "None\n",
            "None\n",
            "Аналитик\n",
            "Автомакон\n",
            "None\n",
            "@nikolaazzp\n",
            "intern\n",
            "Копирайтер в сфере крипты\n",
            "ALEX GROUP COMPANY\n",
            "от 80000 до 140000 руб.\n",
            "@danilavaren\n",
            "None\n",
            "QA\n",
            "Dreamsoft\n",
            "открыта\n",
            "@DreamITB\n",
            "middle\n",
            "1️⃣ Системный аналитик\n",
            "2️⃣ AWG\n",
            "3️⃣ до 350000 руб.\n",
            "4️⃣ @ElivHR\n",
            "5️⃣ senior\n",
            "Release manager\n",
            "WILDBERRIES\n",
            "от 150000 руб. до 350000 руб.\n",
            "@invader_s\n",
            "None\n",
            "DevOps (Openstack Engineer)\n",
            "Mayflower\n",
            "от 5000 до 6000 $\n",
            "@Alexandr_Mayel\n",
            "senior\n",
            "Python Developer\n",
            "Wildberries\n",
            "от 150000 до 600000 руб.\n",
            "@Fl_recruiter\n",
            "None\n",
            "Middle+/Senior Backend Engineer\n",
            "Qlan\n",
            "110000-140000 руб.\n",
            "@laptev13\n",
            "middle+\n",
            "Python developer\n",
            "None\n",
            "None\n",
            "@vlrstrtsv\n",
            "None\n",
            "DWH developer\n",
            "König Labs\n",
            "от 250000 до 300000 руб.\n",
            "@HrKristinaorekhova\n",
            "middle\n",
            "Frontend разработчик Angular\n",
            "Nobilis.Team\n",
            "от 180000 до 250000 руб.\n",
            "@Anna_HRinIT\n",
            "middle\n",
            "Junior HR Manager\n",
            "ALEX GROUP COMPANY\n",
            "от 70000 до 90000 руб.\n",
            "@danilavaren\n",
            "junior\n"
          ]
        }
      ]
    },
    {
      "cell_type": "code",
      "source": [
        "!pip install openai"
      ],
      "metadata": {
        "colab": {
          "base_uri": "https://localhost:8080/"
        },
        "id": "WpjebVdGPvVi",
        "outputId": "266db5e0-c10d-4d92-8551-30f8b7abbbbf"
      },
      "id": "WpjebVdGPvVi",
      "execution_count": 7,
      "outputs": [
        {
          "output_type": "stream",
          "name": "stdout",
          "text": [
            "Collecting openai\n",
            "  Downloading openai-1.45.0-py3-none-any.whl.metadata (22 kB)\n",
            "Requirement already satisfied: anyio<5,>=3.5.0 in /usr/local/lib/python3.10/dist-packages (from openai) (3.7.1)\n",
            "Requirement already satisfied: distro<2,>=1.7.0 in /usr/lib/python3/dist-packages (from openai) (1.7.0)\n",
            "Collecting httpx<1,>=0.23.0 (from openai)\n",
            "  Downloading httpx-0.27.2-py3-none-any.whl.metadata (7.1 kB)\n",
            "Collecting jiter<1,>=0.4.0 (from openai)\n",
            "  Downloading jiter-0.5.0-cp310-cp310-manylinux_2_17_x86_64.manylinux2014_x86_64.whl.metadata (3.6 kB)\n",
            "Requirement already satisfied: pydantic<3,>=1.9.0 in /usr/local/lib/python3.10/dist-packages (from openai) (2.9.1)\n",
            "Requirement already satisfied: sniffio in /usr/local/lib/python3.10/dist-packages (from openai) (1.3.1)\n",
            "Requirement already satisfied: tqdm>4 in /usr/local/lib/python3.10/dist-packages (from openai) (4.66.5)\n",
            "Requirement already satisfied: typing-extensions<5,>=4.11 in /usr/local/lib/python3.10/dist-packages (from openai) (4.12.2)\n",
            "Requirement already satisfied: idna>=2.8 in /usr/local/lib/python3.10/dist-packages (from anyio<5,>=3.5.0->openai) (3.8)\n",
            "Requirement already satisfied: exceptiongroup in /usr/local/lib/python3.10/dist-packages (from anyio<5,>=3.5.0->openai) (1.2.2)\n",
            "Requirement already satisfied: certifi in /usr/local/lib/python3.10/dist-packages (from httpx<1,>=0.23.0->openai) (2024.8.30)\n",
            "Collecting httpcore==1.* (from httpx<1,>=0.23.0->openai)\n",
            "  Downloading httpcore-1.0.5-py3-none-any.whl.metadata (20 kB)\n",
            "Collecting h11<0.15,>=0.13 (from httpcore==1.*->httpx<1,>=0.23.0->openai)\n",
            "  Downloading h11-0.14.0-py3-none-any.whl.metadata (8.2 kB)\n",
            "Requirement already satisfied: annotated-types>=0.6.0 in /usr/local/lib/python3.10/dist-packages (from pydantic<3,>=1.9.0->openai) (0.7.0)\n",
            "Requirement already satisfied: pydantic-core==2.23.3 in /usr/local/lib/python3.10/dist-packages (from pydantic<3,>=1.9.0->openai) (2.23.3)\n",
            "Downloading openai-1.45.0-py3-none-any.whl (374 kB)\n",
            "\u001b[2K   \u001b[90m━━━━━━━━━━━━━━━━━━━━━━━━━━━━━━━━━━━━━━━━\u001b[0m \u001b[32m374.1/374.1 kB\u001b[0m \u001b[31m6.6 MB/s\u001b[0m eta \u001b[36m0:00:00\u001b[0m\n",
            "\u001b[?25hDownloading httpx-0.27.2-py3-none-any.whl (76 kB)\n",
            "\u001b[2K   \u001b[90m━━━━━━━━━━━━━━━━━━━━━━━━━━━━━━━━━━━━━━━━\u001b[0m \u001b[32m76.4/76.4 kB\u001b[0m \u001b[31m7.4 MB/s\u001b[0m eta \u001b[36m0:00:00\u001b[0m\n",
            "\u001b[?25hDownloading httpcore-1.0.5-py3-none-any.whl (77 kB)\n",
            "\u001b[2K   \u001b[90m━━━━━━━━━━━━━━━━━━━━━━━━━━━━━━━━━━━━━━━━\u001b[0m \u001b[32m77.9/77.9 kB\u001b[0m \u001b[31m7.6 MB/s\u001b[0m eta \u001b[36m0:00:00\u001b[0m\n",
            "\u001b[?25hDownloading jiter-0.5.0-cp310-cp310-manylinux_2_17_x86_64.manylinux2014_x86_64.whl (318 kB)\n",
            "\u001b[2K   \u001b[90m━━━━━━━━━━━━━━━━━━━━━━━━━━━━━━━━━━━━━━━━\u001b[0m \u001b[32m318.9/318.9 kB\u001b[0m \u001b[31m29.3 MB/s\u001b[0m eta \u001b[36m0:00:00\u001b[0m\n",
            "\u001b[?25hDownloading h11-0.14.0-py3-none-any.whl (58 kB)\n",
            "\u001b[2K   \u001b[90m━━━━━━━━━━━━━━━━━━━━━━━━━━━━━━━━━━━━━━━━\u001b[0m \u001b[32m58.3/58.3 kB\u001b[0m \u001b[31m5.2 MB/s\u001b[0m eta \u001b[36m0:00:00\u001b[0m\n",
            "\u001b[?25hInstalling collected packages: jiter, h11, httpcore, httpx, openai\n",
            "Successfully installed h11-0.14.0 httpcore-1.0.5 httpx-0.27.2 jiter-0.5.0 openai-1.45.0\n"
          ]
        }
      ]
    },
    {
      "cell_type": "code",
      "source": [
        "df.head(5)"
      ],
      "metadata": {
        "colab": {
          "base_uri": "https://localhost:8080/",
          "height": 206
        },
        "id": "9IiKhYQ0N4Oz",
        "outputId": "3b18c750-24cf-4fa7-f980-1669cc9da8f2"
      },
      "id": "9IiKhYQ0N4Oz",
      "execution_count": 2,
      "outputs": [
        {
          "output_type": "execute_result",
          "data": {
            "text/plain": [
              "   text_id                                               text\n",
              "0        9  #вакансия #vacancy #Python #удаленка #flask #r...\n",
              "1       31  #ВАКАНСИЯ  #Системный_аналитик #РФ\\n \\nАКЦИОНЕ...\n",
              "2       28  #вакансия #vacancy #job #senior #data #DB #dat...\n",
              "3       49  #вакансия #fulltime #remote \\n\\n🔎 Ищем Руковод...\n",
              "4       18  #vacancy #job #analyst #travel #sirenatravel #..."
            ],
            "text/html": [
              "\n",
              "  <div id=\"df-b4e0e8c8-cb0b-4364-8dde-3869ef7fc2ba\" class=\"colab-df-container\">\n",
              "    <div>\n",
              "<style scoped>\n",
              "    .dataframe tbody tr th:only-of-type {\n",
              "        vertical-align: middle;\n",
              "    }\n",
              "\n",
              "    .dataframe tbody tr th {\n",
              "        vertical-align: top;\n",
              "    }\n",
              "\n",
              "    .dataframe thead th {\n",
              "        text-align: right;\n",
              "    }\n",
              "</style>\n",
              "<table border=\"1\" class=\"dataframe\">\n",
              "  <thead>\n",
              "    <tr style=\"text-align: right;\">\n",
              "      <th></th>\n",
              "      <th>text_id</th>\n",
              "      <th>text</th>\n",
              "    </tr>\n",
              "  </thead>\n",
              "  <tbody>\n",
              "    <tr>\n",
              "      <th>0</th>\n",
              "      <td>9</td>\n",
              "      <td>#вакансия #vacancy #Python #удаленка #flask #r...</td>\n",
              "    </tr>\n",
              "    <tr>\n",
              "      <th>1</th>\n",
              "      <td>31</td>\n",
              "      <td>#ВАКАНСИЯ  #Системный_аналитик #РФ\\n \\nАКЦИОНЕ...</td>\n",
              "    </tr>\n",
              "    <tr>\n",
              "      <th>2</th>\n",
              "      <td>28</td>\n",
              "      <td>#вакансия #vacancy #job #senior #data #DB #dat...</td>\n",
              "    </tr>\n",
              "    <tr>\n",
              "      <th>3</th>\n",
              "      <td>49</td>\n",
              "      <td>#вакансия #fulltime #remote \\n\\n🔎 Ищем Руковод...</td>\n",
              "    </tr>\n",
              "    <tr>\n",
              "      <th>4</th>\n",
              "      <td>18</td>\n",
              "      <td>#vacancy #job #analyst #travel #sirenatravel #...</td>\n",
              "    </tr>\n",
              "  </tbody>\n",
              "</table>\n",
              "</div>\n",
              "    <div class=\"colab-df-buttons\">\n",
              "\n",
              "  <div class=\"colab-df-container\">\n",
              "    <button class=\"colab-df-convert\" onclick=\"convertToInteractive('df-b4e0e8c8-cb0b-4364-8dde-3869ef7fc2ba')\"\n",
              "            title=\"Convert this dataframe to an interactive table.\"\n",
              "            style=\"display:none;\">\n",
              "\n",
              "  <svg xmlns=\"http://www.w3.org/2000/svg\" height=\"24px\" viewBox=\"0 -960 960 960\">\n",
              "    <path d=\"M120-120v-720h720v720H120Zm60-500h600v-160H180v160Zm220 220h160v-160H400v160Zm0 220h160v-160H400v160ZM180-400h160v-160H180v160Zm440 0h160v-160H620v160ZM180-180h160v-160H180v160Zm440 0h160v-160H620v160Z\"/>\n",
              "  </svg>\n",
              "    </button>\n",
              "\n",
              "  <style>\n",
              "    .colab-df-container {\n",
              "      display:flex;\n",
              "      gap: 12px;\n",
              "    }\n",
              "\n",
              "    .colab-df-convert {\n",
              "      background-color: #E8F0FE;\n",
              "      border: none;\n",
              "      border-radius: 50%;\n",
              "      cursor: pointer;\n",
              "      display: none;\n",
              "      fill: #1967D2;\n",
              "      height: 32px;\n",
              "      padding: 0 0 0 0;\n",
              "      width: 32px;\n",
              "    }\n",
              "\n",
              "    .colab-df-convert:hover {\n",
              "      background-color: #E2EBFA;\n",
              "      box-shadow: 0px 1px 2px rgba(60, 64, 67, 0.3), 0px 1px 3px 1px rgba(60, 64, 67, 0.15);\n",
              "      fill: #174EA6;\n",
              "    }\n",
              "\n",
              "    .colab-df-buttons div {\n",
              "      margin-bottom: 4px;\n",
              "    }\n",
              "\n",
              "    [theme=dark] .colab-df-convert {\n",
              "      background-color: #3B4455;\n",
              "      fill: #D2E3FC;\n",
              "    }\n",
              "\n",
              "    [theme=dark] .colab-df-convert:hover {\n",
              "      background-color: #434B5C;\n",
              "      box-shadow: 0px 1px 3px 1px rgba(0, 0, 0, 0.15);\n",
              "      filter: drop-shadow(0px 1px 2px rgba(0, 0, 0, 0.3));\n",
              "      fill: #FFFFFF;\n",
              "    }\n",
              "  </style>\n",
              "\n",
              "    <script>\n",
              "      const buttonEl =\n",
              "        document.querySelector('#df-b4e0e8c8-cb0b-4364-8dde-3869ef7fc2ba button.colab-df-convert');\n",
              "      buttonEl.style.display =\n",
              "        google.colab.kernel.accessAllowed ? 'block' : 'none';\n",
              "\n",
              "      async function convertToInteractive(key) {\n",
              "        const element = document.querySelector('#df-b4e0e8c8-cb0b-4364-8dde-3869ef7fc2ba');\n",
              "        const dataTable =\n",
              "          await google.colab.kernel.invokeFunction('convertToInteractive',\n",
              "                                                    [key], {});\n",
              "        if (!dataTable) return;\n",
              "\n",
              "        const docLinkHtml = 'Like what you see? Visit the ' +\n",
              "          '<a target=\"_blank\" href=https://colab.research.google.com/notebooks/data_table.ipynb>data table notebook</a>'\n",
              "          + ' to learn more about interactive tables.';\n",
              "        element.innerHTML = '';\n",
              "        dataTable['output_type'] = 'display_data';\n",
              "        await google.colab.output.renderOutput(dataTable, element);\n",
              "        const docLink = document.createElement('div');\n",
              "        docLink.innerHTML = docLinkHtml;\n",
              "        element.appendChild(docLink);\n",
              "      }\n",
              "    </script>\n",
              "  </div>\n",
              "\n",
              "\n",
              "<div id=\"df-1becb6a9-47b2-4e94-b180-46efc46c5edf\">\n",
              "  <button class=\"colab-df-quickchart\" onclick=\"quickchart('df-1becb6a9-47b2-4e94-b180-46efc46c5edf')\"\n",
              "            title=\"Suggest charts\"\n",
              "            style=\"display:none;\">\n",
              "\n",
              "<svg xmlns=\"http://www.w3.org/2000/svg\" height=\"24px\"viewBox=\"0 0 24 24\"\n",
              "     width=\"24px\">\n",
              "    <g>\n",
              "        <path d=\"M19 3H5c-1.1 0-2 .9-2 2v14c0 1.1.9 2 2 2h14c1.1 0 2-.9 2-2V5c0-1.1-.9-2-2-2zM9 17H7v-7h2v7zm4 0h-2V7h2v10zm4 0h-2v-4h2v4z\"/>\n",
              "    </g>\n",
              "</svg>\n",
              "  </button>\n",
              "\n",
              "<style>\n",
              "  .colab-df-quickchart {\n",
              "      --bg-color: #E8F0FE;\n",
              "      --fill-color: #1967D2;\n",
              "      --hover-bg-color: #E2EBFA;\n",
              "      --hover-fill-color: #174EA6;\n",
              "      --disabled-fill-color: #AAA;\n",
              "      --disabled-bg-color: #DDD;\n",
              "  }\n",
              "\n",
              "  [theme=dark] .colab-df-quickchart {\n",
              "      --bg-color: #3B4455;\n",
              "      --fill-color: #D2E3FC;\n",
              "      --hover-bg-color: #434B5C;\n",
              "      --hover-fill-color: #FFFFFF;\n",
              "      --disabled-bg-color: #3B4455;\n",
              "      --disabled-fill-color: #666;\n",
              "  }\n",
              "\n",
              "  .colab-df-quickchart {\n",
              "    background-color: var(--bg-color);\n",
              "    border: none;\n",
              "    border-radius: 50%;\n",
              "    cursor: pointer;\n",
              "    display: none;\n",
              "    fill: var(--fill-color);\n",
              "    height: 32px;\n",
              "    padding: 0;\n",
              "    width: 32px;\n",
              "  }\n",
              "\n",
              "  .colab-df-quickchart:hover {\n",
              "    background-color: var(--hover-bg-color);\n",
              "    box-shadow: 0 1px 2px rgba(60, 64, 67, 0.3), 0 1px 3px 1px rgba(60, 64, 67, 0.15);\n",
              "    fill: var(--button-hover-fill-color);\n",
              "  }\n",
              "\n",
              "  .colab-df-quickchart-complete:disabled,\n",
              "  .colab-df-quickchart-complete:disabled:hover {\n",
              "    background-color: var(--disabled-bg-color);\n",
              "    fill: var(--disabled-fill-color);\n",
              "    box-shadow: none;\n",
              "  }\n",
              "\n",
              "  .colab-df-spinner {\n",
              "    border: 2px solid var(--fill-color);\n",
              "    border-color: transparent;\n",
              "    border-bottom-color: var(--fill-color);\n",
              "    animation:\n",
              "      spin 1s steps(1) infinite;\n",
              "  }\n",
              "\n",
              "  @keyframes spin {\n",
              "    0% {\n",
              "      border-color: transparent;\n",
              "      border-bottom-color: var(--fill-color);\n",
              "      border-left-color: var(--fill-color);\n",
              "    }\n",
              "    20% {\n",
              "      border-color: transparent;\n",
              "      border-left-color: var(--fill-color);\n",
              "      border-top-color: var(--fill-color);\n",
              "    }\n",
              "    30% {\n",
              "      border-color: transparent;\n",
              "      border-left-color: var(--fill-color);\n",
              "      border-top-color: var(--fill-color);\n",
              "      border-right-color: var(--fill-color);\n",
              "    }\n",
              "    40% {\n",
              "      border-color: transparent;\n",
              "      border-right-color: var(--fill-color);\n",
              "      border-top-color: var(--fill-color);\n",
              "    }\n",
              "    60% {\n",
              "      border-color: transparent;\n",
              "      border-right-color: var(--fill-color);\n",
              "    }\n",
              "    80% {\n",
              "      border-color: transparent;\n",
              "      border-right-color: var(--fill-color);\n",
              "      border-bottom-color: var(--fill-color);\n",
              "    }\n",
              "    90% {\n",
              "      border-color: transparent;\n",
              "      border-bottom-color: var(--fill-color);\n",
              "    }\n",
              "  }\n",
              "</style>\n",
              "\n",
              "  <script>\n",
              "    async function quickchart(key) {\n",
              "      const quickchartButtonEl =\n",
              "        document.querySelector('#' + key + ' button');\n",
              "      quickchartButtonEl.disabled = true;  // To prevent multiple clicks.\n",
              "      quickchartButtonEl.classList.add('colab-df-spinner');\n",
              "      try {\n",
              "        const charts = await google.colab.kernel.invokeFunction(\n",
              "            'suggestCharts', [key], {});\n",
              "      } catch (error) {\n",
              "        console.error('Error during call to suggestCharts:', error);\n",
              "      }\n",
              "      quickchartButtonEl.classList.remove('colab-df-spinner');\n",
              "      quickchartButtonEl.classList.add('colab-df-quickchart-complete');\n",
              "    }\n",
              "    (() => {\n",
              "      let quickchartButtonEl =\n",
              "        document.querySelector('#df-1becb6a9-47b2-4e94-b180-46efc46c5edf button');\n",
              "      quickchartButtonEl.style.display =\n",
              "        google.colab.kernel.accessAllowed ? 'block' : 'none';\n",
              "    })();\n",
              "  </script>\n",
              "</div>\n",
              "    </div>\n",
              "  </div>\n"
            ],
            "application/vnd.google.colaboratory.intrinsic+json": {
              "type": "dataframe",
              "variable_name": "df",
              "summary": "{\n  \"name\": \"df\",\n  \"rows\": 50,\n  \"fields\": [\n    {\n      \"column\": \"text_id\",\n      \"properties\": {\n        \"dtype\": \"number\",\n        \"std\": 14,\n        \"min\": 1,\n        \"max\": 50,\n        \"num_unique_values\": 50,\n        \"samples\": [\n          5,\n          2,\n          43\n        ],\n        \"semantic_type\": \"\",\n        \"description\": \"\"\n      }\n    },\n    {\n      \"column\": \"text\",\n      \"properties\": {\n        \"dtype\": \"string\",\n        \"num_unique_values\": 50,\n        \"samples\": [\n          \"#job #\\u0432\\u0430\\u043a\\u0430\\u043d\\u0441\\u0438\\u044f #\\u0440\\u0430\\u0431\\u043e\\u0442\\u0430 #fulltime  #TS #Typescript #vue #frontend #\\u0443\\u0434\\u0430\\u043b\\u0435\\u043d\\u043a\\u0430 #senior\\n\\n\\u0412\\u0430\\u043a\\u0430\\u043d\\u0441\\u0438\\u044f: Frontend \\u0440\\u0430\\u0437\\u0440\\u0430\\u0431\\u043e\\u0442\\u0447\\u0438\\u043a\\n\\u041a\\u043e\\u043c\\u043f\\u0430\\u043d\\u0438\\u044f: Travelata\\n\\u0413\\u043e\\u0440\\u043e\\u0434: \\u041c\\u043e\\u0441\\u043a\\u0432\\u0430\\n\\u0412\\u0438\\u043b\\u043a\\u0430: 280\\u043a-320\\u043a.net\\n\\u0424\\u043e\\u0440\\u043c\\u0430\\u0442: \\u0443\\u0434\\u0430\\u043b\\u0435\\u043d\\u043d\\u044b\\u0439\\n\\n\\u041e \\u043a\\u043e\\u043c\\u043f\\u0430\\u043d\\u0438\\u0438:\\nTravelata \\u2014 \\u043a\\u0440\\u0443\\u043f\\u043d\\u0430\\u044f \\u0442\\u0443\\u0440\\u0438\\u0441\\u0442\\u0438\\u0447\\u0435\\u0441\\u043a\\u0430\\u044f \\u043a\\u043e\\u043c\\u043f\\u0430\\u043d\\u0438\\u044f \\u0441 \\u043c\\u0435\\u0436\\u0434\\u0443\\u043d\\u0430\\u0440\\u043e\\u0434\\u043d\\u044b\\u043c\\u0438 \\u0438\\u043d\\u0432\\u0435\\u0441\\u0442\\u0438\\u0446\\u0438\\u044f\\u043c\\u0438 \\u0431\\u043e\\u043b\\u0435\\u0435 10 \\u043c\\u043b\\u043d. \\u0434\\u043e\\u043b\\u043b\\u0430\\u0440\\u043e\\u0432. \\u0412\\u0445\\u043e\\u0434\\u0438\\u0442 \\u0432 \\u0433\\u0440\\u0443\\u043f\\u043f\\u0443 \\u043a\\u043e\\u043c\\u043f\\u0430\\u043d\\u0438\\u0439, \\u0440\\u0430\\u0431\\u043e\\u0442\\u0430\\u044e\\u0449\\u0438\\u0445 \\u0432 5 \\u0441\\u0442\\u0440\\u0430\\u043d\\u0430\\u0445 \\u0415\\u0432\\u0440\\u043e\\u043f\\u044b, \\u0438 \\u044f\\u0432\\u043b\\u044f\\u0435\\u0442\\u0441\\u044f \\u0447\\u043b\\u0435\\u043d\\u043e\\u043c \\u0410\\u043b\\u044c\\u044f\\u043d\\u0441\\u0430 \\u0422\\u0443\\u0440\\u0438\\u0441\\u0442\\u0438\\u0447\\u0435\\u0441\\u043a\\u0438\\u0445 \\u0410\\u0433\\u0435\\u043d\\u0442\\u0441\\u0442\\u0432.\\n\\n\\u041a\\u043e\\u043c\\u043f\\u0430\\u043d\\u0438\\u044f \\u201cTravelata\\u201d \\u0438\\u0449\\u0435\\u0442 senior frontend \\u0440\\u0430\\u0437\\u0440\\u0430\\u0431\\u043e\\u0442\\u0447\\u0438\\u043a\\u0430 \\u0441 \\u043e\\u043f\\u044b\\u0442\\u043e\\u043c \\u043e\\u0442 5 \\u043b\\u0435\\u0442.\\n \\n\\ud83d\\udd38\\u0422\\u0435\\u0445\\u043d\\u043e\\u043b\\u043e\\u0433\\u0438\\u0447\\u0435\\u0441\\u043a\\u0438\\u0439 \\u0441\\u0442\\u0435\\u043a \\u0438 \\u0438\\u0441\\u043f\\u043e\\u043b\\u044c\\u0437\\u0443\\u0435\\u043c\\u044b\\u0435 \\u0438\\u043d\\u0441\\u0442\\u0440\\u0443\\u043c\\u0435\\u043d\\u0442\\u044b: Vue.js, Vuex, Typescript, Webpack, Backbone.js, Backbone.Epoxy, Angular.js, Bootstrap, jQuery,   jQuery Mobile, underscore.js.\\n \\n\\ud83d\\udd38\\u0412\\u0430\\u043c \\u043f\\u0440\\u0435\\u0434\\u0441\\u0442\\u043e\\u0438\\u0442:\\n-\\u041f\\u0440\\u043e\\u0435\\u043a\\u0442\\u0438\\u0440\\u043e\\u0432\\u0430\\u0442\\u044c \\u0438 \\u0440\\u0430\\u0437\\u0440\\u0430\\u0431\\u0430\\u0442\\u044b\\u0432\\u0430\\u0442\\u044c \\u043d\\u043e\\u0432\\u044b\\u0435 \\u043a\\u043e\\u043c\\u043f\\u043e\\u043d\\u0435\\u043d\\u0442\\u044b \\u043f\\u043e\\u0440\\u0442\\u0430\\u043b\\u0430 \\u043f\\u043e \\u043f\\u043e\\u0438\\u0441\\u043a\\u0443 \\u0442\\u0443\\u0440\\u043e\\u0432, \\u0440\\u0435\\u0444\\u0430\\u043a\\u0442\\u043e\\u0440\\u0438\\u0442\\u044c \\u0438 \\u0434\\u043e\\u0440\\u0430\\u0431\\u0430\\u0442\\u044b\\u0432\\u0430\\u0442\\u044c \\u0441\\u0443\\u0449\\u0435\\u0441\\u0442\\u0432\\u0443\\u044e\\u0449\\u0438\\u0435 \\u043a\\u043e\\u043c\\u043f\\u043e\\u043d\\u0435\\u043d\\u0442\\u044b;\\n-\\u0412\\u0435\\u0440\\u0441\\u0442\\u0430\\u0442\\u044c \\u043c\\u0430\\u043a\\u0435\\u0442\\u044b, \\u044d\\u043a\\u0441\\u043f\\u043e\\u0440\\u0442\\u0438\\u0440\\u043e\\u0432\\u0430\\u043d\\u043d\\u044b\\u0435 \\u0438\\u0437 Sketch \\u0432 Zeplin;\\n-\\u041f\\u0438\\u0441\\u0430\\u0442\\u044c unit-\\u0442\\u0435\\u0441\\u0442\\u044b \\u043d\\u0430 Jest;\\n-\\u041d\\u0430\\u0445\\u043e\\u0434\\u0438\\u0442\\u044c \\u0440\\u0435\\u0448\\u0435\\u043d\\u0438\\u044f \\u0441\\u043b\\u043e\\u0436\\u043d\\u044b\\u0445 \\u0437\\u0430\\u0434\\u0430\\u0447 \\u0438 \\u0443\\u043c\\u0435\\u0442\\u044c \\u0441\\u0430\\u043c\\u043e\\u0441\\u0442\\u043e\\u044f\\u0442\\u0435\\u043b\\u044c\\u043d\\u043e \\u043f\\u0440\\u0435\\u0432\\u0440\\u0430\\u0442\\u0438\\u0442\\u044c \\u0431\\u0438\\u0437\\u043d\\u0435\\u0441-\\u0438\\u0434\\u0435\\u044e \\u0432 \\u043f\\u043e\\u0434\\u0434\\u0435\\u0440\\u0436\\u0438\\u0432\\u0430\\u0435\\u043c\\u044b\\u0439 \\u043a\\u043e\\u0434;\\n-\\u0410\\u043a\\u0442\\u0438\\u0432\\u043d\\u043e \\u0443\\u0447\\u0430\\u0441\\u0442\\u0432\\u043e\\u0432\\u0430\\u0442\\u044c \\u0432 \\u043e\\u0431\\u0441\\u0443\\u0436\\u0434\\u0435\\u043d\\u0438\\u0438 \\u0437\\u0430\\u0434\\u0430\\u0447, \\u043f\\u0440\\u0435\\u0434\\u043b\\u0430\\u0433\\u0430\\u0442\\u044c UI-UX \\u0440\\u0435\\u0448\\u0435\\u043d\\u0438\\u044f \\u0438 \\u0430\\u0440\\u0445\\u0438\\u0442\\u0435\\u043a\\u0442\\u0443\\u0440\\u043d\\u044b\\u0435 \\u0440\\u0435\\u0448\\u0435\\u043d\\u0438\\u044f Frontend \\u0437\\u0430\\u0434\\u0430\\u0447;\\n-\\u0423\\u0447\\u0430\\u0441\\u0442\\u0432\\u043e\\u0432\\u0430\\u0442\\u044c \\u0432 \\u043f\\u0435\\u0440\\u0435\\u0440\\u0430\\u0431\\u043e\\u0442\\u043a\\u0435 \\u0438 \\u0443\\u0441\\u043e\\u0432\\u0435\\u0440\\u0448\\u0435\\u043d\\u0441\\u0442\\u0432\\u043e\\u0432\\u0430\\u043d\\u0438\\u0438 \\u0430\\u0440\\u0445\\u0438\\u0442\\u0435\\u043a\\u0442\\u0443\\u0440\\u044b \\u0438 \\u0438\\u043d\\u0444\\u0440\\u0430\\u0441\\u0442\\u0440\\u0443\\u043a\\u0442\\u0443\\u0440\\u044b \\u043f\\u0440\\u043e\\u0435\\u043a\\u0442\\u0430;\\n-\\u0410\\u043a\\u0442\\u0438\\u0432\\u043d\\u043e \\u043f\\u0440\\u0435\\u0434\\u043b\\u0430\\u0433\\u0430\\u0442\\u044c \\u0438 \\u0432\\u043d\\u0435\\u0434\\u0440\\u044f\\u0442\\u044c \\u043d\\u043e\\u0432\\u044b\\u0435 \\u0442\\u0435\\u0445\\u043d\\u043e\\u043b\\u043e\\u0433\\u0438\\u0438 \\u0432 \\u043f\\u0440\\u043e\\u0435\\u043a\\u0442;\\n-\\u041f\\u0440\\u043e\\u0432\\u043e\\u0434\\u0438\\u0442\\u044c Code Review \\u0437\\u0430\\u0434\\u0430\\u0447 Middle \\u0438 Senior \\u0440\\u0430\\u0437\\u0440\\u0430\\u0431\\u043e\\u0442\\u0447\\u0438\\u043a\\u043e\\u0432.\\n \\n\\ud83d\\udd38\\u041c\\u044b \\u043e\\u0436\\u0438\\u0434\\u0430\\u0435\\u043c:\\n-\\u0423\\u0432\\u0435\\u0440\\u0435\\u043d\\u043d\\u043e\\u0435 \\u0432\\u043b\\u0430\\u0434\\u0435\\u043d\\u0438\\u0435 \\u0444\\u0440\\u0435\\u0439\\u043c\\u0432\\u043e\\u0440\\u043a\\u043e\\u043c Vue.js;\\n-\\u041e\\u043f\\u044b\\u0442 \\u0440\\u0430\\u0437\\u0440\\u0430\\u0431\\u043e\\u0442\\u043a\\u0438 \\u043d\\u0430 Typescript;\\n-\\u041e\\u043f\\u044b\\u0442 \\u043d\\u0430\\u043f\\u0438\\u0441\\u0430\\u043d\\u0438\\u044f Unit-\\u0442\\u0435\\u0441\\u0442\\u043e\\u0432 \\u0441 \\u0438\\u0441\\u043f\\u043e\\u043b\\u044c\\u0437\\u043e\\u0432\\u0430\\u043d\\u0438\\u0435\\u043c Jest;\\n-\\u041e\\u0442\\u043b\\u0438\\u0447\\u043d\\u044b\\u0435 \\u0437\\u043d\\u0430\\u043d\\u0438\\u044f Sass/Less, Vanilla Javascript;\\n-\\u0425\\u043e\\u0440\\u043e\\u0448\\u0438\\u0435 \\u0437\\u043d\\u0430\\u043d\\u0438\\u044f \\u041e\\u041e\\u041f \\u0438 \\u0441\\u043e\\u0432\\u0440\\u0435\\u043c\\u0435\\u043d\\u043d\\u044b\\u0445 \\u0442\\u0440\\u0435\\u043d\\u0434\\u043e\\u0432 \\u0440\\u0430\\u0437\\u0440\\u0430\\u0431\\u043e\\u0442\\u043a\\u0438. \\u0417\\u043d\\u0430\\u043d\\u0438\\u0435 \\u0438 \\u043f\\u043e\\u043d\\u0438\\u043c\\u0430\\u043d\\u0438\\u0435 \\u043f\\u0430\\u0442\\u0442\\u0435\\u0440\\u043d\\u043e\\u0432 -\\u043f\\u0440\\u043e\\u0435\\u043a\\u0442\\u0438\\u0440\\u043e\\u0432\\u0430\\u043d\\u0438\\u044f;\\n-\\u041f\\u043e\\u043d\\u0438\\u043c\\u0430\\u043d\\u0438\\u0435 \\u043f\\u0440\\u0438\\u043d\\u0446\\u0438\\u043f\\u043e\\u0432 SSR \\u0438 \\u043e\\u043f\\u044b\\u0442 \\u0440\\u0430\\u0431\\u043e\\u0442\\u044b \\u0441 Nuxt.JS;\\n-Pixel perfect \\u0432\\u0435\\u0440\\u0441\\u0442\\u043a\\u0430;\\n-\\u0423\\u043c\\u0435\\u043d\\u0438\\u0435 \\u043f\\u0438\\u0441\\u0430\\u0442\\u044c \\u0441\\u0435\\u043c\\u0430\\u043d\\u0442\\u0438\\u0447\\u0435\\u0441\\u043a\\u0438 \\u043f\\u0440\\u0430\\u0432\\u0438\\u043b\\u044c\\u043d\\u044b\\u0439 html, \\u0441\\u043e\\u043e\\u0442\\u0432\\u0435\\u0442\\u0441\\u0442\\u0432\\u0443\\u044e\\u0449\\u0438\\u0439 \\u0441\\u0442\\u0430\\u043d\\u0434\\u0430\\u0440\\u0442\\u0430\\u043c W3C;\\n-\\u0425\\u043e\\u0440\\u043e\\u0448\\u0438\\u0439 \\u0443\\u0440\\u043e\\u0432\\u0435\\u043d\\u044c \\u043a\\u043e\\u043c\\u043c\\u0443\\u043d\\u0438\\u043a\\u0430\\u0446\\u0438\\u0439 \\u0441 \\u043e\\u043a\\u0440\\u0443\\u0436\\u0430\\u044e\\u0449\\u0438\\u043c\\u0438 \\u0438 \\u0432\\u0434\\u0443\\u043c\\u0447\\u0438\\u0432\\u043e\\u0435 \\u0432\\u044b\\u043f\\u043e\\u043b\\u043d\\u0435\\u043d\\u0438\\u0435 \\u043f\\u043e\\u0441\\u0442\\u0430\\u0432\\u043b\\u0435\\u043d\\u043d\\u044b\\u0445 \\u0437\\u0430\\u0434\\u0430\\u0447;\\n-\\u041f\\u0443\\u043d\\u043a\\u0442\\u0443\\u0430\\u043b\\u044c\\u043d\\u043e\\u0441\\u0442\\u044c, \\u0441\\u043e\\u0431\\u043b\\u044e\\u0434\\u0435\\u043d\\u0438\\u0435 \\u0441\\u0440\\u043e\\u043a\\u043e\\u0432, \\u0445\\u043e\\u0440\\u043e\\u0448\\u0438\\u0435 \\u043d\\u0430\\u0432\\u044b\\u043a\\u0438 \\u043f\\u043b\\u0430\\u043d\\u0438\\u0440\\u043e\\u0432\\u0430\\u043d\\u0438\\u044f, \\u0443\\u043c\\u0435\\u043d\\u0438\\u0435 \\u0441\\u0442\\u0440\\u0443\\u043a\\u0442\\u0443\\u0440\\u0438\\u0440\\u043e\\u0432\\u0430\\u0442\\u044c \\u0437\\u0430\\u0434\\u0430\\u0447\\u0438.\\n\\n\\u041f\\u043b\\u044e\\u0441\\u043e\\u043c \\u0431\\u0443\\u0434\\u0435\\u0442 \\u043f\\u0440\\u043e\\u0434\\u0432\\u0438\\u043d\\u0443\\u0442\\u044b\\u0439 \\u043e\\u043f\\u044b\\u0442 \\u043d\\u0430\\u0441\\u0442\\u0440\\u043e\\u0439\\u043a\\u0438 \\u0441\\u0438\\u0441\\u0442\\u0435\\u043c\\u044b \\u0441\\u0431\\u043e\\u0440\\u043a\\u0438 \\u043f\\u0440\\u043e\\u0435\\u043a\\u0442\\u0430 Webpack, \\u043e\\u043f\\u044b\\u0442 \\u043f\\u0440\\u043e\\u0435\\u043a\\u0442\\u0438\\u0440\\u043e\\u0432\\u0430\\u043d\\u0438\\u044f \\u0430\\u0440\\u0445\\u0438\\u0442\\u0435\\u043a\\u0442\\u0443\\u0440\\u044b \\u043f\\u0440\\u0438\\u043b\\u043e\\u0436\\u0435\\u043d\\u0438\\u044f \\u0441 \\u043d\\u0443\\u043b\\u044f, \\u043e\\u043f\\u044b\\u0442 \\u043d\\u0430\\u043f\\u0438\\u0441\\u0430\\u043d\\u0438\\u044f BFF \\u043f\\u0440\\u0438\\u043b\\u043e\\u0436\\u0435\\u043d\\u0438\\u0439 \\u043d\\u0430 Node JS, \\u0437\\u043d\\u0430\\u043d\\u0438\\u0435 \\u0438 \\u043f\\u043e\\u043d\\u0438\\u043c\\u0430\\u043d\\u0438\\u0435 \\u043f\\u0440\\u0438\\u043d\\u0446\\u0438\\u043f\\u043e\\u0432 \\u043f\\u043e\\u0441\\u0442\\u0440\\u043e\\u0435\\u043d\\u0438\\u044f \\u0444\\u0440\\u043e\\u043d\\u0442\\u0435\\u043d\\u0434\\u0430 \\u0441\\u043b\\u043e\\u0436\\u043d\\u044b\\u0445 \\u043f\\u0440\\u0438\\u043b\\u043e\\u0436\\u0435\\u043d\\u0438\\u0439, \\u043e\\u043f\\u044b\\u0442 \\u0440\\u0430\\u0431\\u043e\\u0442\\u044b \\u0441 docker. \\n\\n\\ud83d\\udd38\\u041c\\u044b \\u043f\\u0440\\u0435\\u0434\\u043b\\u0430\\u0433\\u0430\\u0435\\u043c:\\n-\\u041e\\u0444\\u043e\\u0440\\u043c\\u043b\\u0435\\u043d\\u0438\\u0435 \\u043f\\u043e \\u0422\\u041a \\u0420\\u0424;\\n-\\u0414\\u041c\\u0421 \\u043f\\u043e\\u0441\\u043b\\u0435 \\u0438\\u0441\\u043f\\u044b\\u0442\\u0430\\u0442\\u0435\\u043b\\u044c\\u043d\\u043e\\u0433\\u043e \\u0441\\u0440\\u043e\\u043a\\u0430;\\n-\\u0412\\u043e\\u0437\\u043c\\u043e\\u0436\\u043d\\u043e\\u0441\\u0442\\u044c \\u0443\\u0434\\u0430\\u043b\\u0435\\u043d\\u043d\\u043e\\u0439 \\u0440\\u0430\\u0431\\u043e\\u0442\\u044b;\\n-\\u0413\\u0440\\u0430\\u0444\\u0438\\u043a \\u0440\\u0430\\u0431\\u043e\\u0442\\u044b 5/2;\\n-\\u0421\\u043a\\u0438\\u0434\\u043a\\u0438 \\u043d\\u0430 \\u0432\\u0441\\u0435 \\u043f\\u0440\\u043e\\u0434\\u0443\\u043a\\u0442\\u044b \\u043a\\u043e\\u043c\\u043f\\u0430\\u043d\\u0438\\u0438;\\n-\\u0413\\u043e\\u0442\\u043e\\u0432\\u044b \\u043f\\u0440\\u0435\\u0434\\u043e\\u0441\\u0442\\u0430\\u0432\\u0438\\u0442\\u044c \\u043d\\u0435\\u043e\\u0431\\u0445\\u043e\\u0434\\u0438\\u043c\\u0443\\u044e \\u0442\\u0435\\u0445\\u043d\\u0438\\u043a\\u0443 \\u0434\\u043b\\u044f \\u0440\\u0430\\u0431\\u043e\\u0442\\u044b;\\n\\n\\u2139\\ufe0f\\u0414\\u043b\\u044f \\u043f\\u043e\\u043b\\u0443\\u0447\\u0435\\u043d\\u0438\\u044f \\u0431\\u043e\\u043b\\u0435\\u0435 \\u043f\\u043e\\u0434\\u0440\\u043e\\u0431\\u043d\\u043e\\u0439 \\u0438\\u043d\\u0444\\u043e\\u0440\\u043c\\u0430\\u0446\\u0438\\u0438: @ann_gfio.\",\n          \"#copywriter #\\u0432\\u0430\\u043a\\u0430\\u043d\\u0441\\u0438\\u044f  #fulltime #\\u0443\\u0434\\u0430\\u043b\\u0435\\u043d\\u043a\\u0430  #remote #crypto #blockchain\\n\\n\\u041a\\u043e\\u043c\\u043f\\u0430\\u043d\\u0438\\u044f: ALEX GROUP COMPANY\\n\\u0412\\u0438\\u043b\\u043a\\u0430: \\u043e\\u0442 80 000 \\u0434\\u043e 140 000 \\u0440\\u0443\\u0431.\\n\\u0412\\u0430\\u043a\\u0430\\u043d\\u0441\\u0438\\u044f: \\u041a\\u043e\\u043f\\u0438\\u0440\\u0430\\u0439\\u0442\\u0435\\u0440 \\u0432 \\u0441\\u0444\\u0435\\u0440\\u0435 \\u043a\\u0440\\u0438\\u043f\\u0442\\u044b\\n\\n\\u041c\\u044b \\u0432 AlexGroup \\u0441\\u043f\\u0435\\u0446\\u0438\\u0430\\u043b\\u0438\\u0437\\u0438\\u0440\\u0443\\u0435\\u043c\\u0441\\u044f \\u043d\\u0430 \\u0441\\u043e\\u0437\\u0434\\u0430\\u043d\\u0438\\u0438 \\u0438 \\u043f\\u0435\\u0440\\u0435\\u0432\\u043e\\u0434\\u0435 \\u043a\\u043e\\u043d\\u0442\\u0435\\u043d\\u0442\\u0430 \\u043d\\u043e\\u0441\\u0438\\u0442\\u0435\\u043b\\u044f\\u043c\\u0438 \\u043d\\u0430 \\u043a\\u0440\\u0438\\u043f\\u0442\\u043e\\u0432\\u0430\\u043b\\u044e\\u0442\\u043d\\u0443\\u044e \\u0442\\u0435\\u043c\\u0430\\u0442\\u0438\\u043a\\u0443 \\u0438 \\u043c\\u043d\\u043e\\u0433\\u0438\\u0435 \\u0434\\u0440\\u0443\\u0433\\u0438\\u0435. \\n\\n\\u0418\\u0449\\u0435\\u043c \\u043a\\u043e\\u043f\\u0438\\u0440\\u0430\\u0439\\u0442\\u0435\\u0440\\u0430 (\\u043c\\u0435\\u043d\\u0435\\u0434\\u0436\\u0435\\u0440 \\u0432 TG, linkedin, reddit) \\u0432 \\u043a\\u0440\\u0438\\u043f\\u0442\\u043e \\u0441\\u0444\\u0435\\u0440\\u0435\\n\\n\\u0422\\u0440\\u0435\\u0431\\u043e\\u0432\\u0430\\u043d\\u0438\\u044f:\\n\\u2014 \\u0423\\u0432\\u0435\\u0440\\u0435\\u043d\\u043d\\u043e\\u0435 \\u0432\\u043b\\u0430\\u0434\\u0435\\u043d\\u0438\\u0435 \\u0430\\u043d\\u0433\\u043b\\u0438\\u0439\\u0441\\u043a\\u0438\\u043c \\u044f\\u0437\\u044b\\u043a\\u043e\\u043c: \\u0440\\u0430\\u0437\\u0433\\u043e\\u0432\\u043e\\u0440\\u043d\\u044b\\u0439 \\u0438 \\u043f\\u0438\\u0441\\u044c\\u043c\\u0435\\u043d\\u043d\\u044b\\u0439;\\n\\u2014 \\u041e\\u043f\\u044b\\u0442 \\u0440\\u0430\\u0431\\u043e\\u0442\\u044b \\u0441 \\u043a\\u0440\\u0438\\u043f\\u0442\\u043e, \\u0431\\u043b\\u043e\\u043a\\u0447\\u0435\\u0439\\u043d \\u0438 \\u0444\\u0438\\u043d\\u0442\\u0435\\u0445 \\u043f\\u0440\\u043e\\u0435\\u043a\\u0442\\u0430\\u043c\\u0438 \\u043e\\u0431\\u044f\\u0437\\u0430\\u0442\\u0435\\u043b\\u0435\\u043d;\\n\\u2014 \\u041d\\u0430\\u043f\\u0438\\u0441\\u0430\\u043d\\u0438\\u0435 \\u0443\\u043d\\u0438\\u043a\\u0430\\u043b\\u044c\\u043d\\u044b\\u0445 \\u0442\\u0435\\u043a\\u0441\\u0442\\u043e\\u0432  SEO-\\u043e\\u043f\\u0442\\u0438\\u043c\\u0438\\u0437\\u0430\\u0446\\u0438\\u044f, \\u0444\\u043e\\u0440\\u043c\\u0430\\u0442\\u0438\\u0440\\u043e\\u0432\\u0430\\u043d\\u043d\\u044b\\u0435 \\u0437\\u0430\\u0433\\u043e\\u043b\\u043e\\u0432\\u043a\\u0430\\u043c\\u0438, \\u0430\\u0431\\u0437\\u0430\\u0446\\u0430\\u043c\\u0438, \\u0441\\u043f\\u0438\\u0441\\u043a\\u0430\\u043c\\u0438.;\\n\\u2014 \\u0421\\u043e\\u0441\\u0442\\u0430\\u0432\\u043b\\u0435\\u043d\\u0438\\u0435 \\u043e\\u0444\\u0438\\u0446\\u0438\\u0430\\u043b\\u044c\\u043d\\u044b\\u0445 \\u0434\\u043e\\u043a\\u0443\\u043c\\u0435\\u043d\\u0442\\u043e\\u0432 (\\u043f\\u0438\\u0442\\u0447-\\u0434\\u0435\\u043a\\u0438, WP, \\u043f\\u0440\\u043e\\u0447\\u0435\\u0435).\\n\\u2014 \\u041f\\u043e\\u0434\\u0433\\u043e\\u0442\\u043e\\u0432\\u043a\\u0430 \\u043b\\u044e\\u0431\\u043e\\u0433\\u043e \\u0440\\u043e\\u0434\\u0430 \\u0442\\u0435\\u043a\\u0441\\u0442\\u043e\\u0432\\u044b\\u0445 \\u043c\\u0430\\u0442\\u0435\\u0440\\u0438\\u0430\\u043b\\u043e\\u0432: \\u0441\\u0442\\u0430\\u0442\\u0435\\u0439, \\u0432 \\u0442\\u043e\\u043c \\u0447\\u0438\\u0441\\u043b\\u0435 \\u0430\\u043d\\u0430\\u043b\\u0438\\u0442\\u0438\\u0447\\u0435\\u0441\\u043a\\u0438\\u0445, \\u043f\\u0440\\u0435\\u0441\\u0441-\\u0440\\u0435\\u043b\\u0438\\u0437\\u043e\\u0432, SMM \\u0442\\u0435\\u043a\\u0441\\u0442\\u043e\\u0432, \\u043f\\u0440\\u043e\\u0434\\u0430\\u044e\\u0449\\u0438\\u0445 \\u0442\\u0435\\u043a\\u0441\\u0442\\u043e\\u0432, \\u0438\\u043d\\u0442\\u0435\\u0440\\u0432\\u044c\\u044e \\u0438 \\u0442\\u0430\\u043a \\u0434\\u0430\\u043b\\u0435\\n\\n\\u0427\\u0442\\u043e \\u043c\\u044b \\u043f\\u0440\\u0435\\u0434\\u043b\\u0430\\u0433\\u0430\\u0435\\u043c:\\n\\u2014 Fulltime-\\u0440\\u0430\\u0431\\u043e\\u0442\\u0430. \\u0412\\u043e\\u0437\\u043c\\u043e\\u0436\\u0435\\u043d \\u0433\\u0438\\u0431\\u043a\\u0438\\u0439 \\u0433\\u0440\\u0430\\u0444\\u0438\\u043a (\\u0441 \\u0441\\u043e\\u0445\\u0440\\u0430\\u043d\\u0435\\u043d\\u0438\\u0435\\u043c \\u043f\\u0440\\u043e\\u0434\\u0443\\u043a\\u0442\\u0438\\u0432\\u043d\\u043e\\u0441\\u0442\\u0438)\\n\\u2014 \\u041a\\u043e\\u043d\\u043a\\u0443\\u0440\\u0435\\u043d\\u0442\\u043d\\u0430\\u044f \\u0417\\u041f \\u043e\\u0442 80 000 \\u0434\\u043e 140 000 \\u0440., \\u043f\\u043e\\u0434\\u0440\\u043e\\u0431\\u043d\\u0435\\u0435 \\u043e\\u0431\\u0433\\u043e\\u0432\\u043e\\u0440\\u0438\\u043c \\u043b\\u0438\\u0447\\u043d\\u043e\\n\\u2014 \\u0420\\u0430\\u0431\\u043e\\u0442\\u0430 \\u0432 \\u043e\\u0434\\u043d\\u043e\\u0439 \\u0438\\u0437 \\u0442\\u043e\\u043f\\u043e\\u0432\\u044b\\u0445 \\u043a\\u043e\\u043c\\u0430\\u043d\\u0434 \\u0432 \\u0441\\u0432\\u043e\\u0435\\u0439 \\u0441\\u0444\\u0435\\u0440\\u0435\\n\\u2014 \\u0412\\u043e\\u0437\\u043c\\u043e\\u0436\\u043d\\u043e\\u0441\\u0442\\u044c \\u0432\\u044b\\u0431\\u043e\\u0440\\u0430 \\u043c\\u0435\\u0436\\u0434\\u0443 \\u043e\\u0444\\u0438\\u0441\\u043e\\u043c \\u0438 \\u0443\\u0434\\u0430\\u043b\\u0435\\u043d\\u043a\\u043e\\u0439\\n\\u2014 \\u0420\\u0430\\u0431\\u043e\\u0442\\u0430 \\u0432 \\u043f\\u0440\\u0438\\u044f\\u0442\\u043d\\u043e\\u0439 \\u0430\\u0442\\u043c\\u043e\\u0441\\u0444\\u0435\\u0440\\u0435 \\u0441\\u043e \\u0432\\u0441\\u0435\\u0439 \\u0430\\u0442\\u0440\\u0438\\u0431\\u0443\\u0442\\u0438\\u043a\\u043e\\u0439 \\u043b\\u0443\\u0447\\u0448\\u0438\\u0445 \\u043e\\u0444\\u0438\\u0441\\u043e\\u0432 \\u043f\\u043b\\u0430\\u043d\\u0435\\u0442\\u044b \\n\\u2014 \\u041a\\u0443\\u0440\\u0441\\u044b \\u043f\\u043e \\u043f\\u043e\\u0432\\u044b\\u0448\\u0435\\u043d\\u0438\\u044e \\u043a\\u0432\\u0430\\u043b\\u0438\\u0444\\u0438\\u043a\\u0430\\u0446\\u0438\\u0438 \\u043e\\u0442 \\u043a\\u043e\\u043c\\u043f\\u0430\\u043d\\u0438\\u0438\\n\\n\\u041a\\u043e\\u043d\\u0442\\u0430\\u043a\\u0442\\u044b: @danilavaren\",\n          \"#junior #vacancy #\\u0432\\u0430\\u043a\\u0430\\u043d\\u0441\\u0438\\u044f #recruiter\\n\\nJunior IT Recruiter\\nFull-time | Remote\\n\\n\\u041f\\u0440\\u0438\\u0432\\u0435\\u0442! \\ud83d\\udc4b\\n\\u041c\\u0435\\u043d\\u044f \\u0437\\u043e\\u0432\\u0443\\u0442 \\u041d\\u0430\\u0441\\u0442\\u044f, \\u044f \\u0440\\u0435\\u043a\\u0440\\u0443\\u0442\\u0435\\u0440 \\u043a\\u043e\\u043c\\u043f\\u0430\\u043d\\u0438\\u0438 AIPeople. \\u041d\\u0430\\u0448\\u0430 \\u043a\\u043e\\u043c\\u0430\\u043d\\u0434\\u0430 \\u0437\\u0430\\u043d\\u0438\\u043c\\u0430\\u0435\\u0442\\u0441\\u044f \\u043f\\u0435\\u0440\\u0435\\u0434\\u043e\\u0432\\u044b\\u043c\\u0438 \\u043f\\u0440\\u043e\\u0435\\u043a\\u0442\\u0430\\u043c\\u0438 \\u0432 \\u0441\\u0444\\u0435\\u0440\\u0435 \\u0444\\u0438\\u043d\\u0442\\u0435\\u0445\\u0430. ML \\u0438 \\u0431\\u043b\\u043e\\u043a\\u0447\\u0435\\u0439\\u043d - \\u044d\\u0442\\u043e \\u043d\\u0430\\u0448\\u0430 \\u0441\\u0442\\u0438\\u0445\\u0438\\u044f. \\u0420\\u0430\\u0431\\u043e\\u0442\\u0430\\u0435\\u043c \\u0438\\u0437 \\u043e\\u0444\\u0438\\u0441\\u043e\\u0432 \\u0432 \\u041f\\u0435\\u0442\\u0435\\u0440\\u0431\\u0443\\u0440\\u0433\\u0435, \\u043d\\u0430 \\u041a\\u0438\\u043f\\u0440\\u0435 \\u0438 \\u0443\\u0434\\u0430\\u043b\\u0435\\u043d\\u043d\\u043e.\\n\\u0421\\u0435\\u0439\\u0447\\u0430\\u0441 \\u043c\\u044b \\u0438\\u0449\\u0435\\u043c \\u0432 \\u043d\\u0430\\u0448\\u0443 \\u043a\\u043e\\u043c\\u0430\\u043d\\u0434\\u0443 Junior IT Recruiter.\\n\\u041c\\u044b \\u0433\\u043e\\u0442\\u043e\\u0432\\u044b \\u0440\\u0430\\u0441\\u0441\\u043c\\u043e\\u0442\\u0440\\u0435\\u0442\\u044c \\u043a\\u0430\\u043d\\u0434\\u0438\\u0434\\u0430\\u0442\\u043e\\u0432 \\u0441 \\u043c\\u0438\\u043d\\u0438\\u043c\\u0430\\u043b\\u044c\\u043d\\u044b\\u043c \\u043e\\u043f\\u044b\\u0442\\u043e\\u043c \\u0432 IT \\u043f\\u043e\\u0434\\u0431\\u043e\\u0440\\u0435, \\u043d\\u043e \\u0431\\u043e\\u043b\\u044c\\u0448\\u0438\\u043c \\u0436\\u0435\\u043b\\u0430\\u043d\\u0438\\u0435\\u043c \\u0440\\u0430\\u0437\\u0432\\u0438\\u0432\\u0430\\u0442\\u044c\\u0441\\u044f \\u0432 \\u044d\\u0442\\u043e\\u043c \\u043d\\u0430\\u043f\\u0440\\u0430\\u0432\\u043b\\u0435\\u043d\\u0438\\u0438. \\u0423 \\u043d\\u0430\\u0441 \\u043d\\u0435\\u0431\\u043e\\u043b\\u044c\\u0448\\u0430\\u044f \\u043a\\u043e\\u043c\\u0430\\u043d\\u0434\\u0430 \\u0438\\u0437 2\\u0445 \\u0447\\u0435\\u043b\\u043e\\u0432\\u0435\\u043a, \\u0431\\u0443\\u0434\\u0435\\u043c \\u0440\\u0430\\u0434\\u044b, \\u0435\\u0441\\u043b\\u0438 \\u0442\\u044b \\u0442\\u043e\\u0436\\u0435 \\u043a \\u043d\\u0430\\u043c \\u043f\\u0440\\u0438\\u0441\\u043e\\u0435\\u0434\\u0438\\u043d\\u0438\\u0448\\u044c\\u0441\\u044f!\\n\\u0421\\u043f\\u0435\\u043a\\u0442\\u0440 \\u0437\\u0430\\u0434\\u0430\\u0447 \\u043d\\u0430 \\u043f\\u043e\\u0437\\u0438\\u0446\\u0438\\u044e \\u0434\\u043e\\u0432\\u043e\\u043b\\u044c\\u043d\\u043e \\u0441\\u0442\\u0430\\u043d\\u0434\\u0430\\u0440\\u0442\\u043d\\u044b\\u0439. \\u0427\\u0442\\u043e \\u0432\\u0430\\u0436\\u043d\\u0435\\u0435 - \\u044d\\u0442\\u043e \\u0442\\u0432\\u043e\\u0439 \\u043f\\u043e\\u0434\\u0445\\u043e\\u0434 \\u043a \\u0440\\u0430\\u0431\\u043e\\u0442\\u0435, \\u0441\\u0430\\u043c\\u043e\\u0441\\u0442\\u043e\\u044f\\u0442\\u0435\\u043b\\u044c\\u043d\\u043e\\u0441\\u0442\\u044c \\u0438 \\u0436\\u0435\\u043b\\u0430\\u043d\\u0438\\u0435 \\u0434\\u043e\\u0441\\u0442\\u0438\\u0447\\u044c \\u0440\\u0435\\u0437\\u0443\\u043b\\u044c\\u0442\\u0430\\u0442\\u0430!\\n\\n\\u0427\\u0435\\u043c \\u043f\\u0440\\u0435\\u0434\\u0441\\u0442\\u043e\\u0438\\u0442 \\u0437\\u0430\\u043d\\u0438\\u043c\\u0430\\u0442\\u044c\\u0441\\u044f:\\n \\u2022 \\u0421\\u043d\\u044f\\u0442\\u0438\\u0435 \\u0437\\u0430\\u044f\\u0432\\u043a\\u0438 \\u043d\\u0430 \\u0432\\u0430\\u043a\\u0430\\u043d\\u0441\\u0438\\u044e, \\u0444\\u043e\\u0440\\u043c\\u0438\\u0440\\u043e\\u0432\\u0430\\u043d\\u0438\\u0435 \\u043f\\u0440\\u043e\\u0444\\u0438\\u043b\\u044f \\u043f\\u043e\\u0434\\u0445\\u043e\\u0434\\u044f\\u0449\\u0435\\u0433\\u043e \\u043a\\u0430\\u043d\\u0434\\u0438\\u0434\\u0430\\u0442\\u0430;\\n \\u2022 \\u0424\\u043e\\u0440\\u043c\\u0438\\u0440\\u043e\\u0432\\u0430\\u043d\\u0438\\u0435 \\u043f\\u0443\\u043b\\u0430 \\u043a\\u0430\\u043d\\u0434\\u0438\\u0434\\u0430\\u0442\\u043e\\u0432 \\u0438\\u0441\\u043f\\u043e\\u043b\\u044c\\u0437\\u0443\\u044f \\u0440\\u0430\\u0437\\u043b\\u0438\\u0447\\u043d\\u044b\\u0435 \\u0438\\u0441\\u0442\\u043e\\u0447\\u043d\\u0438\\u043a\\u0438, \\u043f\\u0435\\u0440\\u0432\\u044b\\u0439 \\u043a\\u043e\\u043d\\u0442\\u0430\\u043a\\u0442 \\u0441 \\u043d\\u0438\\u043c\\u0438;\\n \\u2022 \\u0412\\u0435\\u0434\\u0435\\u043d\\u0438\\u0435 \\u043a\\u0430\\u043d\\u0434\\u0438\\u0434\\u0430\\u0442\\u0430 \\u043f\\u043e \\u0432\\u0441\\u0435\\u043c \\u044d\\u0442\\u0430\\u043f\\u0430\\u043c \\u0434\\u043e \\u043e\\u0444\\u0444\\u0435\\u0440\\u0430, \\u043f\\u0440\\u0435\\u0434\\u043e\\u0441\\u0442\\u0430\\u0432\\u043b\\u0435\\u043d\\u0438\\u0435 \\u043e\\u043f\\u0435\\u0440\\u0430\\u0442\\u0438\\u0432\\u043d\\u043e\\u0439 \\u043e\\u0431\\u0440\\u0430\\u0442\\u043d\\u043e\\u0439 \\u0441\\u0432\\u044f\\u0437\\u0438;\\n \\u2022 \\u0412\\u0435\\u0434\\u0435\\u043d\\u0438\\u0435 \\u0431\\u0430\\u0437\\u044b \\u043a\\u0430\\u043d\\u0434\\u0438\\u0434\\u0430\\u0442\\u043e\\u0432 (\\u0443 \\u043d\\u0430\\u0441 Huntflow);\\n \\u2022 \\u041c\\u043e\\u043d\\u0438\\u0442\\u043e\\u0440\\u0438\\u043d\\u0433 \\u0438 \\u0430\\u043d\\u0430\\u043b\\u0438\\u0437 \\u0440\\u044b\\u043d\\u043a\\u0430.\\n\\n\\u0427\\u0442\\u043e \\u043c\\u044b \\u0438\\u0449\\u0435\\u043c \\u0432 \\u0441\\u0432\\u043e\\u0435\\u043c \\u0431\\u0443\\u0434\\u0443\\u0449\\u0435\\u043c \\u043a\\u043e\\u043b\\u043b\\u0435\\u0433\\u0435:\\n \\u2022 \\u041e\\u043f\\u044b\\u0442 \\u0440\\u0430\\u0431\\u043e\\u0442\\u044b IT \\u0440\\u0435\\u043a\\u0440\\u0443\\u0442\\u0435\\u0440\\u043e\\u043c \\u043e\\u0442 \\u043f\\u043e\\u043b\\u0443\\u0433\\u043e\\u0434\\u0430;\\n \\u2022 \\u0421\\u0430\\u043c\\u043e\\u0441\\u0442\\u043e\\u044f\\u0442\\u0435\\u043b\\u044c\\u043d\\u043e\\u0441\\u0442\\u044c;\\n \\u2022 \\u0422\\u044b \\u0447\\u0438\\u0442\\u0430\\u0435\\u0448\\u044c \\u0441\\u0442\\u0430\\u0442\\u044c\\u0438 \\u0438 \\u0442\\u0433 \\u043a\\u0430\\u043d\\u0430\\u043b\\u044b \\u043f\\u043e \\u0442\\u0435\\u043c\\u0435, \\u0441\\u043b\\u0443\\u0448\\u0430\\u0435\\u0448\\u044c \\u043f\\u043e\\u0434\\u043a\\u0430\\u0441\\u0442\\u044b, \\u0443 \\u0442\\u0435\\u0431\\u044f \\u0435\\u0441\\u0442\\u044c \\u043f\\u0440\\u043e\\u0444\\u0435\\u0441\\u0441\\u0438\\u043e\\u043d\\u0430\\u043b\\u044c\\u043d\\u044b\\u0435 \\u0446\\u0435\\u043b\\u0438;\\n \\u2022 \\u0423 \\u0442\\u0435\\u0431\\u044f \\u0440\\u0430\\u0437\\u0432\\u0438\\u0442\\u0430\\u044f \\u044d\\u043c\\u043f\\u0430\\u0442\\u0438\\u044f \\u0438 \\u044d\\u043c\\u043e\\u0446\\u0438\\u043e\\u043d\\u0430\\u043b\\u044c\\u043d\\u044b\\u0439 \\u0438\\u043d\\u0442\\u0435\\u043b\\u043b\\u0435\\u043a\\u0442;\\n \\u2022 \\u0422\\u044b \\u043f\\u043e\\u0434\\u0445\\u043e\\u0434\\u0438\\u0448\\u044c \\u043a \\u0440\\u0430\\u0431\\u043e\\u0442\\u0435 \\u043e\\u0442\\u0432\\u0435\\u0442\\u0441\\u0442\\u0432\\u0435\\u043d\\u043d\\u043e \\u0438 \\u0441 \\u0434\\u0443\\u0448\\u043e\\u0439.\\n\\n\\u0427\\u0442\\u043e \\u043c\\u044b \\u043a\\u0430\\u043a \\u043a\\u043e\\u043c\\u043f\\u0430\\u043d\\u0438\\u044f \\u043c\\u043e\\u0436\\u0435\\u043c \\u0442\\u0435\\u0431\\u0435 \\u043f\\u0440\\u0435\\u0434\\u043b\\u043e\\u0436\\u0438\\u0442\\u044c:\\n \\u2022 AIPeople - \\u043a\\u043e\\u043c\\u043f\\u0430\\u043d\\u0438\\u044f \\u0441 \\u0433\\u0438\\u0431\\u043a\\u0438\\u043c\\u0438 \\u043f\\u043e\\u0434\\u0445\\u043e\\u0434\\u0430\\u043c\\u0438, \\u0441 \\u0431\\u043e\\u043b\\u044c\\u0448\\u043e\\u0439 \\u0441\\u0432\\u043e\\u0431\\u043e\\u0434\\u043e\\u0439 \\u0438 \\u043e\\u0442\\u0432\\u0435\\u0442\\u0441\\u0442\\u0432\\u0435\\u043d\\u043d\\u043e\\u0441\\u0442\\u044c\\u044e \\u0443 \\u043a\\u0430\\u0436\\u0434\\u043e\\u0433\\u043e. \\u0415\\u0434\\u0438\\u043d\\u0441\\u0442\\u0432\\u0435\\u043d\\u043d\\u043e\\u0435, \\u0447\\u0442\\u043e \\u0443 \\u043d\\u0430\\u0441 \\u043e\\u0442\\u0441\\u0443\\u0442\\u0441\\u0442\\u0432\\u0443\\u0435\\u0442 - \\u044d\\u0442\\u043e \\u0431\\u044e\\u0440\\u043e\\u043a\\u0440\\u0430\\u0442\\u0438\\u044f\\n \\u2022 \\u041e\\u043f\\u044b\\u0442 \\u0440\\u0430\\u0431\\u043e\\u0442\\u044b \\u0441 \\u0443\\u043c\\u043d\\u044b\\u043c\\u0438 \\u043b\\u044e\\u0434\\u044c\\u043c\\u0438 \\u0438, \\u0441\\u043e\\u043e\\u0442\\u0432\\u0435\\u0442\\u0441\\u0442\\u0432\\u0435\\u043d\\u043d\\u043e, \\u0441 \\u043d\\u0435\\u0442\\u0440\\u0438\\u0432\\u0438\\u0430\\u043b\\u044c\\u043d\\u044b\\u043c\\u0438 \\u0442\\u0435\\u0445\\u043d\\u043e\\u043b\\u043e\\u0433\\u0438\\u044f\\u043c;\\n \\u2022 \\u0412\\u043e\\u0437\\u043c\\u043e\\u0436\\u043d\\u043e\\u0441\\u0442\\u044c \\u0440\\u0430\\u0431\\u043e\\u0442\\u0430\\u0442\\u044c \\u0443\\u0434\\u0430\\u043b\\u0435\\u043d\\u043d\\u043e, \\u0438\\u0437 \\u043b\\u044e\\u0431\\u043e\\u0439 \\u0443\\u0434\\u043e\\u0431\\u043d\\u043e\\u0439 \\u0434\\u043b\\u044f \\u0442\\u0435\\u0431\\u044f \\u043b\\u043e\\u043a\\u0430\\u0446\\u0438\\u0438\\n\\n\\u0415\\u0441\\u043b\\u0438 \\u0438\\u043d\\u0442\\u0435\\u0440\\u0435\\u0441\\u043d\\u043e \\u0441 \\u043d\\u0430\\u043c\\u0438 \\u043f\\u043e\\u0440\\u0430\\u0431\\u043e\\u0442\\u0430\\u0442\\u044c - \\u043e\\u0442\\u043a\\u043b\\u0438\\u043a\\u0430\\u0439\\u0441\\u044f \\u0438 \\u043e\\u0431\\u044f\\u0437\\u0430\\u0442\\u0435\\u043b\\u044c\\u043d\\u043e \\u043d\\u0430\\u043f\\u0438\\u0448\\u0438 \\u0432 \\u0441\\u043e\\u043f\\u0440\\u043e\\u0432\\u043e\\u0434\\u0438\\u0442\\u0435\\u043b\\u044c\\u043d\\u043e\\u043c \\u043f\\u0438\\u0441\\u044c\\u043c\\u0435 \\u043a\\u0430\\u043a\\u0438\\u043c\\u0438 \\u043d\\u0435\\u0441\\u0442\\u0430\\u043d\\u0434\\u0430\\u0440\\u0442\\u043d\\u044b\\u0435 \\u0438\\u043d\\u0441\\u0442\\u0440\\u0443\\u043c\\u0435\\u043d\\u0442\\u044b \\u043f\\u043e\\u0438\\u0441\\u043a\\u0430 \\u0442\\u044b \\u0438\\u0441\\u043f\\u043e\\u043b\\u044c\\u0437\\u0443\\u0435\\u0448\\u044c \\u0438 \\u0447\\u0435\\u0440\\u0435\\u0437 \\u043a\\u0430\\u043a\\u043e\\u0439 \\u0441\\u0430\\u043c\\u044b\\u0439 \\u043d\\u0435\\u0442\\u0440\\u0438\\u0432\\u0438\\u0430\\u043b\\u044c\\u043d\\u044b\\u0439 \\u0440\\u0435\\u0441\\u0443\\u0440\\u0441 \\u0442\\u0435\\u0431\\u0435 \\u0443\\u0434\\u0430\\u043b\\u043e\\u0441\\u044c \\u0437\\u0430\\u043a\\u0440\\u044b\\u0442\\u044c \\u0432\\u0430\\u043a\\u0430\\u043d\\u0441\\u0438\\u044e.\\n\\n\\u041a\\u043e\\u043d\\u0442\\u0430\\u043a\\u0442 \\u0434\\u043b\\u044f \\u043e\\u0442\\u043a\\u043b\\u0438\\u043a\\u0430: @nastyaishiring\"\n        ],\n        \"semantic_type\": \"\",\n        \"description\": \"\"\n      }\n    }\n  ]\n}"
            }
          },
          "metadata": {},
          "execution_count": 2
        }
      ]
    },
    {
      "cell_type": "code",
      "source": [
        "from langchain import PromptTemplate\n",
        "\n",
        "template = \"\"\"Ответь на вопрос, исходя из контекста ниже\n",
        "в стиле {style}. Если на вопрос невозможно ответить,\n",
        "используя предоставленную информацию ответь {no_answer}.\n",
        "\n",
        "Context: {context}\n",
        "\n",
        "Question: {query}\n",
        "\n",
        "Answer: \"\"\"\n",
        "\n",
        "prompt_template = PromptTemplate(\n",
        "    input_variables=[\"style\", \"no_answer\", \"context\", \"query\"],\n",
        "    template=template\n",
        ")"
      ],
      "metadata": {
        "id": "2AT3EDvkguqS"
      },
      "execution_count": null,
      "outputs": [],
      "id": "2AT3EDvkguqS"
    },
    {
      "cell_type": "code",
      "source": [
        "prompt_template = \"\"\"тебе будет передан текст сообщения. Очень вероятно, что он будет содеражть тематику криптовалют. Опередели по содерданию является ли текст спамом\n",
        "Context: {text_input}\n",
        "Question: Это спам?\n",
        "Answer: Если спам верни 1, если нет - верни 0. Ничего кроме цифр\n",
        "\n",
        "\"\"\"\n"
      ],
      "metadata": {
        "colab": {
          "base_uri": "https://localhost:8080/",
          "height": 206
        },
        "id": "j7TZRrhySja6",
        "outputId": "49a98aea-c55b-4c19-c4b3-c2e2c95c2a4a"
      },
      "id": "j7TZRrhySja6",
      "execution_count": 25,
      "outputs": [
        {
          "output_type": "execute_result",
          "data": {
            "text/plain": [
              "   text_id                                               text\n",
              "0      143              Удаленная работа. От нас: Зп от 2500$\n",
              "1      179  Что вы думаете о концепции децентрализованных ...\n",
              "2      147  Удалённый заработок. Время 1-2часа в день. Мож...\n",
              "3      157  Меня всегда интересовал вопрос безопасности хр...\n",
              "4      168  Я слышал, что некоторые банки начали экспериме..."
            ],
            "text/html": [
              "\n",
              "  <div id=\"df-8291c82d-8e5e-4ff9-8272-6bfbe21b59b6\" class=\"colab-df-container\">\n",
              "    <div>\n",
              "<style scoped>\n",
              "    .dataframe tbody tr th:only-of-type {\n",
              "        vertical-align: middle;\n",
              "    }\n",
              "\n",
              "    .dataframe tbody tr th {\n",
              "        vertical-align: top;\n",
              "    }\n",
              "\n",
              "    .dataframe thead th {\n",
              "        text-align: right;\n",
              "    }\n",
              "</style>\n",
              "<table border=\"1\" class=\"dataframe\">\n",
              "  <thead>\n",
              "    <tr style=\"text-align: right;\">\n",
              "      <th></th>\n",
              "      <th>text_id</th>\n",
              "      <th>text</th>\n",
              "    </tr>\n",
              "  </thead>\n",
              "  <tbody>\n",
              "    <tr>\n",
              "      <th>0</th>\n",
              "      <td>143</td>\n",
              "      <td>Удаленная работа. От нас: Зп от 2500$</td>\n",
              "    </tr>\n",
              "    <tr>\n",
              "      <th>1</th>\n",
              "      <td>179</td>\n",
              "      <td>Что вы думаете о концепции децентрализованных ...</td>\n",
              "    </tr>\n",
              "    <tr>\n",
              "      <th>2</th>\n",
              "      <td>147</td>\n",
              "      <td>Удалённый заработок. Время 1-2часа в день. Мож...</td>\n",
              "    </tr>\n",
              "    <tr>\n",
              "      <th>3</th>\n",
              "      <td>157</td>\n",
              "      <td>Меня всегда интересовал вопрос безопасности хр...</td>\n",
              "    </tr>\n",
              "    <tr>\n",
              "      <th>4</th>\n",
              "      <td>168</td>\n",
              "      <td>Я слышал, что некоторые банки начали экспериме...</td>\n",
              "    </tr>\n",
              "  </tbody>\n",
              "</table>\n",
              "</div>\n",
              "    <div class=\"colab-df-buttons\">\n",
              "\n",
              "  <div class=\"colab-df-container\">\n",
              "    <button class=\"colab-df-convert\" onclick=\"convertToInteractive('df-8291c82d-8e5e-4ff9-8272-6bfbe21b59b6')\"\n",
              "            title=\"Convert this dataframe to an interactive table.\"\n",
              "            style=\"display:none;\">\n",
              "\n",
              "  <svg xmlns=\"http://www.w3.org/2000/svg\" height=\"24px\" viewBox=\"0 -960 960 960\">\n",
              "    <path d=\"M120-120v-720h720v720H120Zm60-500h600v-160H180v160Zm220 220h160v-160H400v160Zm0 220h160v-160H400v160ZM180-400h160v-160H180v160Zm440 0h160v-160H620v160ZM180-180h160v-160H180v160Zm440 0h160v-160H620v160Z\"/>\n",
              "  </svg>\n",
              "    </button>\n",
              "\n",
              "  <style>\n",
              "    .colab-df-container {\n",
              "      display:flex;\n",
              "      gap: 12px;\n",
              "    }\n",
              "\n",
              "    .colab-df-convert {\n",
              "      background-color: #E8F0FE;\n",
              "      border: none;\n",
              "      border-radius: 50%;\n",
              "      cursor: pointer;\n",
              "      display: none;\n",
              "      fill: #1967D2;\n",
              "      height: 32px;\n",
              "      padding: 0 0 0 0;\n",
              "      width: 32px;\n",
              "    }\n",
              "\n",
              "    .colab-df-convert:hover {\n",
              "      background-color: #E2EBFA;\n",
              "      box-shadow: 0px 1px 2px rgba(60, 64, 67, 0.3), 0px 1px 3px 1px rgba(60, 64, 67, 0.15);\n",
              "      fill: #174EA6;\n",
              "    }\n",
              "\n",
              "    .colab-df-buttons div {\n",
              "      margin-bottom: 4px;\n",
              "    }\n",
              "\n",
              "    [theme=dark] .colab-df-convert {\n",
              "      background-color: #3B4455;\n",
              "      fill: #D2E3FC;\n",
              "    }\n",
              "\n",
              "    [theme=dark] .colab-df-convert:hover {\n",
              "      background-color: #434B5C;\n",
              "      box-shadow: 0px 1px 3px 1px rgba(0, 0, 0, 0.15);\n",
              "      filter: drop-shadow(0px 1px 2px rgba(0, 0, 0, 0.3));\n",
              "      fill: #FFFFFF;\n",
              "    }\n",
              "  </style>\n",
              "\n",
              "    <script>\n",
              "      const buttonEl =\n",
              "        document.querySelector('#df-8291c82d-8e5e-4ff9-8272-6bfbe21b59b6 button.colab-df-convert');\n",
              "      buttonEl.style.display =\n",
              "        google.colab.kernel.accessAllowed ? 'block' : 'none';\n",
              "\n",
              "      async function convertToInteractive(key) {\n",
              "        const element = document.querySelector('#df-8291c82d-8e5e-4ff9-8272-6bfbe21b59b6');\n",
              "        const dataTable =\n",
              "          await google.colab.kernel.invokeFunction('convertToInteractive',\n",
              "                                                    [key], {});\n",
              "        if (!dataTable) return;\n",
              "\n",
              "        const docLinkHtml = 'Like what you see? Visit the ' +\n",
              "          '<a target=\"_blank\" href=https://colab.research.google.com/notebooks/data_table.ipynb>data table notebook</a>'\n",
              "          + ' to learn more about interactive tables.';\n",
              "        element.innerHTML = '';\n",
              "        dataTable['output_type'] = 'display_data';\n",
              "        await google.colab.output.renderOutput(dataTable, element);\n",
              "        const docLink = document.createElement('div');\n",
              "        docLink.innerHTML = docLinkHtml;\n",
              "        element.appendChild(docLink);\n",
              "      }\n",
              "    </script>\n",
              "  </div>\n",
              "\n",
              "\n",
              "<div id=\"df-4021b0b7-dc68-4606-8ad6-4392f7b1ba4e\">\n",
              "  <button class=\"colab-df-quickchart\" onclick=\"quickchart('df-4021b0b7-dc68-4606-8ad6-4392f7b1ba4e')\"\n",
              "            title=\"Suggest charts\"\n",
              "            style=\"display:none;\">\n",
              "\n",
              "<svg xmlns=\"http://www.w3.org/2000/svg\" height=\"24px\"viewBox=\"0 0 24 24\"\n",
              "     width=\"24px\">\n",
              "    <g>\n",
              "        <path d=\"M19 3H5c-1.1 0-2 .9-2 2v14c0 1.1.9 2 2 2h14c1.1 0 2-.9 2-2V5c0-1.1-.9-2-2-2zM9 17H7v-7h2v7zm4 0h-2V7h2v10zm4 0h-2v-4h2v4z\"/>\n",
              "    </g>\n",
              "</svg>\n",
              "  </button>\n",
              "\n",
              "<style>\n",
              "  .colab-df-quickchart {\n",
              "      --bg-color: #E8F0FE;\n",
              "      --fill-color: #1967D2;\n",
              "      --hover-bg-color: #E2EBFA;\n",
              "      --hover-fill-color: #174EA6;\n",
              "      --disabled-fill-color: #AAA;\n",
              "      --disabled-bg-color: #DDD;\n",
              "  }\n",
              "\n",
              "  [theme=dark] .colab-df-quickchart {\n",
              "      --bg-color: #3B4455;\n",
              "      --fill-color: #D2E3FC;\n",
              "      --hover-bg-color: #434B5C;\n",
              "      --hover-fill-color: #FFFFFF;\n",
              "      --disabled-bg-color: #3B4455;\n",
              "      --disabled-fill-color: #666;\n",
              "  }\n",
              "\n",
              "  .colab-df-quickchart {\n",
              "    background-color: var(--bg-color);\n",
              "    border: none;\n",
              "    border-radius: 50%;\n",
              "    cursor: pointer;\n",
              "    display: none;\n",
              "    fill: var(--fill-color);\n",
              "    height: 32px;\n",
              "    padding: 0;\n",
              "    width: 32px;\n",
              "  }\n",
              "\n",
              "  .colab-df-quickchart:hover {\n",
              "    background-color: var(--hover-bg-color);\n",
              "    box-shadow: 0 1px 2px rgba(60, 64, 67, 0.3), 0 1px 3px 1px rgba(60, 64, 67, 0.15);\n",
              "    fill: var(--button-hover-fill-color);\n",
              "  }\n",
              "\n",
              "  .colab-df-quickchart-complete:disabled,\n",
              "  .colab-df-quickchart-complete:disabled:hover {\n",
              "    background-color: var(--disabled-bg-color);\n",
              "    fill: var(--disabled-fill-color);\n",
              "    box-shadow: none;\n",
              "  }\n",
              "\n",
              "  .colab-df-spinner {\n",
              "    border: 2px solid var(--fill-color);\n",
              "    border-color: transparent;\n",
              "    border-bottom-color: var(--fill-color);\n",
              "    animation:\n",
              "      spin 1s steps(1) infinite;\n",
              "  }\n",
              "\n",
              "  @keyframes spin {\n",
              "    0% {\n",
              "      border-color: transparent;\n",
              "      border-bottom-color: var(--fill-color);\n",
              "      border-left-color: var(--fill-color);\n",
              "    }\n",
              "    20% {\n",
              "      border-color: transparent;\n",
              "      border-left-color: var(--fill-color);\n",
              "      border-top-color: var(--fill-color);\n",
              "    }\n",
              "    30% {\n",
              "      border-color: transparent;\n",
              "      border-left-color: var(--fill-color);\n",
              "      border-top-color: var(--fill-color);\n",
              "      border-right-color: var(--fill-color);\n",
              "    }\n",
              "    40% {\n",
              "      border-color: transparent;\n",
              "      border-right-color: var(--fill-color);\n",
              "      border-top-color: var(--fill-color);\n",
              "    }\n",
              "    60% {\n",
              "      border-color: transparent;\n",
              "      border-right-color: var(--fill-color);\n",
              "    }\n",
              "    80% {\n",
              "      border-color: transparent;\n",
              "      border-right-color: var(--fill-color);\n",
              "      border-bottom-color: var(--fill-color);\n",
              "    }\n",
              "    90% {\n",
              "      border-color: transparent;\n",
              "      border-bottom-color: var(--fill-color);\n",
              "    }\n",
              "  }\n",
              "</style>\n",
              "\n",
              "  <script>\n",
              "    async function quickchart(key) {\n",
              "      const quickchartButtonEl =\n",
              "        document.querySelector('#' + key + ' button');\n",
              "      quickchartButtonEl.disabled = true;  // To prevent multiple clicks.\n",
              "      quickchartButtonEl.classList.add('colab-df-spinner');\n",
              "      try {\n",
              "        const charts = await google.colab.kernel.invokeFunction(\n",
              "            'suggestCharts', [key], {});\n",
              "      } catch (error) {\n",
              "        console.error('Error during call to suggestCharts:', error);\n",
              "      }\n",
              "      quickchartButtonEl.classList.remove('colab-df-spinner');\n",
              "      quickchartButtonEl.classList.add('colab-df-quickchart-complete');\n",
              "    }\n",
              "    (() => {\n",
              "      let quickchartButtonEl =\n",
              "        document.querySelector('#df-4021b0b7-dc68-4606-8ad6-4392f7b1ba4e button');\n",
              "      quickchartButtonEl.style.display =\n",
              "        google.colab.kernel.accessAllowed ? 'block' : 'none';\n",
              "    })();\n",
              "  </script>\n",
              "</div>\n",
              "    </div>\n",
              "  </div>\n"
            ],
            "application/vnd.google.colaboratory.intrinsic+json": {
              "type": "dataframe",
              "variable_name": "df",
              "summary": "{\n  \"name\": \"df\",\n  \"rows\": 100,\n  \"fields\": [\n    {\n      \"column\": \"text_id\",\n      \"properties\": {\n        \"dtype\": \"number\",\n        \"std\": 87,\n        \"min\": 2,\n        \"max\": 295,\n        \"num_unique_values\": 100,\n        \"samples\": [\n          190,\n          12,\n          18\n        ],\n        \"semantic_type\": \"\",\n        \"description\": \"\"\n      }\n    },\n    {\n      \"column\": \"text\",\n      \"properties\": {\n        \"dtype\": \"string\",\n        \"num_unique_values\": 100,\n        \"samples\": [\n          \"\\u041a\\u0430\\u043a\\u0438\\u0435 \\u0430\\u043b\\u044c\\u0442\\u043a\\u043e\\u0439\\u043d\\u044b \\u0432\\u0430\\u0441 \\u0437\\u0430\\u0438\\u043d\\u0442\\u0435\\u0440\\u0435\\u0441\\u043e\\u0432\\u0430\\u043b\\u0438 \\u0432 \\u043f\\u043e\\u0441\\u043b\\u0435\\u0434\\u043d\\u0435\\u0435 \\u0432\\u0440\\u0435\\u043c\\u044f?\",\n          \"\\u0418\\u0449\\u0443 \\u043f\\u0430\\u0440\\u0442\\u043d\\u0435\\u0440\\u043e\\u0432 \\u0432 \\u043d\\u043e\\u0432\\u044b\\u0439 \\u043f\\u0440\\u043e\\u0435\\u043a\\u0442. \\u0417\\u0430\\u0440\\u0430\\u0431\\u043e\\u0442\\u043e\\u043a \\u043e\\u0442 20-30% \\u0432 \\u043d\\u0435\\u0434\\u0435\\u043b\\u044e. \\u041e\\u0431\\u0443\\u0447\\u0430\\u044e \\u0438 \\u043f\\u043e\\u0434\\u0441\\u043a\\u0430\\u0437\\u044b\\u0432\\u0430\\u044e \\u0432\\u0435\\u0441\\u044c \\u043f\\u0435\\u0440\\u0438\\u043e\\u0434 \\u043e\\u0431\\u0443\\u0447\\u0435\\u043d\\u0438\\u044f. \\u041f\\u043e\\u0441\\u043b\\u0435 \\u043e\\u0431\\u0443\\u0447\\u0435\\u043d\\u0438\\u044f \\u043a \\u0432\\u0430\\u043c \\u0431\\u0443\\u0434\\u0435\\u0442 \\u043f\\u0440\\u0438\\u043a\\u0440\\u0435\\u043f\\u043b\\u0435\\u043d \\u043a\\u0443\\u0440\\u0430\\u0442\\u043e\\u0440. \\u0412\\u0441\\u0435\\u0433\\u043e 1-2 \\u0447\\u0430\\u0441\\u0430 \\u0432 \\u0434\\u0435\\u043d\\u044c. \\u0420\\u0430\\u0431\\u043e\\u0442\\u0430 \\u043d\\u0430 \\u0441\\u0432\\u043e\\u0438\\u0445 \\u0431\\u0438\\u0440\\u0436\\u0430\\u0445 \\u0441\\u043e \\u0441\\u0432\\u043e\\u0438\\u043c \\u043a\\u0430\\u043f\\u0438\\u0442\\u0430\\u043b\\u043e\\u043c \\u0411\\u0443\\u0434\\u0443 \\u0440\\u0430\\u0434 \\u043e\\u0442\\u0432\\u0435\\u0442\\u0438\\u0442\\u044c \\u043d\\u0430 \\u0432\\u0441\\u0435 \\u0432\\u043e\\u043f\\u0440\\u043e\\u0441\\u044b ,\\u043f\\u0438\\u0448\\u0438 \\u0432 \\u043b\\u0441\",\n          \"\\u041d\\u0435 \\u0443\\u043f\\u0443\\u0441\\u0442\\u0438\\u0442\\u0435 \\u044d\\u0442\\u043e\\u0442 \\u0443\\u043d\\u0438\\u043a\\u0430\\u043b\\u044c\\u043d\\u044b\\u0439 \\u0448\\u0430\\u043d\\u0441 \\u0432\\u044b\\u0438\\u0433\\u0440\\u0430\\u0442\\u044c 3000 USDT! \\u041f\\u0440\\u0438\\u0441\\u043e\\u0435\\u0434\\u0438\\u043d\\u044f\\u0439\\u0442\\u0435\\u0441\\u044c \\u043a \\u043d\\u0430\\u0448\\u0435\\u043c\\u0443 \\u0442\\u0435\\u043b\\u0435\\u0433\\u0440\\u0430\\u043c\\u043c \\u043a\\u0430\\u043d\\u0430\\u043b\\u0443 \\u043f\\u0440\\u044f\\u043c\\u043e \\u0441\\u0435\\u0439\\u0447\\u0430\\u0441 \\u0438 \\u0443\\u0447\\u0430\\u0441\\u0442\\u0432\\u0443\\u0439\\u0442\\u0435 \\u0432 \\u0440\\u043e\\u0437\\u044b\\u0433\\u0440\\u044b\\u0448\\u0435! Good luck!\"\n        ],\n        \"semantic_type\": \"\",\n        \"description\": \"\"\n      }\n    }\n  ]\n}"
            }
          },
          "metadata": {},
          "execution_count": 25
        }
      ]
    },
    {
      "cell_type": "markdown",
      "id": "72ec4823-31e6-45b1-9ff0-b720d01d658c",
      "metadata": {
        "id": "72ec4823-31e6-45b1-9ff0-b720d01d658c"
      },
      "source": [
        "# <center id=\"6\"> 🧸 Выводы и заключения ✅: <br>"
      ]
    },
    {
      "cell_type": "markdown",
      "id": "6814e62f-0e68-4c9e-b551-fd3a71a12d27",
      "metadata": {
        "id": "6814e62f-0e68-4c9e-b551-fd3a71a12d27"
      },
      "source": [
        "* В этом ноутбуке мы рассмотрели лишь несколько инструментов для создания промптов доступных в `LangChain`.\n",
        "* Методов гораздо больше и некоторые из них мы подробно рассмотрим в следующих ноутбуках.\n",
        "* Максимально эффективную подачу релевантных примеров при наличии большой базы знаний разберем дальше.\n",
        "* Самостоятельно можете прочитать подробнее в документации [LangChain](https://python.langchain.com/docs/get_started/introduction)."
      ]
    }
  ],
  "metadata": {
    "kernelspec": {
      "display_name": "cv",
      "language": "python",
      "name": "python3"
    },
    "language_info": {
      "codemirror_mode": {
        "name": "ipython",
        "version": 3
      },
      "file_extension": ".py",
      "mimetype": "text/x-python",
      "name": "python",
      "nbconvert_exporter": "python",
      "pygments_lexer": "ipython3",
      "version": "3.10.12"
    },
    "colab": {
      "provenance": []
    }
  },
  "nbformat": 4,
  "nbformat_minor": 5
}